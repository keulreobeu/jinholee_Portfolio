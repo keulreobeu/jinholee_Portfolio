{
 "cells": [
  {
   "cell_type": "markdown",
   "id": "e8e9ed2c",
   "metadata": {},
   "source": [
    "## 필요 데이터 전처리\n",
    "1.  두 데이터의 수집 속도가 다름(128hz vs 100hz)이를 학습하려면 동기화가 필요\n",
    "    -   업셈플링(3200hz)을 진행하면 데이터의 손실 없이 가능 하지만 연산량이 너무 많아짐\n",
    "    -   100hz 다운샘플링: tdcsfog에서 약간의 손실이 있지만 대부분의 데이터에서 손실없이 사용 가능\n",
    "    \n",
    "2.  사람이 분석한 라밸링은 오차가 들어갈 수 있고 라밸 경계의 모호함을 표현할 수 있어, 하드라밸링이 아닌 스무딩을 통해 소프트 라밸링으로 변환\n",
    "    -   다운 샘플링을 통해 희석되는 fog 라밸링 또한 소프트 라밸링을 통해 유지 가능\n",
    "3.  절대 이동량, 상대 이동량, 각 방향의 델타, 이동량 델타 추가: 단순한 각 축의 가속도 뿐 아니라 이동량, 변화량(델타)을 변수로 생성\n",
    "4.  변화량과 이동량을 텐서에 넣기 or 텐서 기준으로 \n",
    "5.  텐서 변환: 시계열의 특성을 반영과 딥러닝을 위하여 텐서로 변환"
   ]
  },
  {
   "cell_type": "markdown",
   "id": "0037e215",
   "metadata": {},
   "source": [
    "##### 파일 로드"
   ]
  },
  {
   "cell_type": "code",
   "execution_count": 21,
   "id": "b5a6787e",
   "metadata": {},
   "outputs": [],
   "source": [
    "import pandas as pd\n",
    "test_df = pd.read_csv(r'train\\tdcsfog\\0a89f859b5.csv')"
   ]
  },
  {
   "cell_type": "markdown",
   "id": "534b84d9",
   "metadata": {},
   "source": [
    "### 소프트 라벨링\n",
    "-   라벨링 방식: 연구자들이 환자의 비디오를 보고 FOG의 시작/종료 시점을 근거로 라밸링을 부여함\n",
    "-   경계 불확실: 사람의 판단에는 불가피한 휴먼 에러가 있어, 실제 지점과 주석 지점에 오차가 있을 수 있음\n",
    "-   소프트 라벨링: 시작/종료 경계구간만 완만히 스무딩 하고 내부는 하드 라벨링 유지\n",
    "-   목표: 모델이 경계의 불확실성을 학습하여 경계 깜빡임을 줄이고 성능을 높이는것을 목표함\n",
    "\n",
    "#### 소프트 라벨링 적용\n",
    "\n",
    "$$\n",
    "y(t)=\n",
    "\\begin{cases}\n",
    "0, & t < s-\\Delta, \\\\[4pt]\n",
    "\\displaystyle \\tfrac{1}{2}\\!\\left(1 - \\cos\\!\\frac{\\pi\\,(t - s + \\Delta)}{2\\Delta}\\right), \n",
    "& s-\\Delta \\le t \\le s+\\Delta, \\\\[8pt]\n",
    "1, & s+\\Delta < t < e-\\Delta, \\\\[4pt]\n",
    "\\displaystyle \\tfrac{1}{2}\\!\\left(1 + \\cos\\!\\frac{\\pi\\,(t - e + \\Delta)}{2\\Delta}\\right), \n",
    "& e-\\Delta \\le t \\le e+\\Delta, \\\\[8pt]\n",
    "0, & t > e+\\Delta.\n",
    "\\end{cases}\n",
    "$$\n",
    "t: 시간, s: 이벤트 시작 시간, e: 이벤트 종료 시간, Δ: 스무딩 구간 길이\n",
    "\n",
    "-   구간: 0.3, 0.2, 0.1(s)스무딩 적용\n",
    "-   방식: cos lapping 진행\n"
   ]
  },
  {
   "cell_type": "code",
   "execution_count": 12,
   "id": "5aa4b0a9",
   "metadata": {},
   "outputs": [],
   "source": [
    "import numpy as np\n",
    "import ruptures as rpt"
   ]
  },
  {
   "cell_type": "code",
   "execution_count": null,
   "id": "05b7ef00",
   "metadata": {},
   "outputs": [],
   "source": [
    "def search_boundary(a):\n",
    "    a = np.array(a)\n",
    "    point = np.flatnonzero(np.diff(a)) + 1\n",
    "    starts = point[a[point] == 1].astype(int).tolist()\n",
    "    ends = point[a[point] == 0].astype(int).tolist()\n",
    "    return starts, ends"
   ]
  },
  {
   "cell_type": "code",
   "execution_count": null,
   "id": "60e9be83",
   "metadata": {},
   "outputs": [],
   "source": [
    "def smoding(df, col, start_idxs, end_idxs):\n",
    "    "
   ]
  },
  {
   "cell_type": "code",
   "execution_count": 36,
   "id": "9bee8fbb",
   "metadata": {},
   "outputs": [],
   "source": [
    "a, b = search_boundary(test_df['Turn'])"
   ]
  },
  {
   "cell_type": "code",
   "execution_count": null,
   "id": "9e00a2f1",
   "metadata": {},
   "outputs": [],
   "source": [
    "def cosin_lapping_and_sampling(df, trens_hz=100, interval=0.2, folder=\"tdcsfog\"):\n",
    "    label_cols = ['StartHesitation','Turn','Walking', 'Event']\n",
    "    if folder in [\"tdcsfog\", \"defog\"]:\n",
    "        start = df[label_cols[0]]\n",
    "        turn = df[label_cols[1]]\n",
    "        walk = df[label_cols[2]]\n",
    "        cols = [start, turn, walk]\n",
    "        num = 3\n",
    "    elif folder == \"notype\":\n",
    "        event = np.array(df[label_cols[3]])\n",
    "        cols = [event]\n",
    "        num = 1\n",
    "    else:\n",
    "        print('라벨이 없습니다.')\n",
    "        return\n",
    "\n",
    "    if folder == 'tdcsfog':\n",
    "        hz = 128\n",
    "    else:\n",
    "        hz = 100\n",
    "\n",
    "    index_list = []\n",
    "    for col in cols:\n",
    "        s, e = search_boundary(col)\n",
    "        index_list.append((s,e))\n",
    "\n",
    "\n",
    "\n",
    "\n",
    "\n",
    "\n",
    "\n",
    "\n",
    "    return index_list\n",
    "        \n"
   ]
  },
  {
   "cell_type": "code",
   "execution_count": 46,
   "id": "ba2961d5",
   "metadata": {},
   "outputs": [
    {
     "data": {
      "text/plain": [
       "[([], []), ([2678], [3126]), ([], [])]"
      ]
     },
     "execution_count": 46,
     "metadata": {},
     "output_type": "execute_result"
    }
   ],
   "source": [
    "sam_list = cosin_lapping_and_sampling(test_df)\n",
    "sam_list"
   ]
  },
  {
   "cell_type": "code",
   "execution_count": 45,
   "id": "ef0d4c4d",
   "metadata": {},
   "outputs": [],
   "source": [
    "test2_df = pd.read_csv(r'train\\tdcsfog\\fd52a32229.csv')"
   ]
  },
  {
   "cell_type": "code",
   "execution_count": 47,
   "id": "ae8accbd",
   "metadata": {},
   "outputs": [
    {
     "data": {
      "text/plain": [
       "[([], []), ([4038, 8013], [4995, 8144]), ([], [])]"
      ]
     },
     "execution_count": 47,
     "metadata": {},
     "output_type": "execute_result"
    }
   ],
   "source": [
    "sam_list = cosin_lapping_and_sampling(test2_df)\n",
    "sam_list"
   ]
  }
 ],
 "metadata": {
  "kernelspec": {
   "display_name": "python 3.12",
   "language": "python",
   "name": "py312_jupyter"
  },
  "language_info": {
   "codemirror_mode": {
    "name": "ipython",
    "version": 3
   },
   "file_extension": ".py",
   "mimetype": "text/x-python",
   "name": "python",
   "nbconvert_exporter": "python",
   "pygments_lexer": "ipython3",
   "version": "3.12.11"
  }
 },
 "nbformat": 4,
 "nbformat_minor": 5
}
