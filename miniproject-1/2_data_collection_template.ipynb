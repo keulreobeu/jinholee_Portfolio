{
 "cells": [
  {
   "cell_type": "markdown",
   "metadata": {
    "id": "EegOYei1EadY"
   },
   "source": [
    "# [데이터 명세]"
   ]
  },
  {
   "attachments": {},
   "cell_type": "markdown",
   "metadata": {
    "id": "Wc2oLxrZK3qy"
   },
   "source": [
    "## [치매 고위험군 웨어러블 라이프로그]"
   ]
  },
  {
   "cell_type": "markdown",
   "metadata": {
    "id": "z0sK6sj1cJe8"
   },
   "source": [
    "### 1.   데이터 정의"
   ]
  },
  {
   "attachments": {},
   "cell_type": "markdown",
   "metadata": {
    "id": "fPDOs11pcoIE"
   },
   "source": [
    "*   AI-Hub에서 제공하는 치매 고위험군 웨어러블 라이프로그 데이터\n",
    "*   치매 고위험군의 걸음걸이, 수면, 인지기능 이 존재함"
   ]
  },
  {
   "cell_type": "markdown",
   "metadata": {
    "id": "xqMJWyv7CtjL"
   },
   "source": [
    "### 2. 수집 방법\n",
    "\n",
    "\n",
    "\n"
   ]
  },
  {
   "attachments": {},
   "cell_type": "markdown",
   "metadata": {
    "id": "pqS3op0JPAB_"
   },
   "source": []
  },
  {
   "cell_type": "markdown",
   "metadata": {
    "id": "lSQgQa0RPqVs"
   },
   "source": [
    "### 3.   수집 경로"
   ]
  },
  {
   "attachments": {},
   "cell_type": "markdown",
   "metadata": {
    "id": "HlKHPGvMPqVt"
   },
   "source": [
    "[AI-Hub](https://www.aihub.or.kr/aihubdata/data/view.do?pageIndex=1&currMenu=&topMenu=&srchOptnCnd=OPTNCND001&searchKeyword=%EC%84%BC%EC%84%9C&srchDetailCnd=DETAILCND001&srchOrder=ORDER002&srchPagePer=20&srchDataRealmCode=REALM006&aihubDataSe=data&dataSetSn=226)에서 제공하는 데이터 사용"
   ]
  },
  {
   "cell_type": "markdown",
   "metadata": {
    "id": "R_6sgU_Uf2_O"
   },
   "source": [
    "### 4.   데이터의 논리적 구조"
   ]
  },
  {
   "attachments": {},
   "cell_type": "markdown",
   "metadata": {
    "id": "FNr7JVKAf2_O"
   },
   "source": [
    "### 라이프로그 데이터\n",
    "| No | 영문명 | 한글명 | 타입 |\n",
    "|----|--------|--------|------|\n",
    "| 1 | email | 이메일 | varchar(200) |\n",
    "| 2 | date | 요약 날짜 | varchar(10) |\n",
    "| 3 | check | 착용 여부 체크 | varchar(20) |\n",
    "| 4 | nonwear | 미착용 시간 체크 | varchar(20) |\n",
    "| 5 | activity_average_met | 하루간 평균 MET | varchar(10) |\n",
    "| 6 | activity_cal_active | 하루간 활동 칼로리 | varchar(10) |\n",
    "| 7 | activity_cal_total | 하루간 총 사용 칼로리 | varchar(10) |\n",
    "| 8 | activity_class_5min | 하루간 5분당 활동 로그 | BLOB |\n",
    "| 9 | activity_daily_movement | 매일 움직인 거리 | varchar(10) |\n",
    "| 10 | activity_day_end | 활동 종료 시간 | varchar(30) |\n",
    "| 11 | activity_day_start | 활동 시작 시간 | varchar(30) |\n",
    "| 12 | activity_high | 고강도 활동 시간 | varchar(10) |\n",
    "| 13 | activity_inactive | 비활동 시간 | varchar(10) |\n",
    "| 14 | activity_inactivity_alerts | 비활동 알람 횟수 | varchar(10) |\n",
    "| 15 | active_low | 저강도 활동 시간 | varchar(10) |\n",
    "| 16 | activity_medium | 중강도 활동 시간 | varchar(10) |\n",
    "| 17 | activity_met_1min | 하루간 1분 당 MET 로그 | BLOB |\n",
    "| 18 | activity_met_min_high | 하루간 고강도 활동 MET | varchar(10) |\n",
    "| 19 | activity_met_min_inactive | 하루간 비활동 MET | varchar(10) |\n",
    "| 20 | activity_met_min_low | 하루간 저강도 활동 MET | varchar(10) |\n",
    "| 21 | activity_met_min_medium | 하루간 중강도 활동 MET | varchar(10) |\n",
    "| 22 | activity_non_wear | 미착용 시간 | varchar(10) |\n",
    "| 23 | activity_rest | 휴식 시간 | varchar(10) |\n",
    "| 24 | activity_score | 활동 점수 | varchar(10) |\n",
    "| 25 | activity_score_meet_daily_targets | 활동 목표달성 점수 | varchar(10) |\n",
    "| 26 | activity_score_move_every_hour | 매 시간 당 활동유지 점수 | varchar(10) |\n",
    "| 27 | activity_score_recovery_time | 회복시간 점수 | varchar(10) |\n",
    "| 28 | activity_score_stay_active | 활동 유지 점수 | varchar(10) |\n",
    "| 29 | activity_score_training_frequency | 운동 빈도 점수 | varchar(10) |\n",
    "| 30 | activity_score_training_volume | 운동 강도 점수 | varchar(10) |\n",
    "| 31 | activity_steps | 매일 걸음 수 | varchar(10) |\n",
    "| 32 | activity_total | 활동 총 시간(분) | varchar(10) |\n",
    "| 33 | sleep_awake | 깬 시간 | varchar(10) |\n",
    "| 34 | sleep_bedtime_end | 잠 종료시간 | varchar(30) |\n",
    "| 35 | sleep_bedtime_start | 잠 시작시간 | varchar(30) |\n",
    "| 36 | sleep_breath_average | 분당 평균 호흡 수 | varchar(10) |\n",
    "| 37 | sleep_deep | 깊은 수면 시간 | varchar(10) |\n",
    "| 38 | sleep_duration | 잠 시간 | varchar(10) |\n",
    "| 39 | sleep_efficiency | 수면 효율 | varchar(10) |\n",
    "| 40 | sleep_hr_5min | 5분 당 심박동 로그 | BLOB |\n",
    "| 41 | sleep_hr_average | 평균 심박동 수 | varchar(10) |\n",
    "| 42 | sleep_hr_lowest | 낮은 심박동 수 | varchar(10) |\n",
    "| 43 | sleep_hypnogram_5min | 수면 상태 로그 | BLOB |\n",
    "| 44 | sleep_is_longest | 본 수면 여부 | varchar(10) |\n",
    "| 45 | sleep_light | 가벼운 수면 시간 | varchar(10) |\n",
    "| 46 | sleep_midpoint_at_delta | 수면 중간점 시간 델타 | varchar(10) |\n",
    "| 47 | sleep_midpoint_time | 수면 중간점 시간 | varchar(10) |\n",
    "| 48 | sleep_onset_latency | 수면 잠복 시간 | varchar(10) |\n",
    "| 49 | sleep_period_id | 수면 식별 아이디 | varchar(10) |\n",
    "| 50 | sleep_rem | 램수면 시간 | varchar(10) |\n",
    "| 51 | sleep_restless | 뒤척임 비율 | varchar(10) |\n",
    "| 52 | sleep_rmssd | 평균 심박동변동 | varchar(10) |\n",
    "| 53 | sleep_rmssd_5min | 5분 당 심박동변동 로그 | BLOB |\n",
    "| 54 | sleep_score | 수면 종합 점수 | varchar(10) |\n",
    "| 55 | sleep_score_alignment | 수면 시기 점수 | varchar(10) |\n",
    "| 56 | sleep_score_deep | 깊은 수면 점수 | varchar(10) |\n",
    "| 57 | sleep_score_disturbances | 수면 방해 점수 | varchar(10) |\n",
    "| 58 | sleep_score_efficiency | 수면 효율 점수 | varchar(10) |\n",
    "| 59 | sleep_score_latency | 수면 잠복 점수 | varchar(10) |\n",
    "| 60 | sleep_score_rem | 램수면 점수 | varchar(10) |\n",
    "| 61 | sleep_score_total | 수면 시간 기여 점수 | varchar(10) |\n",
    "| 62 | sleep_temperature_delta | 피부 온도 편차 | varchar(10) |\n",
    "| 63 | sleep_temperature_deviation | 피부 온도 편차 | varchar(10) |\n",
    "| 64 | sleep_temperature_trend_deviation | 피부 온도 경향 편차 | varchar(10) |\n",
    "| 65 | timezone | 시간 장소 정보 | varchar(10) |\n",
    "| 66 | sleep_total | 수면 시간 | varchar(10) |\n"
   ]
  },
  {
   "cell_type": "markdown",
   "metadata": {},
   "source": [
    "### 인지기능 데이터\n",
    "\n",
    "| No | 항목 | 설명 | 타입 |\n",
    "|----|------|------|------|\n",
    "| 1 | SAMPLE_EMAIL | 연구대상자 이메일 | VARCHAR(200) |\n",
    "| 2 | DIAG_SEQ | 차수 | INT(3) |\n",
    "| 3 | DIAG_NIM | 진단명 | VARCHAR(30) |\n",
    "| 4 | DOCTOR_NM | 진단자 | VARCHAR(50) |\n",
    "| 5 | MMSE_NUM | 횟수 | INT |\n",
    "| 6 | MMSE_KIND | 친절도 | VARCHAR(10) |\n",
    "| 7 | Q01 | 올해가 몇 년이지요? | VARCHAR(1) |\n",
    "| 8 | Q02 | 지금은 어떤 계절이지요? | VARCHAR(1) |\n",
    "| 9 | Q03 | 오늘은 며칠입니까? | VARCHAR(1) |\n",
    "| 10 | Q04 | 오늘은 무슨 요일인가요? | VARCHAR(1) |\n",
    "| 11 | Q05 | 오늘이 몇 월입니까? | VARCHAR(1) |\n",
    "| 12 | Q06 | 지금 우리가 있는 이곳은 어느 나라입니까? | VARCHAR(1) |\n",
    "| 13 | Q07 | 지금 무슨 시(도)에 있습니까? | VARCHAR(1) |\n",
    "| 14 | Q08 | 지금 계신 이곳을 무엇이라고 부릅니까? | VARCHAR(1) |\n",
    "| 15 | Q09 | 지금 이곳은 몇 층입니까? | VARCHAR(1) |\n",
    "| 16 | Q10 | 여기에서는 어떤 일을 하나요? | VARCHAR(1) |\n",
    "| 17 | Q11_1 | 즉시기억(비행기) | VARCHAR(1) |\n",
    "| 18 | Q11_2 | 즉시기억(연필) | VARCHAR(1) |\n",
    "| 19 | Q11_3 | 즉시기억(소나무) | VARCHAR(1) |\n",
    "| 20 | Q12_1 | 100에서 7을 뺀 값 | VARCHAR(2) |\n",
    "| 21 | Q12_2 | 계속 7을 뺀 값 | VARCHAR(2) |\n",
    "| 22 | Q12_3 | 계속 7을 뺀 값 | VARCHAR(2) |\n",
    "| 23 | Q12_4 | 계속 7을 뺀 값 | VARCHAR(2) |\n",
    "| 24 | Q12_5 | 계속 7을 뺀 값 | VARCHAR(2) |\n",
    "| 25 | Q12_TOTAL | 계산 총점 | INT |\n",
    "| 26 | Q13_1 | 지연회상(비행기) | VARCHAR(1) |\n",
    "| 27 | Q13_2 | 지연회상(연필) | VARCHAR(1) |\n",
    "| 28 | Q13_3 | 지연회상(소나무) | VARCHAR(1) |\n",
    "| 29 | Q14_1 | 사물 인식(시계) | VARCHAR(1) |\n",
    "| 30 | Q14_2 | 사물 인식(기타) | VARCHAR(1) |\n",
    "| 31 | Q15 | 문장 따라 말하기 | VARCHAR(1) |\n",
    "| 32 | Q16_1 | 종이 뒤집기 | VARCHAR(1) |\n",
    "| 33 | Q16_2 | 반으로 접기 | VARCHAR(1) |\n",
    "| 34 | Q16_3 | 되돌려 주기 | VARCHAR(1) |\n",
    "| 35 | Q17 | 도형 그리기(오각형) | VARCHAR(1) |\n",
    "| 36 | Q18 | 문장 읽고 수행하기 | VARCHAR(1) |\n",
    "| 37 | Q19 | 문장 작성 | VARCHAR(1) |\n",
    "| 38 | TOTAL | 총점 | INT |\n",
    "| 39 | TEST_DAY | 검사일 | DATETIME |\n",
    "| 40 | FLAG | FLAG | VARCHAR(1) |\n",
    "| 41 | INSERT_DATE | 입력일 | DATETIME |\n",
    "| 42 | INSERT_USERID | 입력자 ID | INT |\n",
    "| 43 | UPDATE_DATE | 업데이트일 | DATETIME |\n",
    "| 44 | UPDATE_USERID | 업데이트자 ID | INT |\n"
   ]
  },
  {
   "cell_type": "markdown",
   "metadata": {
    "id": "7GxtM_mGiLlt"
   },
   "source": [
    "### 5.   데이터의 물리적 저장 구조"
   ]
  },
  {
   "attachments": {},
   "cell_type": "markdown",
   "metadata": {
    "id": "97dyS2pyiLl1"
   },
   "source": [
    "```\n",
    "📂 data/\n",
    "├── 📁 Training/\n",
    "│   ├── 📁 라벨링데이터/\n",
    "│   │   ├── 📁 걸음걸이/\n",
    "│   │   │   └── training_label.csv\n",
    "│   │   ├── 📁 수면/\n",
    "│   │   │   └── training_label.csv\n",
    "│   │   └── 📁 인지기능/\n",
    "│   │       └── training_label.csv\n",
    "│   │\n",
    "│   └── 📁 원천데이터/\n",
    "│       ├── 📁 걸음걸이/\n",
    "│       │   └── train_activity.csv\n",
    "│       ├── 📁 수면/\n",
    "│       │   └── train_sleep.csv\n",
    "│       └── 📁 인지기능/\n",
    "│           └── train_mmse.csv\n",
    "│\n",
    "└── 📁 Validation/\n",
    "    ├── 📁 라벨링데이터/\n",
    "    │   ├── 📁 걸음걸이/\n",
    "    │   │   └── val_label.csv\n",
    "    │   ├── 📁 수면/\n",
    "    │   │   └── val_label.csv\n",
    "    │   └── 📁 인지기능/\n",
    "    │       └── val_label.csv\n",
    "    │\n",
    "    └── 📁 원천데이터/\n",
    "        ├── 📁 걸음걸이/\n",
    "        │   └── val_activity.csv\n",
    "        ├── 📁 수면/\n",
    "        │   └── val_sleep.csv\n",
    "        └── 📁 인지기능/\n",
    "            └── val_mmse.csv\n",
    "```"
   ]
  }
 ],
 "metadata": {
  "colab": {
   "authorship_tag": "ABX9TyOLfRn63BV2fol0Nq4iiELD",
   "provenance": [],
   "toc_visible": true
  },
  "kernelspec": {
   "display_name": "stats",
   "language": "python",
   "name": "stats"
  },
  "language_info": {
   "name": "python",
   "version": "3.8.15"
  }
 },
 "nbformat": 4,
 "nbformat_minor": 0
}
