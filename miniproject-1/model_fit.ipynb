{
 "cells": [
  {
   "cell_type": "markdown",
   "id": "94faaccd",
   "metadata": {},
   "source": [
    "## 세팅"
   ]
  },
  {
   "cell_type": "code",
   "execution_count": null,
   "id": "eabda0c3",
   "metadata": {},
   "outputs": [],
   "source": [
    "import pandas as pd\n",
    "import numpy as np\n",
    "import matplotlib.pyplot as plt\n",
    "import seaborn as sns\n",
    "from catboost import CatBoostClassifier\n",
    "from sklearn.metrics import classification_report, confusion_matrix\n",
    "from sklearn.metrics import accuracy_score, f1_score, roc_auc_score\n",
    "from sklearn.preprocessing import label_binarize"
   ]
  },
  {
   "cell_type": "markdown",
   "id": "e0032011",
   "metadata": {},
   "source": [
    "## train 데이터 로드 및 병합과 컬럼정리"
   ]
  },
  {
   "cell_type": "code",
   "execution_count": 41,
   "id": "d1894398",
   "metadata": {},
   "outputs": [],
   "source": [
    "act_df = pd.read_csv(r'01.데이터\\1.Training\\원천데이터\\1.걸음걸이\\train_activity.csv')\n",
    "sleep_df = pd.read_csv(r'01.데이터\\1.Training\\원천데이터\\2.수면\\train_sleep.csv')\n",
    "lab_df = pd.read_csv(r\"01.데이터\\1.Training\\라벨링데이터\\1.걸음걸이\\training_label.csv\")"
   ]
  },
  {
   "cell_type": "code",
   "execution_count": 92,
   "id": "bcc8302f",
   "metadata": {},
   "outputs": [
    {
     "data": {
      "text/plain": [
       "DIAG_NM\n",
       "CN     85\n",
       "MCI    47\n",
       "Dem     9\n",
       "Name: count, dtype: int64"
      ]
     },
     "execution_count": 92,
     "metadata": {},
     "output_type": "execute_result"
    }
   ],
   "source": [
    "lab_df['DIAG_NM'].value_counts()"
   ]
  },
  {
   "cell_type": "code",
   "execution_count": 42,
   "id": "be8c6e82",
   "metadata": {},
   "outputs": [],
   "source": [
    "merged_df = pd.merge(act_df, lab_df, left_on='EMAIL', right_on='SAMPLE_EMAIL', how='left')\n",
    "merged_df = pd.merge(merged_df, sleep_df, left_index=True, right_index=True, how='left')"
   ]
  },
  {
   "cell_type": "code",
   "execution_count": 43,
   "id": "6b7fdc64",
   "metadata": {},
   "outputs": [],
   "source": [
    "merged_df.rename(columns={'EMAIL_x': 'EMAIL'},inplace=True)\n",
    "cols_to_drop = [c for c in merged_df.columns if c.endswith(('_x', '_y', '_list', '_5min','_1min', 'utf8)', '_start','_end'))]\n",
    "merged_df.drop(columns=cols_to_drop, inplace=True)"
   ]
  },
  {
   "cell_type": "code",
   "execution_count": 44,
   "id": "906ee9f1",
   "metadata": {},
   "outputs": [],
   "source": [
    "drop_cols = ['sleep_temperature_delta','SAMPLE_EMAIL']\n",
    "merged_df.drop(columns=drop_cols, inplace=True)"
   ]
  },
  {
   "cell_type": "markdown",
   "id": "27876e3f",
   "metadata": {},
   "source": [
    "## val 데이터 로드 및 병합과 컬럼정리"
   ]
  },
  {
   "cell_type": "code",
   "execution_count": 45,
   "id": "1e08ad3b",
   "metadata": {},
   "outputs": [],
   "source": [
    "val_act = pd.read_csv(r'01.데이터\\2.Validation\\원천데이터\\1.걸음걸이\\val_activity.csv')\n",
    "val_sleep = pd.read_csv(r'01.데이터\\2.Validation\\원천데이터\\2.수면\\val_sleep.csv')\n",
    "val_lab = pd.read_csv(r'01.데이터\\2.Validation\\라벨링데이터\\1.걸음걸이\\val_label.csv')"
   ]
  },
  {
   "cell_type": "code",
   "execution_count": 120,
   "id": "8aab8db3",
   "metadata": {},
   "outputs": [
    {
     "data": {
      "text/plain": [
       "DIAG_NM\n",
       "CN     26\n",
       "MCI     4\n",
       "Dem     3\n",
       "Name: count, dtype: int64"
      ]
     },
     "execution_count": 120,
     "metadata": {},
     "output_type": "execute_result"
    }
   ],
   "source": [
    "val_lab['DIAG_NM'].value_counts()"
   ]
  },
  {
   "cell_type": "code",
   "execution_count": 46,
   "id": "48462c2d",
   "metadata": {},
   "outputs": [],
   "source": [
    "merged_val = pd.merge(val_act, val_lab, left_on='EMAIL', right_on='SAMPLE_EMAIL', how='left')\n",
    "merged_val = pd.merge(merged_val, val_sleep, left_index=True, right_index=True, how='left')"
   ]
  },
  {
   "cell_type": "code",
   "execution_count": 47,
   "id": "4c755765",
   "metadata": {},
   "outputs": [],
   "source": [
    "merged_val.rename(columns={'EMAIL_x': 'EMAIL'},inplace=True)\n",
    "cols_to_drop = [c for c in merged_val.columns if c.endswith(('_x', '_y', '_list', '_5min','_1min', 'utf8)', '_start','_end'))]\n",
    "merged_val.drop(columns=cols_to_drop, inplace=True)"
   ]
  },
  {
   "cell_type": "code",
   "execution_count": 48,
   "id": "09f0f5b8",
   "metadata": {},
   "outputs": [],
   "source": [
    "drop_cols = ['sleep_temperature_delta','SAMPLE_EMAIL']\n",
    "merged_val.drop(columns=drop_cols, inplace=True)"
   ]
  },
  {
   "cell_type": "markdown",
   "id": "71680ac5",
   "metadata": {},
   "source": [
    "## 모델 학습"
   ]
  },
  {
   "cell_type": "markdown",
   "id": "7896ce2b",
   "metadata": {},
   "source": [
    "### 함수"
   ]
  },
  {
   "cell_type": "code",
   "execution_count": null,
   "id": "0858615c",
   "metadata": {},
   "outputs": [],
   "source": [
    "# 평균화 데이터프레임 작성 함수\n",
    "def grupe_df(train_dfs, val_dfs, days=None):\n",
    "    act_df , sleep_df, lab_df = train_dfs\n",
    "    val_act, val_sleep, val_lab = val_dfs\n",
    "\n",
    "    \n",
    "    all_df = pd.merge(act_df, sleep_df, left_index=True, right_index=True, how='left')\n",
    "    all_val = pd.merge(val_act, val_sleep, left_index=True, right_index=True, how='left')\n",
    "\n",
    "    # 컬럼 정리\n",
    "    all_df.rename(columns={'EMAIL_x': 'EMAIL'},inplace=True)\n",
    "    all_val.rename(columns={'EMAIL_x': 'EMAIL'},inplace=True)\n",
    "\n",
    "    # 컬럼 제거\n",
    "    swith_list = ('_y','_5min','_1min', 'utf8)','_end')\n",
    "    cols_to_drop = [c for c in all_df.columns if c.endswith(swith_list)]\n",
    "    all_df.drop(columns=cols_to_drop, inplace=True)\n",
    "    all_val.drop(columns=cols_to_drop, inplace=True)\n",
    "\n",
    "    # 수면 datetime 제거\n",
    "    # sleep은 시작, 종료 시간도 재각각이고 날자가 바뀌는 경우가 많음 \n",
    "    # 날짜 기준은 활동데이터에서 얻어오는것이 더 간단함\n",
    "    drop_cols = ['sleep_temperature_delta', 'sleep_bedtime_start']\n",
    "    all_df.drop(columns=drop_cols, inplace=True)\n",
    "    all_val.drop(columns=drop_cols, inplace=True)\n",
    "    \n",
    "    col = 'activity_day_start'\n",
    "    # 날지를 지정 안하면 모든 날자의 평균 데이터\n",
    "    if days is None:\n",
    "        all_group = all_df.drop(columns=col)\n",
    "        all_group = all_group.groupby('EMAIL', as_index=False).mean()\n",
    "\n",
    "        all_group_val = all_val.drop(columns=col)\n",
    "        all_group_val = all_group_val.groupby('EMAIL', as_index=False).mean()\n",
    "\n",
    "    # 최근 Days만큼 평균을 구함\n",
    "    else:\n",
    "        all_df[col] = pd.to_datetime(all_df[col])\n",
    "        all_val[col] = pd.to_datetime(all_val[col])\n",
    "        for _df, _name in ((all_df, \"train\"), (all_val, \"val\")):\n",
    "            # EMAIL별 최신 날짜\n",
    "            max_dt = _df.groupby('EMAIL')['activity_day_start'].transform('max')\n",
    "            cutoff = max_dt - pd.to_timedelta(days - 1, unit='D')\n",
    "\n",
    "            # 최근 days일 만큼 필터링\n",
    "            mask = _df['activity_day_start'] >= cutoff\n",
    "            _df_recent = _df.loc[mask].copy()\n",
    "\n",
    "            # 날짜 컬럼은 제거\n",
    "            _df_recent.drop(columns=['activity_day_start'], inplace=True, errors='ignore')\n",
    "\n",
    "            # EMAIL 기준 평균 (비수치 컬럼은 무시)\n",
    "            if _name == \"train\":\n",
    "                all_group = _df_recent.groupby('EMAIL', as_index=False).mean(numeric_only=True)\n",
    "            else:\n",
    "                all_group_val = _df_recent.groupby('EMAIL', as_index=False).mean(numeric_only=True)\n",
    "\n",
    "    # 구한 값을 라벨과 병합하여 반환\n",
    "    all_group = pd.merge(all_group, lab_df, left_on='EMAIL', right_on='SAMPLE_EMAIL', how='left')\n",
    "    all_group = all_group.drop('SAMPLE_EMAIL', axis=1)\n",
    "    all_group_val = pd.merge(all_group_val, val_lab, left_on='EMAIL', right_on='SAMPLE_EMAIL', how='left')\n",
    "    all_group_val = all_group_val.drop('SAMPLE_EMAIL', axis=1)\n",
    " \n",
    " \n",
    "    return all_group, all_group_val\n"
   ]
  },
  {
   "cell_type": "code",
   "execution_count": null,
   "id": "f5b84afa",
   "metadata": {},
   "outputs": [],
   "source": [
    "# 모델의 설정, 학습, 평가 함수\n",
    "def catboost_model_fit(x, y, iterations=1000, learning_rate=0.0005, depth=6):\n",
    "    model = CatBoostClassifier(\n",
    "        iterations=iterations,          # 트리 개수\n",
    "        learning_rate=learning_rate,      # 학습률\n",
    "        depth=depth,                 # 트리 깊이\n",
    "        loss_function='MultiClass',  # 다중분류\n",
    "        eval_metric='TotalF1',      # 평가 지표\n",
    "        use_best_model=True,        # 최적의 단계에서의 모델 선택\n",
    "        od_type='Iter',     \n",
    "        od_wait=200,\n",
    "        random_seed=42,\n",
    "        verbose=50\n",
    "    )\n",
    "\n",
    "    # X와 Y 분리 및 학습\n",
    "    target_col = 'DIAG_NM'\n",
    "    id_col = 'EMAIL'\n",
    "\n",
    "    X_train = x.drop(columns=[target_col])\n",
    "    X_train = X_train.drop(columns=[id_col])\n",
    "    y_train = x[target_col]\n",
    "\n",
    "    X_val = y.drop(columns=[target_col])\n",
    "    X_val = X_val.drop(columns=[id_col])\n",
    "    y_val = y[target_col]\n",
    "\n",
    "    # 학습\n",
    "    model.fit(\n",
    "        X_train, y_train,\n",
    "        eval_set=(X_val, y_val),\n",
    "        use_best_model=True\n",
    "    )\n",
    "\n",
    "    # 평가\n",
    "    y_pred = model.predict(X_val)\n",
    "\n",
    "    acc = accuracy_score(y_val, y_pred)\n",
    "    print(f\"Accuracy: {acc:.4f}\")\n",
    "\n",
    "    f1 = f1_score(y_val, y_pred, average='macro')\n",
    "    print(f\"F1-score (macro): {f1:.4f}\")\n",
    "    \n",
    "    # 모델과 결과를 반환\n",
    "    return model, y_val, y_pred"
   ]
  },
  {
   "cell_type": "code",
   "execution_count": 123,
   "id": "e8f53a6a",
   "metadata": {},
   "outputs": [],
   "source": [
    "def feature_importance_viwe(model):\n",
    "    importances = model.get_feature_importance(type='PredictionValuesChange')\n",
    "    feature_names = model.feature_names_\n",
    "\n",
    "    fi_df = pd.DataFrame({\n",
    "        'Feature': feature_names,\n",
    "        'Importance': importances\n",
    "    }).sort_values('Importance', ascending=False)\n",
    "    \n",
    "    # 상위 10개 시각화\n",
    "    plt.figure(figsize=(8, 5))\n",
    "    plt.barh(fi_df['Feature'][:10][::-1], fi_df['Importance'][:10][::-1])\n",
    "    plt.xlabel('Importance')\n",
    "    plt.title('CatBoost Feature Importance (Top 10)')\n",
    "    plt.tight_layout()\n",
    "    plt.show()"
   ]
  },
  {
   "cell_type": "markdown",
   "id": "be85f484",
   "metadata": {},
   "source": [
    "### 모델 적용"
   ]
  },
  {
   "cell_type": "code",
   "execution_count": 52,
   "id": "9bad1848",
   "metadata": {},
   "outputs": [],
   "source": [
    "train_df = merged_df.drop('EMAIL', axis=1)\n",
    "val_df = merged_val.drop('EMAIL', axis=1)"
   ]
  },
  {
   "cell_type": "code",
   "execution_count": 53,
   "id": "8b571b0a",
   "metadata": {},
   "outputs": [],
   "source": [
    "target_col = 'DIAG_NM'\n",
    "\n",
    "X_train = train_df.drop(columns=[target_col])\n",
    "y_train = train_df[target_col]\n",
    "\n",
    "X_val = val_df.drop(columns=[target_col])\n",
    "y_val = val_df[target_col]"
   ]
  },
  {
   "cell_type": "code",
   "execution_count": 54,
   "id": "036294dc",
   "metadata": {},
   "outputs": [],
   "source": [
    "model = CatBoostClassifier(\n",
    "    iterations=1000,          # 트리 개수\n",
    "    learning_rate=0.0005,      # 학습률\n",
    "    depth=6,                 # 트리 깊이\n",
    "    loss_function='MultiClass',  # 다중분류\n",
    "    eval_metric='Accuracy',\n",
    "    random_seed=42,\n",
    "    verbose=50\n",
    ")\n"
   ]
  },
  {
   "cell_type": "code",
   "execution_count": 55,
   "id": "8a9a3c65",
   "metadata": {},
   "outputs": [
    {
     "name": "stdout",
     "output_type": "stream",
     "text": [
      "0:\tlearn: 0.6050489\ttest: 0.7477805\tbest: 0.7477805 (0)\ttotal: 15.4ms\tremaining: 15.3s\n",
      "50:\tlearn: 0.5959815\ttest: 0.7893462\tbest: 0.7901533 (5)\ttotal: 533ms\tremaining: 9.92s\n",
      "100:\tlearn: 0.5956723\ttest: 0.7893462\tbest: 0.7901533 (5)\ttotal: 1.01s\tremaining: 8.99s\n",
      "150:\tlearn: 0.5957754\ttest: 0.7893462\tbest: 0.7901533 (5)\ttotal: 1.5s\tremaining: 8.44s\n",
      "200:\tlearn: 0.5957754\ttest: 0.7893462\tbest: 0.7901533 (5)\ttotal: 2.01s\tremaining: 7.99s\n",
      "250:\tlearn: 0.5958784\ttest: 0.7893462\tbest: 0.7901533 (5)\ttotal: 2.49s\tremaining: 7.42s\n",
      "300:\tlearn: 0.5959815\ttest: 0.7893462\tbest: 0.7901533 (5)\ttotal: 2.98s\tremaining: 6.91s\n",
      "350:\tlearn: 0.5960845\ttest: 0.7893462\tbest: 0.7901533 (5)\ttotal: 3.46s\tremaining: 6.4s\n",
      "400:\tlearn: 0.5960845\ttest: 0.7893462\tbest: 0.7901533 (5)\ttotal: 3.96s\tremaining: 5.91s\n",
      "450:\tlearn: 0.5964967\ttest: 0.7893462\tbest: 0.7901533 (5)\ttotal: 4.46s\tremaining: 5.43s\n",
      "500:\tlearn: 0.5967027\ttest: 0.7893462\tbest: 0.7901533 (5)\ttotal: 4.97s\tremaining: 4.95s\n",
      "550:\tlearn: 0.5967027\ttest: 0.7893462\tbest: 0.7901533 (5)\ttotal: 5.49s\tremaining: 4.47s\n",
      "600:\tlearn: 0.5969088\ttest: 0.7893462\tbest: 0.7901533 (5)\ttotal: 5.99s\tremaining: 3.98s\n",
      "650:\tlearn: 0.5970118\ttest: 0.7893462\tbest: 0.7901533 (5)\ttotal: 6.51s\tremaining: 3.49s\n",
      "700:\tlearn: 0.5977331\ttest: 0.7893462\tbest: 0.7901533 (5)\ttotal: 7.01s\tremaining: 2.99s\n",
      "750:\tlearn: 0.5978362\ttest: 0.7893462\tbest: 0.7901533 (5)\ttotal: 7.52s\tremaining: 2.49s\n",
      "800:\tlearn: 0.5980422\ttest: 0.7893462\tbest: 0.7901533 (5)\ttotal: 8.02s\tremaining: 1.99s\n",
      "850:\tlearn: 0.5981453\ttest: 0.7893462\tbest: 0.7901533 (5)\ttotal: 8.53s\tremaining: 1.49s\n",
      "900:\tlearn: 0.5987635\ttest: 0.7893462\tbest: 0.7901533 (5)\ttotal: 9.04s\tremaining: 993ms\n",
      "950:\tlearn: 0.5993818\ttest: 0.7893462\tbest: 0.7901533 (5)\ttotal: 9.54s\tremaining: 492ms\n",
      "999:\tlearn: 0.5996909\ttest: 0.7893462\tbest: 0.7901533 (5)\ttotal: 10s\tremaining: 0us\n",
      "\n",
      "bestTest = 0.7901533495\n",
      "bestIteration = 5\n",
      "\n",
      "Shrink model to first 6 iterations.\n"
     ]
    },
    {
     "data": {
      "text/plain": [
       "<catboost.core.CatBoostClassifier at 0x21714e7ee70>"
      ]
     },
     "execution_count": 55,
     "metadata": {},
     "output_type": "execute_result"
    }
   ],
   "source": [
    "model.fit(\n",
    "    X_train, y_train,\n",
    "    eval_set=(X_val, y_val),\n",
    "    use_best_model=True\n",
    ")"
   ]
  },
  {
   "cell_type": "markdown",
   "id": "7db0f7a2",
   "metadata": {},
   "source": [
    "#### 예측 평가\n",
    "*   데이터 셋을 받은 AI_Hub는 정상/진단 으로 분류하였기 때문에 평가지표가 accuracy와 ROC AUC지만\n",
    "*   다중 분류를 하기 때문에 F1-score를 사용해야함"
   ]
  },
  {
   "cell_type": "code",
   "execution_count": null,
   "id": "11248d31",
   "metadata": {},
   "outputs": [
    {
     "name": "stdout",
     "output_type": "stream",
     "text": [
      "✅ Accuracy: 0.7902\n",
      "✅ AUC-ROC (OvR): 0.6320\n"
     ]
    }
   ],
   "source": [
    "from sklearn.metrics import accuracy_score, roc_auc_score\n",
    "from sklearn.preprocessing import label_binarize\n",
    "\n",
    "y_pred = model.predict(X_val)\n",
    "y_pred_proba = model.predict_proba(X_val)\n",
    "\n",
    "acc = accuracy_score(y_val, y_pred)\n",
    "print(f\"✅ Accuracy: {acc:.4f}\")\n",
    "\n",
    "classes = model.classes_  # ['CN', 'MCI', 'Dem']\n",
    "y_val_bin = label_binarize(y_val, classes=classes)\n",
    "\n",
    "auc = roc_auc_score(y_val_bin, y_pred_proba, multi_class='ovr')\n",
    "print(f\"✅ AUC-ROC (OvR): {auc:.4f}\")"
   ]
  },
  {
   "cell_type": "code",
   "execution_count": 57,
   "id": "92cd1065",
   "metadata": {},
   "outputs": [
    {
     "name": "stdout",
     "output_type": "stream",
     "text": [
      "100.0\n"
     ]
    },
    {
     "data": {
      "image/png": "[encoded data removed]",
      "text/plain": [
       "<Figure size 800x500 with 1 Axes>"
      ]
     },
     "metadata": {},
     "output_type": "display_data"
    }
   ],
   "source": [
    "feature_importance_viwe(model)"
   ]
  },
  {
   "cell_type": "code",
   "execution_count": 58,
   "id": "701f537e",
   "metadata": {},
   "outputs": [
    {
     "name": "stdout",
     "output_type": "stream",
     "text": [
      "0:\tlearn: 0.5256421\ttest: 0.6881033\tbest: 0.6881033 (0)\ttotal: 14.4ms\tremaining: 14.4s\n",
      "50:\tlearn: 0.4454386\ttest: 0.6964192\tbest: 0.6990794 (5)\ttotal: 524ms\tremaining: 9.76s\n",
      "100:\tlearn: 0.4447348\ttest: 0.6964192\tbest: 0.6990794 (5)\ttotal: 1.03s\tremaining: 9.21s\n",
      "150:\tlearn: 0.4449696\ttest: 0.6964192\tbest: 0.6990794 (5)\ttotal: 1.53s\tremaining: 8.61s\n",
      "200:\tlearn: 0.4449696\ttest: 0.6964192\tbest: 0.6990794 (5)\ttotal: 2.04s\tremaining: 8.12s\n",
      "Stopped by overfitting detector  (200 iterations wait)\n",
      "\n",
      "bestTest = 0.6990794417\n",
      "bestIteration = 5\n",
      "\n",
      "Shrink model to first 6 iterations.\n",
      "Accuracy: 0.7902\n",
      "F1-score (macro): 0.3034\n",
      "100.0\n"
     ]
    },
    {
     "data": {
      "image/png": "[encoded data removed]",
      "text/plain": [
       "<Figure size 800x500 with 1 Axes>"
      ]
     },
     "metadata": {},
     "output_type": "display_data"
    }
   ],
   "source": [
    "model, X_val, y_val = catboost_model_fit(merged_df, merged_val)\n",
    "\n",
    "feature_importance_viwe(model)"
   ]
  },
  {
   "cell_type": "markdown",
   "id": "10db330c",
   "metadata": {},
   "source": [
    "### 그룹화 모델링\n",
    "\n",
    "*   시계열 데이터를 직접 넣으니 과적합이 생김 -> 전채 또는 평균으로 하나로 바꾸기 or 탠서로 바꾸어 딥러닝\n",
    "*   딥러닝은 성능이 안되니 데이터를 전체 평균, 마지막 7일 평균으로 만들어 학습 진행"
   ]
  },
  {
   "cell_type": "code",
   "execution_count": 59,
   "id": "b12d07be",
   "metadata": {},
   "outputs": [],
   "source": [
    "all_group, all_group_val = grupe_df([act_df, sleep_df, lab_df], [val_act, val_sleep, val_lab])"
   ]
  },
  {
   "cell_type": "code",
   "execution_count": null,
   "id": "beedcb89",
   "metadata": {},
   "outputs": [
    {
     "name": "stdout",
     "output_type": "stream",
     "text": [
      "0:\tlearn: 0.7211343\ttest: 0.5494949\tbest: 0.5494949 (0)\ttotal: 11.9ms\tremaining: 11.9s\n",
      "50:\tlearn: 0.5278232\ttest: 0.6944016\tbest: 0.7380952 (6)\ttotal: 336ms\tremaining: 6.25s\n",
      "100:\tlearn: 0.5670719\ttest: 0.6944016\tbest: 0.7380952 (6)\ttotal: 643ms\tremaining: 5.72s\n",
      "150:\tlearn: 0.5670719\ttest: 0.6944016\tbest: 0.7380952 (6)\ttotal: 968ms\tremaining: 5.44s\n",
      "200:\tlearn: 0.5278232\ttest: 0.6944016\tbest: 0.7380952 (6)\ttotal: 1.28s\tremaining: 5.07s\n",
      "Stopped by overfitting detector  (200 iterations wait)\n",
      "\n",
      "bestTest = 0.7380952381\n",
      "bestIteration = 6\n",
      "\n",
      "Shrink model to first 7 iterations.\n",
      "Accuracy: 0.7879\n",
      "F1-score (macro): 0.3929\n",
      "100.0\n"
     ]
    },
    {
     "data": {
      "image/png": "[encoded data removed]",
      "text/plain": [
       "<Figure size 800x500 with 1 Axes>"
      ]
     },
     "metadata": {},
     "output_type": "display_data"
    }
   ],
   "source": [
    "model, y_val, y_pred = catboost_model_fit(all_group, all_group_val)\n",
    "\n",
    "feature_importance_viwe(model)"
   ]
  },
  {
   "cell_type": "code",
   "execution_count": 61,
   "id": "c5fc55f9",
   "metadata": {},
   "outputs": [],
   "source": [
    "days_group, days_group_val = grupe_df([act_df, sleep_df, lab_df], [val_act, val_sleep, val_lab], days=7)"
   ]
  },
  {
   "cell_type": "code",
   "execution_count": null,
   "id": "11801829",
   "metadata": {},
   "outputs": [
    {
     "name": "stdout",
     "output_type": "stream",
     "text": [
      "0:\tlearn: 0.6554757\ttest: 0.5987879\tbest: 0.5987879 (0)\ttotal: 8.19ms\tremaining: 8.19s\n",
      "50:\tlearn: 0.5670719\ttest: 0.6944016\tbest: 0.7380952 (8)\ttotal: 307ms\tremaining: 5.7s\n",
      "100:\tlearn: 0.6144823\ttest: 0.6944016\tbest: 0.7380952 (8)\ttotal: 585ms\tremaining: 5.21s\n",
      "150:\tlearn: 0.6255819\ttest: 0.6944016\tbest: 0.7380952 (8)\ttotal: 877ms\tremaining: 4.93s\n",
      "200:\tlearn: 0.6144823\ttest: 0.6944016\tbest: 0.7380952 (8)\ttotal: 1.16s\tremaining: 4.6s\n",
      "Stopped by overfitting detector  (200 iterations wait)\n",
      "\n",
      "bestTest = 0.7380952381\n",
      "bestIteration = 8\n",
      "\n",
      "Shrink model to first 9 iterations.\n",
      "Accuracy: 0.7879\n",
      "F1-score (macro): 0.3929\n",
      "99.99999999999997\n"
     ]
    },
    {
     "data": {
      "image/png": "[encoded data removed]",
      "text/plain": [
       "<Figure size 800x500 with 1 Axes>"
      ]
     },
     "metadata": {},
     "output_type": "display_data"
    }
   ],
   "source": [
    "model, y_val, y_pred = catboost_model_fit(days_group, days_group_val)\n",
    "\n",
    "feature_importance_viwe(model)"
   ]
  },
  {
   "cell_type": "markdown",
   "id": "d8ff5955",
   "metadata": {},
   "source": [
    "#### mmse병합"
   ]
  },
  {
   "cell_type": "code",
   "execution_count": 63,
   "id": "5aec5ff7",
   "metadata": {},
   "outputs": [],
   "source": [
    "mmse_train = pd.read_csv(r'01.데이터\\1.Training\\원천데이터\\3.인지기능\\train_mmse.csv')\n",
    "mmse_val = pd.read_csv(r'01.데이터\\2.Validation\\원천데이터\\3.인지기능\\val_mmse.csv')"
   ]
  },
  {
   "cell_type": "code",
   "execution_count": 64,
   "id": "34408364",
   "metadata": {},
   "outputs": [],
   "source": [
    "mmse_cols = [c for c in mmse_train.columns if c.startswith('Q')]\n",
    "mmse_cols = mmse_cols + ['TOTAL'] + ['SAMPLE_EMAIL']\n",
    "\n",
    "mmse_set_train = mmse_train[mmse_cols]\n",
    "mmse_set_val = mmse_val[mmse_cols]"
   ]
  },
  {
   "cell_type": "code",
   "execution_count": 65,
   "id": "34876d93",
   "metadata": {},
   "outputs": [],
   "source": [
    "train_mmse_df = merged_df.merge(mmse_set_train, left_on='EMAIL',right_on='SAMPLE_EMAIL', how='left')\n",
    "val_mmse_df = merged_val.merge(mmse_set_val, left_on='EMAIL',right_on='SAMPLE_EMAIL', how='left')\n",
    "\n",
    "train_mmse_df.drop('SAMPLE_EMAIL', axis=1, inplace=True)\n",
    "val_mmse_df.drop('SAMPLE_EMAIL', axis=1, inplace=True)"
   ]
  },
  {
   "cell_type": "code",
   "execution_count": null,
   "id": "9e74a1e0",
   "metadata": {},
   "outputs": [
    {
     "name": "stdout",
     "output_type": "stream",
     "text": [
      "0:\tlearn: 0.7691333\ttest: 0.7546281\tbest: 0.7546281 (0)\ttotal: 13.9ms\tremaining: 13.9s\n",
      "50:\tlearn: 0.8463501\ttest: 0.7894406\tbest: 0.8433632 (1)\ttotal: 554ms\tremaining: 10.3s\n",
      "100:\tlearn: 0.8393838\ttest: 0.7961061\tbest: 0.8433632 (1)\ttotal: 1.08s\tremaining: 9.6s\n",
      "150:\tlearn: 0.8426634\ttest: 0.8003719\tbest: 0.8433632 (1)\ttotal: 1.59s\tremaining: 8.94s\n",
      "200:\tlearn: 0.8440376\ttest: 0.7899740\tbest: 0.8433632 (1)\ttotal: 2.11s\tremaining: 8.39s\n",
      "Stopped by overfitting detector  (200 iterations wait)\n",
      "\n",
      "bestTest = 0.8433632383\n",
      "bestIteration = 1\n",
      "\n",
      "Shrink model to first 2 iterations.\n",
      "Accuracy: 0.8761\n",
      "F1-score (macro): 0.7108\n"
     ]
    }
   ],
   "source": [
    "model, y_val, y_pred = catboost_model_fit(train_mmse_df, val_mmse_df, depth=6)"
   ]
  },
  {
   "cell_type": "code",
   "execution_count": null,
   "id": "4a3827ec",
   "metadata": {},
   "outputs": [
    {
     "name": "stdout",
     "output_type": "stream",
     "text": [
      "0:\tlearn: 0.7854813\ttest: 0.7725979\tbest: 0.7725979 (0)\ttotal: 20ms\tremaining: 20s\n",
      "50:\tlearn: 0.8478785\ttest: 0.7768800\tbest: 0.8411892 (2)\ttotal: 934ms\tremaining: 17.4s\n",
      "100:\tlearn: 0.8508541\ttest: 0.7782193\tbest: 0.8411892 (2)\ttotal: 1.83s\tremaining: 16.3s\n",
      "150:\tlearn: 0.8520651\ttest: 0.7790225\tbest: 0.8411892 (2)\ttotal: 2.72s\tremaining: 15.3s\n",
      "200:\tlearn: 0.8579415\ttest: 0.7774158\tbest: 0.8411892 (2)\ttotal: 3.59s\tremaining: 14.3s\n",
      "Stopped by overfitting detector  (200 iterations wait)\n",
      "\n",
      "bestTest = 0.8411891855\n",
      "bestIteration = 2\n",
      "\n",
      "Shrink model to first 3 iterations.\n",
      "Accuracy: 0.8729\n",
      "F1-score (macro): 0.7101\n"
     ]
    }
   ],
   "source": [
    "model, y_val, y_pred = catboost_model_fit(train_mmse_df, val_mmse_df, depth=7)"
   ]
  },
  {
   "cell_type": "code",
   "execution_count": null,
   "id": "309c2202",
   "metadata": {},
   "outputs": [
    {
     "name": "stdout",
     "output_type": "stream",
     "text": [
      "0:\tlearn: 0.8077112\ttest: 0.7189963\tbest: 0.7189963 (0)\ttotal: 50.4ms\tremaining: 50.3s\n",
      "50:\tlearn: 0.8870073\ttest: 0.7774158\tbest: 0.8159076 (2)\ttotal: 2.39s\tremaining: 44.5s\n",
      "100:\tlearn: 0.8839295\ttest: 0.7889071\tbest: 0.8159076 (2)\ttotal: 4.75s\tremaining: 42.2s\n",
      "150:\tlearn: 0.8759585\ttest: 0.7873063\tbest: 0.8159076 (2)\ttotal: 7.37s\tremaining: 41.4s\n",
      "200:\tlearn: 0.8770131\ttest: 0.7838355\tbest: 0.8159076 (2)\ttotal: 9.79s\tremaining: 38.9s\n",
      "Stopped by overfitting detector  (200 iterations wait)\n",
      "\n",
      "bestTest = 0.8159075969\n",
      "bestIteration = 2\n",
      "\n",
      "Shrink model to first 3 iterations.\n",
      "Accuracy: 0.8341\n",
      "F1-score (macro): 0.6666\n"
     ]
    }
   ],
   "source": [
    "model, y_val, y_pred = catboost_model_fit(train_mmse_df, val_mmse_df, depth=8)"
   ]
  },
  {
   "cell_type": "markdown",
   "id": "396f4338",
   "metadata": {},
   "source": [
    "##### 규제 강화 모델"
   ]
  },
  {
   "cell_type": "code",
   "execution_count": null,
   "id": "0036192f",
   "metadata": {},
   "outputs": [],
   "source": [
    "def catboost_model_fit_reg(x, y, iterations=1000, learning_rate=0.0005, depth=6):\n",
    "    model = CatBoostClassifier(\n",
    "        iterations=iterations,          # 트리 개수\n",
    "        learning_rate=learning_rate,      # 학습률\n",
    "        depth=depth,                 # 트리 깊이\n",
    "        loss_function='MultiClass',  # 다중분류\n",
    "        eval_metric='TotalF1',\n",
    "        use_best_model=True,\n",
    "        l2_leaf_reg=8,\n",
    "        rsm=0.7,\n",
    "        bagging_temperature=1,\n",
    "        class_weights=[1.0, 1.8, 9.4],\n",
    "        od_type='Iter', \n",
    "        od_wait=200,\n",
    "        random_seed=42,\n",
    "        verbose=50\n",
    "    )\n",
    "\n",
    "    target_col = 'DIAG_NM'\n",
    "    id_col = 'EMAIL'\n",
    "\n",
    "    X_train = x.drop(columns=[target_col])\n",
    "    X_train = X_train.drop(columns=[id_col])\n",
    "    y_train = x[target_col]\n",
    "\n",
    "    X_val = y.drop(columns=[target_col])\n",
    "    X_val = X_val.drop(columns=[id_col])\n",
    "    y_val = y[target_col]\n",
    "\n",
    "    model.fit(\n",
    "        X_train, y_train,\n",
    "        eval_set=(X_val, y_val),\n",
    "        use_best_model=True\n",
    "    )\n",
    "\n",
    "    y_pred = model.predict(X_val)\n",
    "\n",
    "    acc = accuracy_score(y_val, y_pred)\n",
    "    print(f\"Accuracy: {acc:.4f}\")\n",
    "\n",
    "    f1 = f1_score(y_val, y_pred, average='macro')\n",
    "    print(f\"F1-score (macro): {f1:.4f}\")\n",
    "    return model, y_val, y_pred"
   ]
  },
  {
   "cell_type": "code",
   "execution_count": null,
   "id": "54a5c1c7",
   "metadata": {},
   "outputs": [
    {
     "name": "stdout",
     "output_type": "stream",
     "text": [
      "0:\tlearn: 0.7429238\ttest: 0.3954301\tbest: 0.3954301 (0)\ttotal: 9.93ms\tremaining: 9.92s\n",
      "50:\tlearn: 0.7421837\ttest: 0.3937117\tbest: 0.3954301 (0)\ttotal: 430ms\tremaining: 8.01s\n",
      "100:\tlearn: 0.7421837\ttest: 0.3937117\tbest: 0.3954301 (0)\ttotal: 847ms\tremaining: 7.54s\n",
      "150:\tlearn: 0.7421837\ttest: 0.3937117\tbest: 0.3954301 (0)\ttotal: 1.26s\tremaining: 7.07s\n",
      "200:\tlearn: 0.7421837\ttest: 0.3937117\tbest: 0.3954301 (0)\ttotal: 1.68s\tremaining: 6.69s\n",
      "Stopped by overfitting detector  (200 iterations wait)\n",
      "\n",
      "bestTest = 0.3954300982\n",
      "bestIteration = 0\n",
      "\n",
      "Shrink model to first 1 iterations.\n",
      "Accuracy: 0.1259\n",
      "F1-score (macro): 0.0752\n"
     ]
    }
   ],
   "source": [
    "model, y_val, y_pred = catboost_model_fit_reg(train_mmse_df, val_mmse_df, depth=5)"
   ]
  },
  {
   "cell_type": "markdown",
   "id": "7706d36a",
   "metadata": {},
   "source": [
    "### 각 사람 별 데이터 전체, 최근 7일"
   ]
  },
  {
   "cell_type": "code",
   "execution_count": null,
   "id": "9b9495ef",
   "metadata": {},
   "outputs": [
    {
     "name": "stdout",
     "output_type": "stream",
     "text": [
      "0:\tlearn: 0.7681416\ttest: 0.5580808\tbest: 0.5580808 (0)\ttotal: 36.5ms\tremaining: 36.5s\n",
      "50:\tlearn: 0.8662245\ttest: 0.7642212\tbest: 0.7770563 (14)\ttotal: 1.75s\tremaining: 32.6s\n",
      "100:\tlearn: 0.8740974\ttest: 0.7770563\tbest: 0.7770563 (14)\ttotal: 3.58s\tremaining: 31.9s\n",
      "150:\tlearn: 0.8740974\ttest: 0.7642212\tbest: 0.7770563 (14)\ttotal: 5.33s\tremaining: 30s\n",
      "200:\tlearn: 0.8740974\ttest: 0.7187666\tbest: 0.7770563 (14)\ttotal: 7.08s\tremaining: 28.1s\n",
      "Stopped by overfitting detector  (200 iterations wait)\n",
      "\n",
      "bestTest = 0.7770562771\n",
      "bestIteration = 14\n",
      "\n",
      "Shrink model to first 15 iterations.\n",
      "Accuracy: 0.8182\n",
      "F1-score (macro): 0.4762\n"
     ]
    }
   ],
   "source": [
    "all_group_mmse = all_group.merge(mmse_set_train, left_on='EMAIL',right_on='SAMPLE_EMAIL', how='left')\n",
    "all_group_val_mmse = all_group_val.merge(mmse_set_val, left_on='EMAIL',right_on='SAMPLE_EMAIL', how='left')\n",
    "\n",
    "all_group_mmse.drop('SAMPLE_EMAIL', axis=1, inplace=True)\n",
    "all_group_val_mmse.drop('SAMPLE_EMAIL', axis=1, inplace=True)\n",
    "\n",
    "model, y_val, y_pred = catboost_model_fit(all_group_mmse, all_group_val_mmse ,depth=8)"
   ]
  },
  {
   "cell_type": "code",
   "execution_count": null,
   "id": "e8e0a1ca",
   "metadata": {},
   "outputs": [
    {
     "name": "stdout",
     "output_type": "stream",
     "text": [
      "0:\tlearn: 0.7426213\ttest: 0.5550761\tbest: 0.5550761 (0)\ttotal: 32.4ms\tremaining: 32.4s\n",
      "50:\tlearn: 0.8818792\ttest: 0.4306497\tbest: 0.5550761 (0)\ttotal: 1.58s\tremaining: 29.4s\n",
      "100:\tlearn: 0.8896447\ttest: 0.6095807\tbest: 0.6095807 (83)\ttotal: 3.12s\tremaining: 27.8s\n",
      "150:\tlearn: 0.8896447\ttest: 0.6581028\tbest: 0.6581028 (122)\ttotal: 4.79s\tremaining: 26.9s\n",
      "200:\tlearn: 0.8818310\ttest: 0.6315710\tbest: 0.6742505 (165)\ttotal: 6.31s\tremaining: 25.1s\n",
      "250:\tlearn: 0.8740974\ttest: 0.5603000\tbest: 0.6742505 (165)\ttotal: 7.96s\tremaining: 23.8s\n",
      "300:\tlearn: 0.8896447\ttest: 0.5992326\tbest: 0.6742505 (165)\ttotal: 9.68s\tremaining: 22.5s\n",
      "350:\tlearn: 0.8818792\ttest: 0.5849673\tbest: 0.6742505 (165)\ttotal: 11.4s\tremaining: 21.1s\n",
      "Stopped by overfitting detector  (200 iterations wait)\n",
      "\n",
      "bestTest = 0.6742505267\n",
      "bestIteration = 165\n",
      "\n",
      "Shrink model to first 166 iterations.\n",
      "Accuracy: 0.6061\n",
      "F1-score (macro): 0.5875\n"
     ]
    }
   ],
   "source": [
    "days_group_mmse = days_group.merge(mmse_set_train, left_on='EMAIL',right_on='SAMPLE_EMAIL', how='left')\n",
    "days_group_val_mmse = days_group_val.merge(mmse_set_train, left_on='EMAIL',right_on='SAMPLE_EMAIL', how='left')\n",
    "\n",
    "days_group_mmse.drop('SAMPLE_EMAIL', axis=1, inplace=True)\n",
    "days_group_val_mmse.drop('SAMPLE_EMAIL', axis=1, inplace=True)\n",
    "\n",
    "model, y_val, y_pred = catboost_model_fit(days_group_mmse, days_group_val_mmse, depth=8)"
   ]
  },
  {
   "cell_type": "markdown",
   "id": "4122a798",
   "metadata": {},
   "source": [
    "## 비교 모델"
   ]
  },
  {
   "cell_type": "code",
   "execution_count": 118,
   "id": "45918065",
   "metadata": {},
   "outputs": [],
   "source": [
    "from typing import Tuple\n",
    "import numpy as np\n",
    "import pandas as pd\n",
    "\n",
    "from sklearn.metrics import accuracy_score, f1_score\n",
    "from sklearn.preprocessing import LabelEncoder\n",
    "\n",
    "from sklearn.ensemble import RandomForestClassifier\n",
    "import lightgbm as lgb\n",
    "from lightgbm import LGBMClassifier\n",
    "from xgboost import XGBClassifier\n",
    "\n",
    "\n",
    "# 공통 전처리 & 평가 헬퍼\n",
    "def _prep_xy(df_train: pd.DataFrame, df_val: pd.DataFrame,\n",
    "             target_col: str = \"DIAG_NM\", id_col: str = \"EMAIL\",\n",
    "             encode_label: bool = False):\n",
    "    X_train = df_train.drop(columns=[target_col, id_col], errors=\"ignore\")\n",
    "    y_train = df_train[target_col].copy()\n",
    "    X_val   = df_val.drop(columns=[target_col, id_col], errors=\"ignore\")\n",
    "    y_val   = df_val[target_col].copy()\n",
    "\n",
    "    le = None\n",
    "    if encode_label:\n",
    "        le = LabelEncoder()\n",
    "        y_train = le.fit_transform(y_train)\n",
    "        y_val   = le.transform(y_val)\n",
    "\n",
    "    return X_train, y_train, X_val, y_val, le\n",
    "\n",
    "\n",
    "def _evaluate_and_print(y_true, y_pred, model_name=\"Model\", average=\"macro\"):\n",
    "    acc = accuracy_score(y_true, y_pred)\n",
    "    f1  = f1_score(y_true, y_pred, average=average)\n",
    "    print(f\"[{model_name}] Accuracy: {acc:.4f}\")\n",
    "    print(f\"[{model_name}] F1-score ({average}): {f1:.4f}\")\n",
    "\n",
    "\n",
    "# 1) RandomForest\n",
    "def rf_model_fit(x: pd.DataFrame, y: pd.DataFrame,\n",
    "                 n_estimators: int = 400, max_depth: int = None,\n",
    "                 random_state: int = 42) -> Tuple[RandomForestClassifier, pd.DataFrame, pd.Series]:\n",
    "    # RF는 문자열 라벨도 처리 가능하나, 일관성 위해 인코딩하지 않아도 OK\n",
    "    X_train, y_train, X_val, y_val, _ = _prep_xy(x, y, encode_label=False)\n",
    "\n",
    "    model = RandomForestClassifier(\n",
    "        n_estimators=n_estimators,\n",
    "        max_depth=max_depth,\n",
    "        n_jobs=-1,\n",
    "        class_weight=\"balanced\",   # 불균형 대응\n",
    "        random_state=random_state\n",
    "    )\n",
    "    model.fit(X_train, y_train)\n",
    "\n",
    "    y_pred = model.predict(X_val)\n",
    "    _evaluate_and_print(y_val, y_pred, model_name=\"RandomForest\", average=\"macro\")\n",
    "    return model, X_val, y_val\n",
    "\n",
    "\n",
    "# 2) LightGBM (다중분류는 보통 라벨 인코딩 권장)\n",
    "def lgbm_model_fit(x: pd.DataFrame, y: pd.DataFrame,\n",
    "                   learning_rate: float = 0.05,\n",
    "                   num_leaves: int = 31,\n",
    "                   n_estimators: int = 2000,\n",
    "                   early_stopping_rounds: int = 100,\n",
    "                   random_state: int = 42) -> Tuple[LGBMClassifier, pd.DataFrame, np.ndarray]:\n",
    "    X_train, y_train_enc, X_val, y_val_enc, le = _prep_xy(x, y, encode_label=True)\n",
    "    num_class = len(np.unique(y_train_enc))\n",
    "\n",
    "    model = LGBMClassifier(\n",
    "        objective=\"multiclass\",\n",
    "        num_class=num_class,\n",
    "        learning_rate=learning_rate,\n",
    "        num_leaves=num_leaves,\n",
    "        n_estimators=n_estimators,\n",
    "        class_weight=\"balanced\",\n",
    "        random_state=random_state,\n",
    "        n_jobs=-1\n",
    "    )\n",
    "\n",
    "    model.fit(\n",
    "        X_train, y_train_enc,\n",
    "        eval_set=[(X_val, y_val_enc)],\n",
    "        eval_metric=\"multi_logloss\",\n",
    "        callbacks=[lgb.early_stopping(stopping_rounds=early_stopping_rounds)]\n",
    "    )\n",
    "\n",
    "    # 조기 종료\n",
    "    model.set_params(**{\"n_estimators\": model.best_iteration_ if model.best_iteration_ else n_estimators})\n",
    "\n",
    "    y_pred_enc = model.predict(X_val)\n",
    "    _evaluate_and_print(y_val_enc, y_pred_enc, model_name=\"LightGBM\", average=\"macro\")\n",
    "    # 필요 시 원라벨: le.inverse_transform(y_pred_enc)\n",
    "    return model, X_val, y_val_enc\n",
    "\n",
    "\n",
    "# 3) XGBoost (다중분류는 라벨 인코딩 필수)\n",
    "def xgb_model_fit(x: pd.DataFrame, y: pd.DataFrame,\n",
    "                  learning_rate: float = 0.05,\n",
    "                  max_depth: int = 6,\n",
    "                  n_estimators: int = 2000,\n",
    "                  subsample: float = 0.9,\n",
    "                  colsample_bytree: float = 0.9,\n",
    "                  early_stopping_rounds: int = 100,\n",
    "                  random_state: int = 42) -> Tuple[XGBClassifier, pd.DataFrame, np.ndarray]:\n",
    "    X_train, y_train_enc, X_val, y_val_enc, le = _prep_xy(x, y, encode_label=True)\n",
    "    num_class = len(np.unique(y_train_enc))\n",
    "\n",
    "    model = XGBClassifier(\n",
    "        objective=\"multi:softprob\",\n",
    "        num_class=num_class,\n",
    "        learning_rate=learning_rate,\n",
    "        max_depth=max_depth,\n",
    "        n_estimators=n_estimators,\n",
    "        subsample=subsample,\n",
    "        colsample_bytree=colsample_bytree,\n",
    "        reg_lambda=1.0,\n",
    "        n_jobs=-1,\n",
    "        random_state=random_state,\n",
    "        early_stopping_rounds=early_stopping_rounds,\n",
    "        tree_method=\"hist\"  # GPU면 'gpu_hist'로 변경 가능\n",
    "    )\n",
    "\n",
    "    model.fit(\n",
    "        X_train, y_train_enc,\n",
    "        eval_set=[(X_val, y_val_enc)],\n",
    "        verbose=False\n",
    "    )\n",
    "\n",
    "    y_pred_enc = model.predict(X_val)\n",
    "    _evaluate_and_print(y_val_enc, y_pred_enc, model_name=\"XGBoost\", average=\"macro\")\n",
    "    return model, X_val, y_val_enc\n"
   ]
  },
  {
   "cell_type": "code",
   "execution_count": 70,
   "id": "f0805e10",
   "metadata": {},
   "outputs": [
    {
     "name": "stdout",
     "output_type": "stream",
     "text": [
      "[RandomForest] Accuracy: 0.8083\n",
      "[RandomForest] F1-score (macro): 0.6718\n"
     ]
    }
   ],
   "source": [
    "_, _, _ = rf_model_fit(train_mmse_df, val_mmse_df)"
   ]
  },
  {
   "cell_type": "code",
   "execution_count": 116,
   "id": "a2452ca1",
   "metadata": {},
   "outputs": [
    {
     "name": "stdout",
     "output_type": "stream",
     "text": [
      "[LightGBM] [Info] Auto-choosing col-wise multi-threading, the overhead of testing was 0.003979 seconds.\n",
      "You can set `force_col_wise=true` to remove the overhead.\n",
      "[LightGBM] [Info] Total Bins 7276\n",
      "[LightGBM] [Info] Number of data points in the train set: 9705, number of used features: 76\n",
      "[LightGBM] [Info] Start training from score -1.098612\n",
      "[LightGBM] [Info] Start training from score -1.098612\n",
      "[LightGBM] [Info] Start training from score -1.098612\n",
      "[LightGBM] [Warning] No further splits with positive gain, best gain: -inf\n",
      "Training until validation scores don't improve for 100 rounds\n",
      "Early stopping, best iteration is:\n",
      "[25]\tvalid_0's multi_logloss: 0.706716\n",
      "[LightGBM] Accuracy: 0.7341\n",
      "[LightGBM] F1-score (macro): 0.6594\n"
     ]
    }
   ],
   "source": [
    "_, _, _ = lgbm_model_fit(train_mmse_df, val_mmse_df)"
   ]
  },
  {
   "cell_type": "code",
   "execution_count": 119,
   "id": "3d025275",
   "metadata": {},
   "outputs": [
    {
     "name": "stdout",
     "output_type": "stream",
     "text": [
      "[XGBoost] Accuracy: 0.7385\n",
      "[XGBoost] F1-score (macro): 0.6606\n"
     ]
    }
   ],
   "source": [
    "_, _, _ = xgb_model_fit(train_mmse_df, val_mmse_df)"
   ]
  }
 ],
 "metadata": {
  "kernelspec": {
   "display_name": "python 3.12",
   "language": "python",
   "name": "py312_jupyter"
  },
  "language_info": {
   "codemirror_mode": {
    "name": "ipython",
    "version": 3
   },
   "file_extension": ".py",
   "mimetype": "text/x-python",
   "name": "python",
   "nbconvert_exporter": "python",
   "pygments_lexer": "ipython3",
   "version": "3.12.11"
  }
 },
 "nbformat": 4,
 "nbformat_minor": 5
}
