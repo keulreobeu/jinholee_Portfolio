{
 "cells": [
  {
   "attachments": {},
   "cell_type": "markdown",
   "metadata": {
    "id": "EegOYei1EadY"
   },
   "source": [
    "# [치매 고위험군 예측 및 환자 서비스]"
   ]
  },
  {
   "attachments": {},
   "cell_type": "markdown",
   "metadata": {
    "id": "gaUGwf0uFD9j"
   },
   "source": [
    "*   기간: 2025/10/15 - 2025/10/22\n",
    "*   리더: 이진호\n",
    "*   스탭: 강주현, 이정민, 장은정\n",
    "*   정의: 치매환자의 웨어러블 라이프로그\n",
    "*   목적: 치매환자의 웨어러블 라이프로그로 치매환자를 예측하고 서비스를 제공함\n",
    "*   범위: 치매 고위험군 300건의 하위 라이프로그 30000건, 인지기능 9000건"
   ]
  },
  {
   "cell_type": "markdown",
   "metadata": {
    "id": "Wc2oLxrZK3qy"
   },
   "source": [
    "## [할 일 목록]"
   ]
  },
  {
   "cell_type": "markdown",
   "metadata": {
    "id": "xqMJWyv7CtjL"
   },
   "source": [
    "### [1일차]\n",
    "\n",
    "\n",
    "\n"
   ]
  },
  {
   "attachments": {},
   "cell_type": "markdown",
   "metadata": {
    "id": "5Zu9ptEAO4e9"
   },
   "source": [
    "#### 1.   **AI-Hub의 치매 고위험군 웨어러블 라이프로그 데이터 수집**"
   ]
  },
  {
   "cell_type": "markdown",
   "metadata": {
    "id": "pqS3op0JPAB_"
   },
   "source": [
    "[AI-Hub 치매 고위험군 웨어러블 라이프로그](https://www.aihub.or.kr/aihubdata/data/view.do?pageIndex=1&currMenu=&topMenu=&srchOptnCnd=OPTNCND001&searchKeyword=%EC%84%BC%EC%84%9C&srchDetailCnd=DETAILCND001&srchOrder=ORDER002&srchPagePer=20&srchDataRealmCode=REALM006&aihubDataSe=data&dataSetSn=226)"
   ]
  },
  {
   "attachments": {},
   "cell_type": "markdown",
   "metadata": {
    "id": "lSQgQa0RPqVs"
   },
   "source": [
    "#### 2.  **EDA 진행**"
   ]
  },
  {
   "cell_type": "markdown",
   "metadata": {
    "id": "HlKHPGvMPqVt"
   },
   "source": [
    "1. 치매가 무엇이고 원인과 증상\n",
    "2. 각 데이터와 그 상세 내역 파악\n",
    "3. 분포확인 및 상관관계 등 기본적인 데이터 분포와 성질 파악"
   ]
  },
  {
   "attachments": {},
   "cell_type": "markdown",
   "metadata": {
    "id": "c7MRPWeEPrGL"
   },
   "source": [
    "#### 3.   "
   ]
  },
  {
   "attachments": {},
   "cell_type": "markdown",
   "metadata": {
    "id": "B_BtjHq0PrGM"
   },
   "source": [
    "필요할 경우 상세 설명을 기술합니다."
   ]
  },
  {
   "attachments": {},
   "cell_type": "markdown",
   "metadata": {
    "id": "7FkXBF5YP3nG"
   },
   "source": [
    "#### 4.   "
   ]
  },
  {
   "attachments": {},
   "cell_type": "markdown",
   "metadata": {
    "id": "nXmmPhynP3nH"
   },
   "source": [
    "필요할 경우 상세 설명을 기술합니다."
   ]
  },
  {
   "attachments": {},
   "cell_type": "markdown",
   "metadata": {
    "id": "9UFMcQx4QDVp"
   },
   "source": [
    "#### 5.   "
   ]
  },
  {
   "attachments": {},
   "cell_type": "markdown",
   "metadata": {
    "id": "9u4Y9I4vQDVp"
   },
   "source": [
    "필요할 경우 상세 설명을 기술합니다."
   ]
  },
  {
   "attachments": {},
   "cell_type": "markdown",
   "metadata": {
    "id": "-ZzkFrNfRnic"
   },
   "source": [
    "### [2일차]\n",
    "\n",
    "\n",
    "\n"
   ]
  },
  {
   "attachments": {},
   "cell_type": "markdown",
   "metadata": {
    "id": "B8Jy4GDdRnij"
   },
   "source": [
    "#### 1.   "
   ]
  },
  {
   "cell_type": "markdown",
   "metadata": {
    "id": "Dz1ou3qIRnij"
   },
   "source": [
    "필요할 경우 상세 설명을 기술합니다."
   ]
  },
  {
   "attachments": {},
   "cell_type": "markdown",
   "metadata": {
    "id": "3xE8U3uHRnij"
   },
   "source": [
    "#### 2.   "
   ]
  },
  {
   "cell_type": "code",
   "execution_count": null,
   "metadata": {
    "vscode": {
     "languageId": "plaintext"
    }
   },
   "outputs": [],
   "source": [
    "필요할 경우 상세 설명을 기술합니다."
   ]
  },
  {
   "attachments": {},
   "cell_type": "markdown",
   "metadata": {
    "id": "DDped4xORnij"
   },
   "source": [
    "#### 3.   "
   ]
  },
  {
   "cell_type": "markdown",
   "metadata": {
    "id": "0wpOMDAeRnik"
   },
   "source": [
    "필요할 경우 상세 설명을 기술합니다."
   ]
  },
  {
   "attachments": {},
   "cell_type": "markdown",
   "metadata": {
    "id": "c5YmcuuZRnik"
   },
   "source": [
    "#### 4.   "
   ]
  },
  {
   "cell_type": "markdown",
   "metadata": {},
   "source": [
    "필요할 경우 상세 설명을 기술합니다."
   ]
  },
  {
   "attachments": {},
   "cell_type": "markdown",
   "metadata": {
    "id": "nfcVmXhwRnik"
   },
   "source": [
    "### [3일차]\n"
   ]
  },
  {
   "attachments": {},
   "cell_type": "markdown",
   "metadata": {},
   "source": [
    "#### 1.   "
   ]
  },
  {
   "attachments": {},
   "cell_type": "markdown",
   "metadata": {
    "id": "W77zMCVpRnik"
   },
   "source": [
    "필요할 경우 상세 설명을 기술합니다."
   ]
  },
  {
   "attachments": {},
   "cell_type": "markdown",
   "metadata": {},
   "source": [
    "#### 2.   "
   ]
  },
  {
   "cell_type": "markdown",
   "metadata": {},
   "source": [
    "필요할 경우 상세 설명을 기술합니다."
   ]
  },
  {
   "attachments": {},
   "cell_type": "markdown",
   "metadata": {},
   "source": [
    "### [4일차]"
   ]
  },
  {
   "attachments": {},
   "cell_type": "markdown",
   "metadata": {},
   "source": [
    "#### 1.   "
   ]
  },
  {
   "attachments": {},
   "cell_type": "markdown",
   "metadata": {},
   "source": [
    "필요할 경우 상세 설명을 기술합니다."
   ]
  },
  {
   "cell_type": "markdown",
   "metadata": {},
   "source": [
    "#### 2.   "
   ]
  },
  {
   "cell_type": "markdown",
   "metadata": {},
   "source": [
    "필요할 경우 상세 설명을 기술합니다."
   ]
  },
  {
   "cell_type": "markdown",
   "metadata": {
    "id": "VDwk-8cuLpT9"
   },
   "source": [
    "## [이슈 항목]"
   ]
  },
  {
   "attachments": {},
   "cell_type": "markdown",
   "metadata": {
    "id": "7qxlWVqCMe3P"
   },
   "source": [
    "\n",
    "### 1.  \n"
   ]
  },
  {
   "cell_type": "markdown",
   "metadata": {},
   "source": []
  },
  {
   "attachments": {},
   "cell_type": "markdown",
   "metadata": {
    "id": "ubsz1tUKSDt3"
   },
   "source": [
    "### 2.   "
   ]
  },
  {
   "cell_type": "markdown",
   "metadata": {},
   "source": []
  }
 ],
 "metadata": {
  "colab": {
   "authorship_tag": "ABX9TyN2H03+SyTzY0fDql2e3c+O",
   "collapsed_sections": [
    "Wc2oLxrZK3qy",
    "xqMJWyv7CtjL",
    "5Zu9ptEAO4e9",
    "lSQgQa0RPqVs",
    "c7MRPWeEPrGL",
    "7FkXBF5YP3nG",
    "-ZzkFrNfRnic"
   ],
   "provenance": [],
   "toc_visible": true
  },
  "kernelspec": {
   "display_name": "stats",
   "language": "python",
   "name": "stats"
  },
  "language_info": {
   "name": "python",
   "version": "3.8.15"
  }
 },
 "nbformat": 4,
 "nbformat_minor": 0
}
