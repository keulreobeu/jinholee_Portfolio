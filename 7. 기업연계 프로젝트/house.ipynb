{
 "cells": [
  {
   "cell_type": "code",
   "execution_count": 2,
   "metadata": {},
   "outputs": [],
   "source": [
    "import numpy as np\n",
    "import pandas as pd\n",
    "import scipy as sp\n",
    "import seaborn as sns\n",
    "import matplotlib.pyplot as plt\n",
    "import matplotlib as mpl\n",
    "from sklearn.datasets import load_digits\n",
    "from matplotlib import font_manager\n",
    "from matplotlib import gridspec\n",
    "from math import factorial\n",
    "import sklearn\n",
    "import pprint\n",
    "import re\n",
    "from sklearn.preprocessing import LabelEncoder\n",
    "import time\n",
    "from sklearn.model_selection import train_test_split\n",
    "from keras.models import Sequential\n",
    "from keras.layers import LSTM, Dense\n",
    "\n",
    "\n",
    "import warnings\n",
    "warnings.filterwarnings('ignore')\n",
    "\n",
    "font_fname = 'C:/Windows/Fonts/malgun.ttf'\n",
    "font_family = font_manager.FontProperties(fname=font_fname).get_name()\n",
    "\n",
    "plt.rcParams[\"font.family\"] = font_family\n",
    "plt.rcParams[\"axes.unicode_minus\"] = False\n",
    "\n",
    "\n",
    "%matplotlib inline"
   ]
  },
  {
   "cell_type": "code",
   "execution_count": 2,
   "metadata": {},
   "outputs": [],
   "source": [
    "청약 = pd.read_csv('청약홈_분양정보_2020년9월.csv')"
   ]
  },
  {
   "cell_type": "code",
   "execution_count": 3,
   "metadata": {},
   "outputs": [],
   "source": [
    "청약['타입'] = 청약['타입'].replace('APT', '아파트')"
   ]
  },
  {
   "cell_type": "code",
   "execution_count": 4,
   "metadata": {},
   "outputs": [
    {
     "data": {
      "text/html": [
       "<div>\n",
       "<style scoped>\n",
       "    .dataframe tbody tr th:only-of-type {\n",
       "        vertical-align: middle;\n",
       "    }\n",
       "\n",
       "    .dataframe tbody tr th {\n",
       "        vertical-align: top;\n",
       "    }\n",
       "\n",
       "    .dataframe thead th {\n",
       "        text-align: right;\n",
       "    }\n",
       "</style>\n",
       "<table border=\"1\" class=\"dataframe\">\n",
       "  <thead>\n",
       "    <tr style=\"text-align: right;\">\n",
       "      <th></th>\n",
       "      <th>주택공급면적</th>\n",
       "      <th>전용면적</th>\n",
       "    </tr>\n",
       "  </thead>\n",
       "  <tbody>\n",
       "    <tr>\n",
       "      <th>0</th>\n",
       "      <td>84.8474</td>\n",
       "      <td>059.9706A</td>\n",
       "    </tr>\n",
       "    <tr>\n",
       "      <th>1</th>\n",
       "      <td>85.5411</td>\n",
       "      <td>059.9702B</td>\n",
       "    </tr>\n",
       "    <tr>\n",
       "      <th>2</th>\n",
       "      <td>111.8544</td>\n",
       "      <td>084.9883A</td>\n",
       "    </tr>\n",
       "    <tr>\n",
       "      <th>3</th>\n",
       "      <td>112.1487</td>\n",
       "      <td>084.9939B</td>\n",
       "    </tr>\n",
       "    <tr>\n",
       "      <th>4</th>\n",
       "      <td>112.9441</td>\n",
       "      <td>084.8985C</td>\n",
       "    </tr>\n",
       "  </tbody>\n",
       "</table>\n",
       "</div>"
      ],
      "text/plain": [
       "     주택공급면적       전용면적\n",
       "0   84.8474  059.9706A\n",
       "1   85.5411  059.9702B\n",
       "2  111.8544  084.9883A\n",
       "3  112.1487  084.9939B\n",
       "4  112.9441  084.8985C"
      ]
     },
     "execution_count": 4,
     "metadata": {},
     "output_type": "execute_result"
    }
   ],
   "source": [
    "청약[['주택공급면적', '전용면적']].head()"
   ]
  },
  {
   "cell_type": "code",
   "execution_count": 5,
   "metadata": {},
   "outputs": [],
   "source": [
    "청약['전용면적'] = 청약['전용면적'].str.extract(r'(\\d+\\.\\d{1,2})').astype(float)"
   ]
  },
  {
   "cell_type": "code",
   "execution_count": 134,
   "metadata": {},
   "outputs": [
    {
     "data": {
      "text/html": [
       "<div>\n",
       "<style scoped>\n",
       "    .dataframe tbody tr th:only-of-type {\n",
       "        vertical-align: middle;\n",
       "    }\n",
       "\n",
       "    .dataframe tbody tr th {\n",
       "        vertical-align: top;\n",
       "    }\n",
       "\n",
       "    .dataframe thead th {\n",
       "        text-align: right;\n",
       "    }\n",
       "</style>\n",
       "<table border=\"1\" class=\"dataframe\">\n",
       "  <thead>\n",
       "    <tr style=\"text-align: right;\">\n",
       "      <th></th>\n",
       "      <th>주택공급면적</th>\n",
       "      <th>전용면적</th>\n",
       "    </tr>\n",
       "  </thead>\n",
       "  <tbody>\n",
       "    <tr>\n",
       "      <th>0</th>\n",
       "      <td>84.8474</td>\n",
       "      <td>59.97</td>\n",
       "    </tr>\n",
       "    <tr>\n",
       "      <th>1</th>\n",
       "      <td>85.5411</td>\n",
       "      <td>59.97</td>\n",
       "    </tr>\n",
       "    <tr>\n",
       "      <th>2</th>\n",
       "      <td>111.8544</td>\n",
       "      <td>84.98</td>\n",
       "    </tr>\n",
       "    <tr>\n",
       "      <th>3</th>\n",
       "      <td>112.1487</td>\n",
       "      <td>84.99</td>\n",
       "    </tr>\n",
       "    <tr>\n",
       "      <th>4</th>\n",
       "      <td>112.9441</td>\n",
       "      <td>84.89</td>\n",
       "    </tr>\n",
       "    <tr>\n",
       "      <th>...</th>\n",
       "      <td>...</td>\n",
       "      <td>...</td>\n",
       "    </tr>\n",
       "    <tr>\n",
       "      <th>828</th>\n",
       "      <td>111.8900</td>\n",
       "      <td>84.94</td>\n",
       "    </tr>\n",
       "    <tr>\n",
       "      <th>829</th>\n",
       "      <td>112.1300</td>\n",
       "      <td>84.91</td>\n",
       "    </tr>\n",
       "    <tr>\n",
       "      <th>830</th>\n",
       "      <td>131.0300</td>\n",
       "      <td>101.95</td>\n",
       "    </tr>\n",
       "    <tr>\n",
       "      <th>831</th>\n",
       "      <td>203.1700</td>\n",
       "      <td>152.71</td>\n",
       "    </tr>\n",
       "    <tr>\n",
       "      <th>832</th>\n",
       "      <td>315.8500</td>\n",
       "      <td>241.77</td>\n",
       "    </tr>\n",
       "  </tbody>\n",
       "</table>\n",
       "<p>833 rows × 2 columns</p>\n",
       "</div>"
      ],
      "text/plain": [
       "       주택공급면적    전용면적\n",
       "0     84.8474   59.97\n",
       "1     85.5411   59.97\n",
       "2    111.8544   84.98\n",
       "3    112.1487   84.99\n",
       "4    112.9441   84.89\n",
       "..        ...     ...\n",
       "828  111.8900   84.94\n",
       "829  112.1300   84.91\n",
       "830  131.0300  101.95\n",
       "831  203.1700  152.71\n",
       "832  315.8500  241.77\n",
       "\n",
       "[833 rows x 2 columns]"
      ]
     },
     "execution_count": 134,
     "metadata": {},
     "output_type": "execute_result"
    }
   ],
   "source": [
    "청약[['주택공급면적', '전용면적']]"
   ]
  },
  {
   "cell_type": "code",
   "execution_count": 136,
   "metadata": {},
   "outputs": [],
   "source": [
    "청약.to_csv('청약홈_분양정보_2020년9월_수정.csv',encoding='cp949', index=False)"
   ]
  },
  {
   "cell_type": "code",
   "execution_count": 137,
   "metadata": {},
   "outputs": [],
   "source": [
    "청약 = pd.read_csv('청약홈_분양정보_2020년9월_수정2.csv',encoding='cp949')"
   ]
  },
  {
   "cell_type": "code",
   "execution_count": 138,
   "metadata": {},
   "outputs": [],
   "source": [
    "청약.to_csv('청약홈_분양정보_2020년9월_수정2.csv',encoding='cp949', index=False)"
   ]
  },
  {
   "cell_type": "code",
   "execution_count": 139,
   "metadata": {},
   "outputs": [],
   "source": [
    "청약1 = pd.read_csv('청약홈_분양정보_2020년9월_수정2.csv', encoding='cp949')"
   ]
  },
  {
   "cell_type": "code",
   "execution_count": 140,
   "metadata": {},
   "outputs": [],
   "source": [
    "청약2 = pd.read_csv('예지님_분양정보_데이터.csv', encoding='utf-8')"
   ]
  },
  {
   "cell_type": "code",
   "execution_count": 141,
   "metadata": {},
   "outputs": [],
   "source": [
    "청약3 = pd.read_csv('수종님_202110_202209.csv', encoding='cp949')"
   ]
  },
  {
   "cell_type": "code",
   "execution_count": 226,
   "metadata": {},
   "outputs": [],
   "source": [
    "청약4 = pd.read_csv('은옥님2_202210_202309.csv', encoding='utf-8')"
   ]
  },
  {
   "cell_type": "code",
   "execution_count": 143,
   "metadata": {},
   "outputs": [
    {
     "data": {
      "text/plain": [
       "Index(['타입', '아파트명', '면적', '법정동주소', '도로명주소', '위도', '경도', '세대수', '임대세대수',\n",
       "       '영구임대세대수', '국민임대세대수', '민간임대세대수', '공공임대세대수', '장기임대세대수', '기타임대세대수', '최고층',\n",
       "       '최저층', '사용승인일', '최대공급면적', '최소공급면적', '총아파트동수', '용적률', '건폐율', '주차대수',\n",
       "       '세대평균_주차대수', '건설사', '주택공급면적', '전용면적', '전용율', '방수', '욕실수', '해당면적_세대수',\n",
       "       '현관구조', '가격', '초등학교_학군정보', '초등학교_설립정보', '입주예정월', '공급금액(최고가 기준)'],\n",
       "      dtype='object')"
      ]
     },
     "execution_count": 143,
     "metadata": {},
     "output_type": "execute_result"
    }
   ],
   "source": [
    "청약1.keys()"
   ]
  },
  {
   "cell_type": "code",
   "execution_count": 144,
   "metadata": {},
   "outputs": [
    {
     "data": {
      "text/plain": [
       "Index(['Unnamed: 0', '타입', '아파트명', '면적', '법정동주소', '도로명주소', '위도 구글 API',\n",
       "       '경도 구글 API', '세대수', '임대세대수', '영구임대세대수', '국민임대세대수', '민간임대세대수', '공공임대세대수',\n",
       "       '장기임대세대수', '기타임대세대수', '최고층', '최저층', '사용승인일', '최대공급면적', '최소공급면적',\n",
       "       '총아파트동수', '매매', '전세', '월세', '단기', '부지의 총면적', '건축물의 총 평방 미터 면적',\n",
       "       '건물의 바닥 면적', '용적률', '건폐율', '주차대수', '세대평균_주차대수', '건설사', '난방', '난방연료',\n",
       "       '면적(참조)', '면적(수식)', '공급면적', '전용면적', '전용율', '방수', '욕실수', '해당면적_세대수',\n",
       "       '현관구조', '재산세', '재산세합계', '지방교육세', '재산세_도시지역분', '종합부동산세', '결정세액',\n",
       "       '농어촌특별세', '가격', '겨울관리비', '여름관리비', '매매호가', '전세호가', '월세호가', '실거래가',\n",
       "       '초등학교_학군정보', '초등학교_설립정보', '초등학교_남학생수', '초등학교_여학생수', '입주예정월',\n",
       "       '공급금액(최고가 기준)'],\n",
       "      dtype='object')"
      ]
     },
     "execution_count": 144,
     "metadata": {},
     "output_type": "execute_result"
    }
   ],
   "source": [
    "청약2.keys()"
   ]
  },
  {
   "cell_type": "code",
   "execution_count": 232,
   "metadata": {},
   "outputs": [],
   "source": [
    "청약1_수정 = 청약1.drop(['타입','사용승인일'], axis=1)\n",
    "청약1_수정.rename(columns={'주택공급면적': '공급면적', '입주예정월':'입주예정일', '공급금액(최고가 기준)': '공급액(만원)'}, inplace=True)"
   ]
  },
  {
   "cell_type": "code",
   "execution_count": 233,
   "metadata": {},
   "outputs": [],
   "source": [
    "청약2_수정 = 청약2.drop(['Unnamed: 0', '타입', '매매', '전세', '월세', '단기', '부지의 총면적', '건축물의 총 평방 미터 면적',\n",
    "       '건물의 바닥 면적', '난방', '난방연료','면적(참조)', '면적(수식)','재산세', '재산세합계', '지방교육세', '재산세_도시지역분', '종합부동산세', '결정세액',\n",
    "       '농어촌특별세','겨울관리비', '여름관리비', '매매호가', '전세호가', '월세호가', '실거래가','초등학교_남학생수', '초등학교_여학생수', '사용승인일'],axis=1)\n",
    "\n",
    "청약2_수정.rename(columns={'위도 구글 API': '위도', '경도 구글 API': '경도', '입주예정월':'입주예정일', '공급금액(최고가 기준)': '공급액(만원)'}, inplace=True)"
   ]
  },
  {
   "cell_type": "code",
   "execution_count": 234,
   "metadata": {},
   "outputs": [],
   "source": [
    "청약3_수정 =  청약3.drop('Unnamed: 0',axis=1)"
   ]
  },
  {
   "cell_type": "code",
   "execution_count": 235,
   "metadata": {},
   "outputs": [],
   "source": [
    "청약4_수정 =  청약4.drop(['타입','사용승인일'],axis=1)"
   ]
  },
  {
   "cell_type": "code",
   "execution_count": 236,
   "metadata": {},
   "outputs": [],
   "source": [
    "tup_list = []\n",
    "for i in range(len(청약4_수정.keys())):\n",
    "    tup_list.append((청약1_수정.keys()[i], 청약2_수정.keys()[i], 청약3_수정.keys()[i], 청약4_수정.keys()[i]))"
   ]
  },
  {
   "cell_type": "code",
   "execution_count": 238,
   "metadata": {},
   "outputs": [
    {
     "name": "stdout",
     "output_type": "stream",
     "text": [
      "모든 데이터프레임의 컬럼이 동일합니다.\n"
     ]
    }
   ],
   "source": [
    "# 컬럼명 확인 및 비교\n",
    "columns_df1 = set(청약1_수정.columns)\n",
    "columns_df2 = set(청약2_수정.columns)\n",
    "columns_df3 = set(청약3_수정.columns)\n",
    "columns_df4 = set(청약4_수정.columns)\n",
    "\n",
    "if columns_df1 == columns_df2 == columns_df3 == columns_df4:\n",
    "    print(\"모든 데이터프레임의 컬럼이 동일합니다.\")\n",
    "else:\n",
    "    print(\"데이터프레임의 컬럼이 다를 수 있습니다.\")"
   ]
  },
  {
   "cell_type": "code",
   "execution_count": 246,
   "metadata": {},
   "outputs": [],
   "source": [
    "frames = [청약1_수정, 청약2_수정, 청약3_수정, 청약4_수정]\n",
    "청약_합본 = pd.concat(frames).reset_index(drop=True)\n",
    "청약_합본.dropna(subset=['위도', '경도', '공급액(만원)'], inplace=True)"
   ]
  },
  {
   "cell_type": "code",
   "execution_count": 247,
   "metadata": {},
   "outputs": [
    {
     "name": "stdout",
     "output_type": "stream",
     "text": [
      "<class 'pandas.core.frame.DataFrame'>\n",
      "Int64Index: 3347 entries, 0 to 3365\n",
      "Data columns (total 36 columns):\n",
      " #   Column     Non-Null Count  Dtype  \n",
      "---  ------     --------------  -----  \n",
      " 0   아파트명       3347 non-null   object \n",
      " 1   면적         3347 non-null   object \n",
      " 2   법정동주소      3345 non-null   object \n",
      " 3   도로명주소      1976 non-null   object \n",
      " 4   위도         3347 non-null   float64\n",
      " 5   경도         3347 non-null   float64\n",
      " 6   세대수        3347 non-null   object \n",
      " 7   임대세대수      3108 non-null   object \n",
      " 8   영구임대세대수    3059 non-null   float64\n",
      " 9   국민임대세대수    3059 non-null   float64\n",
      " 10  민간임대세대수    3059 non-null   float64\n",
      " 11  공공임대세대수    3059 non-null   float64\n",
      " 12  장기임대세대수    3059 non-null   float64\n",
      " 13  기타임대세대수    3058 non-null   float64\n",
      " 14  최고층        3302 non-null   float64\n",
      " 15  최저층        3288 non-null   float64\n",
      " 16  최대공급면적     3310 non-null   float64\n",
      " 17  최소공급면적     3310 non-null   float64\n",
      " 18  총아파트동수     3319 non-null   float64\n",
      " 19  용적률        3227 non-null   object \n",
      " 20  건폐율        3201 non-null   object \n",
      " 21  주차대수       3169 non-null   object \n",
      " 22  세대평균_주차대수  2933 non-null   float64\n",
      " 23  건설사        3347 non-null   object \n",
      " 24  공급면적       3347 non-null   float64\n",
      " 25  전용면적       3347 non-null   float64\n",
      " 26  전용율        3344 non-null   object \n",
      " 27  방수         3261 non-null   float64\n",
      " 28  욕실수        3261 non-null   float64\n",
      " 29  해당면적_세대수   3339 non-null   object \n",
      " 30  현관구조       3278 non-null   object \n",
      " 31  가격         1029 non-null   object \n",
      " 32  초등학교_학군정보  2845 non-null   object \n",
      " 33  초등학교_설립정보  2770 non-null   object \n",
      " 34  입주예정일      3266 non-null   object \n",
      " 35  공급액(만원)    3347 non-null   object \n",
      "dtypes: float64(18), object(18)\n",
      "memory usage: 967.5+ KB\n"
     ]
    }
   ],
   "source": [
    "청약_합본.info()"
   ]
  },
  {
   "attachments": {},
   "cell_type": "markdown",
   "metadata": {},
   "source": [
    " 6   세대수        3349 non-null   object  문자열 콤마\n",
    " 7   임대세대수      3108 non-null   object  nan 문자열 콤마\n",
    " 19  용적률        3229 non-null   object  nan #DIV/0! 문자열 %\n",
    " 20  건폐율        3203 non-null   object  nan #DIV/0! 문자열 %\n",
    " 21  주차대수       3171 non-null   object nan 문자열 콤마\n",
    " 26  전용율        3346 non-null   object  nan %\n",
    " 29  해당면적_세대수   3339 non-null   object nan 문자열 콤마\n",
    " 34  입주예정일      3268 non-null   object  nan 시계열통일"
   ]
  },
  {
   "cell_type": "code",
   "execution_count": 302,
   "metadata": {},
   "outputs": [
    {
     "data": {
      "text/plain": [
       "array([878, 1466, 160, 299, 1223, 1388, 188, 672, 99, 1048, 48, 42, 489,\n",
       "       1235, 218, 1163, 243, 626, 1529, 280, 58, 407, 576, 1772, 950, 45,\n",
       "       877, 583, 420, 375, 656, 824, 1050, 1516, 170, 424, 826, 1086, 999,\n",
       "       544, 168, 665, 186, 393, 820, 1509, 565, 230, 606, 438, 233, 64,\n",
       "       172, 767, 700, 605, 32, 136, 1187, 1130, 3432, 766, 1246, 225, 873,\n",
       "       1108, 610, 935, 504, 4774, 348, 664, 1140, 3603, 475, 647, 87, 930,\n",
       "       604, 653, 747, 1714, 860, 155, 666, 79, 702, 318, 466, 144, 1297,\n",
       "       620, 1228, 804, 1335, 1872, 680, 428, 517, 512, 380, 677, 920, 412,\n",
       "       2426, 1559, 1100, 1218, 2054, 303, 909, 358, 726, 345, 745, 1406,\n",
       "       1834, 1205, 722, 1409, 385, 437, 534, 499, 413, 178, 294, 346, 342,\n",
       "       430, 2379, 35, 55, 37, 1926, 353, 642, 609, 602, 496, 139, 207,\n",
       "       435, 679, 584, 740, 841, 1134, 43, 254, 336, 394, 1282, 627, 976,\n",
       "       1378, 174, 640, 986, 550, 1696, 559, 341, 2339, 809, 660, 130, 90,\n",
       "       360, 27, 56, 556, 40, 808, 707, 444, 506, 994, 389, 2902, 47, 240,\n",
       "       1033, 472, 505, 1503, 51, 780, 1721, 539, 869, 175, 1063, 66, 1475,\n",
       "       750, 852, 117, 34, 1598, 208, 1069, 297, 867, 977, 104, 112, 274,\n",
       "       237, 579, 650, 2049, 158, 531, 453, 1172, 447, 1499, 49, 370, 810,\n",
       "       281, 945, 448, 67, 641, 224, 927, 1701, 450, 76, 314, 913, 97,\n",
       "       1131, 81, 75, 1345, 1358, 1052, 16, 454, 44, 812, 2333, 157, 124,\n",
       "       593, 219, 623, 689, 264, 211, 451, 474, 94, 741, 596, 870, 154, 8,\n",
       "       440, 162, 63, 89, 329, 206, 216, 122, 156, 1045, 199, 340, 875,\n",
       "       249, 1500, 1321, 1115, 736, 545, 469, 483, 1734, 1073, 462, 166,\n",
       "       1319, 1114, 608, 131, 822, 210, 270, 209, 1425, 968, 1224, 1533,\n",
       "       1215, 676, 96, 2586, 118, 2633, 138, 128, 514, 769, 862, 916, 121,\n",
       "       250, 1236, 494, 406, 636, 82, 278, 600, 938, 304, 2124, 74, 770,\n",
       "       796, 431, 536, 1080, 433, 320, 917, 798, 880, 388, 326, 2736, 72,\n",
       "       132, 338, 570, 1370, 1468, 786, 693, 779, 1318, 1043, 2329, 180,\n",
       "       897, 351, 416, 2737, 948, 705, 1107, 591, 744, 629, 419, 308, 893,\n",
       "       135, 778, 452, 828, 1833, 1403, 725, 300, 404, 1745, 377, 659,\n",
       "       1245, 706, '396', '3069', '1659', '32', '1063', '36', '110', '562',\n",
       "       '303', '1370', '992', '145', '703', '1957', '849', '34', '761',\n",
       "       '571', '903', '1230', '1700', '800', '1152', '856', '283', '424',\n",
       "       '192', '72', '39', '988', '2180', '97', '182', '78', '625', '243',\n",
       "       '1,049', '1,146', '218', '746', '540', '1,806', '752', '707',\n",
       "       '1,299', '12,032', '2,840', '1,055', '1,040', '134', '670', '583',\n",
       "       '41', '400', '3,585', '350', '999', '637', '355', '806', '1,103',\n",
       "       '99', '660', '292', '1,554', '569', '1,571', '1,180', '1,154',\n",
       "       '526', '2,886', '1,051', '3,084', '840', '142', '908', '640',\n",
       "       '616', '1,110', '430', '427', '679', '414', '310', '1,255', '726',\n",
       "       '351', '416', '486', '518', '995', '380', '264', '1,690', '499',\n",
       "       '457', '1,057', '1,296', '378', '94'], dtype=object)"
      ]
     },
     "execution_count": 302,
     "metadata": {},
     "output_type": "execute_result"
    }
   ],
   "source": [
    "청약_합본['세대수'].unique()"
   ]
  },
  {
   "cell_type": "code",
   "execution_count": 309,
   "metadata": {},
   "outputs": [],
   "source": [
    "청약_합본_copy = 청약_합본.copy()\n",
    "청약_합본_copy['세대수'] = 청약_합본_copy['세대수'].astype(str).str.replace(',', '').fillna(-1).astype(int)\n",
    "\n",
    "청약_합본_copy['임대세대수'] = 청약_합본_copy['임대세대수'].astype(str).str.replace(',', '').fillna(-1).astype(float)\n",
    "\n",
    "청약_합본_copy['용적률'] = 청약_합본_copy['용적률'].astype(str).str.replace('%', '').fillna(-1).replace('#DIV/0!', -1).astype(float)\n",
    "\n",
    "청약_합본_copy['건폐율'] = 청약_합본_copy['건폐율'].astype(str).str.replace('%', '').fillna(-1).replace('#DIV/0!', -1).astype(float)\n",
    "\n",
    "청약_합본_copy['주차대수'] = 청약_합본_copy['주차대수'].astype(str).str.replace(',', '').fillna(-1).astype(float)\n",
    "\n",
    "청약_합본_copy['전용율'] = 청약_합본_copy['전용율'].astype(str).str.replace('%', '').fillna(-1).astype(float)\n",
    "\n",
    "청약_합본_copy['해당면적_세대수'] = 청약_합본_copy['해당면적_세대수'].astype(str).str.replace(',', '').fillna(-1).astype(float)\n"
   ]
  },
  {
   "cell_type": "code",
   "execution_count": 304,
   "metadata": {},
   "outputs": [
    {
     "data": {
      "text/plain": [
       "0       878\n",
       "1       878\n",
       "2       878\n",
       "3       878\n",
       "4       878\n",
       "       ... \n",
       "3361     94\n",
       "3362     94\n",
       "3363     94\n",
       "3364     94\n",
       "3365     94\n",
       "Name: 세대수, Length: 3347, dtype: int32"
      ]
     },
     "execution_count": 304,
     "metadata": {},
     "output_type": "execute_result"
    }
   ],
   "source": [
    "청약_합본_copy['세대수']"
   ]
  },
  {
   "cell_type": "code",
   "execution_count": 291,
   "metadata": {},
   "outputs": [
    {
     "data": {
      "text/plain": [
       "0"
      ]
     },
     "execution_count": 291,
     "metadata": {},
     "output_type": "execute_result"
    }
   ],
   "source": [
    "청약_합본['세대수'].isna().sum()"
   ]
  },
  {
   "cell_type": "code",
   "execution_count": 312,
   "metadata": {},
   "outputs": [],
   "source": [
    "청약_합본_copy.to_csv('청약홈_합본.csv', encoding='cp949')"
   ]
  },
  {
   "cell_type": "code",
   "execution_count": 155,
   "metadata": {},
   "outputs": [],
   "source": [
    "병원 = pd.read_csv('fulldata_01_01_01_P_병원.csv', encoding='cp949')"
   ]
  },
  {
   "cell_type": "code",
   "execution_count": 157,
   "metadata": {},
   "outputs": [
    {
     "data": {
      "text/plain": [
       "Index(['번호', '개방서비스명', '개방서비스아이디', '개방자치단체코드', '관리번호', '인허가일자', '인허가취소일자',\n",
       "       '영업상태구분코드', '영업상태명', '상세영업상태코드', '상세영업상태명', '폐업일자', '휴업시작일자', '휴업종료일자',\n",
       "       '재개업일자', '소재지전화', '소재지면적', '소재지우편번호', '소재지전체주소', '도로명전체주소', '도로명우편번호',\n",
       "       '사업장명', '최종수정시점', '데이터갱신구분', '데이터갱신일자', '업태구분명', '좌표정보(x)', '좌표정보(y)',\n",
       "       '의료기관종별명', '의료인수', '입원실수', '병상수', '총면적', '진료과목내용', '진료과목내용명', '지정취소일자',\n",
       "       '완화의료지정형태', '완화의료담당부서명', '구급차특수', '구급차일반', '총인원', '구조사수', '허가병상수',\n",
       "       '최초지정일자', '관리주체', 'Unnamed: 45'],\n",
       "      dtype='object')"
      ]
     },
     "execution_count": 157,
     "metadata": {},
     "output_type": "execute_result"
    }
   ],
   "source": [
    "병원.keys()"
   ]
  },
  {
   "cell_type": "code",
   "execution_count": 158,
   "metadata": {},
   "outputs": [
    {
     "data": {
      "text/plain": [
       "array(['요양병원(일반요양병원)', '정신병원', '병원', '요양병원(노인병원)', '종합병원', '한방병원', '치과병원',\n",
       "       '요양병원(정신병원)', nan], dtype=object)"
      ]
     },
     "execution_count": 158,
     "metadata": {},
     "output_type": "execute_result"
    }
   ],
   "source": [
    "병원['업태구분명'].unique()"
   ]
  },
  {
   "cell_type": "code",
   "execution_count": 164,
   "metadata": {},
   "outputs": [
    {
     "name": "stderr",
     "output_type": "stream",
     "text": [
      "Skipping line 96565: expected 45 fields, saw 46\n",
      "\n"
     ]
    }
   ],
   "source": [
    "의원 = pd.read_csv('fulldata_01_01_02_P_의원.csv', encoding='cp949', error_bad_lines=False)"
   ]
  },
  {
   "cell_type": "code",
   "execution_count": 166,
   "metadata": {},
   "outputs": [
    {
     "data": {
      "text/plain": [
       "Index(['번호', '개방서비스명', '개방서비스아이디', '개방자치단체코드', '관리번호', '인허가일자', '인허가취소일자',\n",
       "       '영업상태구분코드', '영업상태명', '상세영업상태코드', '상세영업상태명', '폐업일자', '휴업시작일자', '휴업종료일자',\n",
       "       '재개업일자', '소재지전화', '소재지면적', '소재지우편번호', '소재지전체주소', '도로명전체주소', '도로명우편번호',\n",
       "       '사업장명', '최종수정시점', '데이터갱신구분', '데이터갱신일자', '업태구분명', '좌표정보(x)', '좌표정보(y)',\n",
       "       '의료기관종별명', '의료인수', '입원실수', '병상수', '총면적', '진료과목내용', '진료과목내용명', '지정취소일자',\n",
       "       '완화의료지정형태', '완화의료담당부서명', '구급차특수', '구급차일반', '총인원', '구조사수', '허가병상수',\n",
       "       '최초지정일자', 'Unnamed: 44'],\n",
       "      dtype='object')"
      ]
     },
     "execution_count": 166,
     "metadata": {},
     "output_type": "execute_result"
    }
   ],
   "source": [
    "의원.keys()"
   ]
  },
  {
   "cell_type": "code",
   "execution_count": 176,
   "metadata": {},
   "outputs": [
    {
     "data": {
      "text/html": [
       "<div>\n",
       "<style scoped>\n",
       "    .dataframe tbody tr th:only-of-type {\n",
       "        vertical-align: middle;\n",
       "    }\n",
       "\n",
       "    .dataframe tbody tr th {\n",
       "        vertical-align: top;\n",
       "    }\n",
       "\n",
       "    .dataframe thead th {\n",
       "        text-align: right;\n",
       "    }\n",
       "</style>\n",
       "<table border=\"1\" class=\"dataframe\">\n",
       "  <thead>\n",
       "    <tr style=\"text-align: right;\">\n",
       "      <th></th>\n",
       "      <th>좌표정보(x)</th>\n",
       "      <th>좌표정보(y)</th>\n",
       "    </tr>\n",
       "  </thead>\n",
       "  <tbody>\n",
       "    <tr>\n",
       "      <th>0</th>\n",
       "      <td>192630.735112</td>\n",
       "      <td>185314.617632</td>\n",
       "    </tr>\n",
       "    <tr>\n",
       "      <th>1</th>\n",
       "      <td>190646.777107</td>\n",
       "      <td>189589.427851</td>\n",
       "    </tr>\n",
       "    <tr>\n",
       "      <th>2</th>\n",
       "      <td>190645.299575</td>\n",
       "      <td>189353.478160</td>\n",
       "    </tr>\n",
       "    <tr>\n",
       "      <th>3</th>\n",
       "      <td>188411.596132</td>\n",
       "      <td>190307.223169</td>\n",
       "    </tr>\n",
       "    <tr>\n",
       "      <th>4</th>\n",
       "      <td>190524.805310</td>\n",
       "      <td>190074.515460</td>\n",
       "    </tr>\n",
       "  </tbody>\n",
       "</table>\n",
       "</div>"
      ],
      "text/plain": [
       "         좌표정보(x)        좌표정보(y)\n",
       "0  192630.735112  185314.617632\n",
       "1  190646.777107  189589.427851\n",
       "2  190645.299575  189353.478160\n",
       "3  188411.596132  190307.223169\n",
       "4  190524.805310  190074.515460"
      ]
     },
     "execution_count": 176,
     "metadata": {},
     "output_type": "execute_result"
    }
   ],
   "source": [
    "의원[['좌표정보(x)', '좌표정보(y)']].head()"
   ]
  },
  {
   "cell_type": "code",
   "execution_count": 181,
   "metadata": {},
   "outputs": [],
   "source": [
    "from pyproj import Transformer\n",
    "\n",
    "# 좌표 변환에 사용할 변환 객체 생성\n",
    "transformer = Transformer.from_crs(\"EPSG:2097\", \"EPSG:4326\")  # TM -> WGS84\n",
    "\n",
    "\n",
    "# 좌표 변환\n",
    "의원['위도'], 의원['경도'] = transformer.transform(의원['좌표정보(x)'], 의원['좌표정보(y)'])\n",
    "병원['위도'], 병원['경도'] = transformer.transform(병원['좌표정보(x)'], 병원['좌표정보(y)'])"
   ]
  },
  {
   "cell_type": "code",
   "execution_count": 183,
   "metadata": {},
   "outputs": [
    {
     "data": {
      "text/plain": [
       "array(['치과의원', '한의원', '의원', '보건진료소', '보건지소', '보건소', '조산원', '보건의료원'],\n",
       "      dtype=object)"
      ]
     },
     "execution_count": 183,
     "metadata": {},
     "output_type": "execute_result"
    }
   ],
   "source": [
    "의원['업태구분명'].unique()"
   ]
  },
  {
   "cell_type": "code",
   "execution_count": 190,
   "metadata": {},
   "outputs": [
    {
     "data": {
      "text/plain": [
       "의원       59482\n",
       "치과의원     27444\n",
       "한의원      25398\n",
       "보건진료소     1930\n",
       "보건지소      1356\n",
       "보건소        254\n",
       "조산원        105\n",
       "보건의료원       15\n",
       "Name: 업태구분명, dtype: int64"
      ]
     },
     "execution_count": 190,
     "metadata": {},
     "output_type": "execute_result"
    }
   ],
   "source": [
    "의원['업태구분명'].value_counts()"
   ]
  },
  {
   "cell_type": "code",
   "execution_count": 186,
   "metadata": {},
   "outputs": [
    {
     "data": {
      "text/plain": [
       "array(['영업/정상', '취소/말소/만료/정지/중지', '폐업', '휴업'], dtype=object)"
      ]
     },
     "execution_count": 186,
     "metadata": {},
     "output_type": "execute_result"
    }
   ],
   "source": [
    "의원['영업상태명'].unique()"
   ]
  },
  {
   "cell_type": "code",
   "execution_count": 191,
   "metadata": {},
   "outputs": [
    {
     "data": {
      "text/plain": [
       "영업/정상             72239\n",
       "폐업                43125\n",
       "취소/말소/만료/정지/중지      445\n",
       "휴업                  175\n",
       "Name: 영업상태명, dtype: int64"
      ]
     },
     "execution_count": 191,
     "metadata": {},
     "output_type": "execute_result"
    }
   ],
   "source": [
    "의원['영업상태명'].value_counts()"
   ]
  },
  {
   "cell_type": "code",
   "execution_count": 195,
   "metadata": {},
   "outputs": [],
   "source": [
    "의원_선택 = 의원[의원['영업상태명'] == '영업/정상']"
   ]
  },
  {
   "cell_type": "code",
   "execution_count": 203,
   "metadata": {},
   "outputs": [],
   "source": [
    "의원_선택.dropna(subset=['위도', '경도'], inplace=True)"
   ]
  },
  {
   "cell_type": "code",
   "execution_count": 204,
   "metadata": {},
   "outputs": [
    {
     "name": "stdout",
     "output_type": "stream",
     "text": [
      "<class 'pandas.core.frame.DataFrame'>\n",
      "Int64Index: 71052 entries, 0 to 72238\n",
      "Data columns (total 47 columns):\n",
      " #   Column       Non-Null Count  Dtype  \n",
      "---  ------       --------------  -----  \n",
      " 0   번호           71052 non-null  int64  \n",
      " 1   개방서비스명       71052 non-null  object \n",
      " 2   개방서비스아이디     71052 non-null  object \n",
      " 3   개방자치단체코드     71052 non-null  int64  \n",
      " 4   관리번호         71052 non-null  object \n",
      " 5   인허가일자        71052 non-null  object \n",
      " 6   인허가취소일자      0 non-null      float64\n",
      " 7   영업상태구분코드     71052 non-null  int64  \n",
      " 8   영업상태명        71052 non-null  object \n",
      " 9   상세영업상태코드     71052 non-null  int64  \n",
      " 10  상세영업상태명      71052 non-null  object \n",
      " 11  폐업일자         0 non-null      object \n",
      " 12  휴업시작일자       4 non-null      object \n",
      " 13  휴업종료일자       83 non-null     object \n",
      " 14  재개업일자        0 non-null      float64\n",
      " 15  소재지전화        70509 non-null  object \n",
      " 16  소재지면적        0 non-null      float64\n",
      " 17  소재지우편번호      25557 non-null  object \n",
      " 18  소재지전체주소      58540 non-null  object \n",
      " 19  도로명전체주소      71052 non-null  object \n",
      " 20  도로명우편번호      70231 non-null  object \n",
      " 21  사업장명         71052 non-null  object \n",
      " 22  최종수정시점       71052 non-null  object \n",
      " 23  데이터갱신구분      71052 non-null  object \n",
      " 24  데이터갱신일자      71052 non-null  object \n",
      " 25  업태구분명        71052 non-null  object \n",
      " 26  좌표정보(x)      71052 non-null  float64\n",
      " 27  좌표정보(y)      71052 non-null  float64\n",
      " 28  의료기관종별명      70418 non-null  object \n",
      " 29  의료인수         70418 non-null  float64\n",
      " 30  입원실수         70418 non-null  float64\n",
      " 31  병상수          70418 non-null  float64\n",
      " 32  총면적          70418 non-null  float64\n",
      " 33  진료과목내용       68882 non-null  object \n",
      " 34  진료과목내용명      68882 non-null  object \n",
      " 35  지정취소일자       0 non-null      float64\n",
      " 36  완화의료지정형태     0 non-null      float64\n",
      " 37  완화의료담당부서명    0 non-null      float64\n",
      " 38  구급차특수        70418 non-null  float64\n",
      " 39  구급차일반        70418 non-null  float64\n",
      " 40  총인원          0 non-null      float64\n",
      " 41  구조사수         0 non-null      float64\n",
      " 42  허가병상수        70418 non-null  float64\n",
      " 43  최초지정일자       0 non-null      float64\n",
      " 44  Unnamed: 44  0 non-null      float64\n",
      " 45  위도           71052 non-null  float64\n",
      " 46  경도           71052 non-null  float64\n",
      "dtypes: float64(21), int64(4), object(22)\n",
      "memory usage: 26.0+ MB\n"
     ]
    }
   ],
   "source": [
    "의원_선택.info()"
   ]
  },
  {
   "cell_type": "code",
   "execution_count": 189,
   "metadata": {},
   "outputs": [
    {
     "data": {
      "text/plain": [
       "array(['요양병원(일반요양병원)', '정신병원', '병원', '요양병원(노인병원)', '종합병원', '한방병원', '치과병원',\n",
       "       '요양병원(정신병원)', nan], dtype=object)"
      ]
     },
     "execution_count": 189,
     "metadata": {},
     "output_type": "execute_result"
    }
   ],
   "source": [
    "병원['업태구분명'].unique()"
   ]
  },
  {
   "cell_type": "code",
   "execution_count": 192,
   "metadata": {},
   "outputs": [
    {
     "data": {
      "text/plain": [
       "병원              2954\n",
       "요양병원(일반요양병원)    2639\n",
       "한방병원            1211\n",
       "종합병원             518\n",
       "치과병원             414\n",
       "정신병원             363\n",
       "요양병원(노인병원)        72\n",
       "요양병원(정신병원)        21\n",
       "Name: 업태구분명, dtype: int64"
      ]
     },
     "execution_count": 192,
     "metadata": {},
     "output_type": "execute_result"
    }
   ],
   "source": [
    "병원['업태구분명'].value_counts()"
   ]
  },
  {
   "cell_type": "code",
   "execution_count": 187,
   "metadata": {},
   "outputs": [
    {
     "data": {
      "text/plain": [
       "array(['영업/정상', '취소/말소/만료/정지/중지', '폐업', '휴업'], dtype=object)"
      ]
     },
     "execution_count": 187,
     "metadata": {},
     "output_type": "execute_result"
    }
   ],
   "source": [
    "병원['영업상태명'].unique()"
   ]
  },
  {
   "cell_type": "code",
   "execution_count": 193,
   "metadata": {},
   "outputs": [
    {
     "data": {
      "text/plain": [
       "영업/정상             5177\n",
       "폐업                2776\n",
       "취소/말소/만료/정지/중지     147\n",
       "휴업                  95\n",
       "Name: 영업상태명, dtype: int64"
      ]
     },
     "execution_count": 193,
     "metadata": {},
     "output_type": "execute_result"
    }
   ],
   "source": [
    "병원['영업상태명'].value_counts()"
   ]
  },
  {
   "cell_type": "code",
   "execution_count": 198,
   "metadata": {},
   "outputs": [],
   "source": [
    "병원_선택 = 병원[병원['영업상태명'] == '영업/정상']\n",
    "병원_선택 = 병원_선택[(병원_선택['업태구분명'] == '병원') | (병원_선택['업태구분명'] == '종합병원')]"
   ]
  },
  {
   "cell_type": "code",
   "execution_count": 201,
   "metadata": {},
   "outputs": [],
   "source": [
    "병원_선택.dropna(subset=['위도', '경도'], inplace=True)"
   ]
  },
  {
   "cell_type": "code",
   "execution_count": 205,
   "metadata": {},
   "outputs": [],
   "source": [
    "병원_선택.to_csv('fulldata_01_01_01_P_병원_수정.csv', encoding='cp949')\n",
    "의원_선택.to_csv('fulldata_01_01_02_P_의원_수정.csv', encoding='cp949')"
   ]
  },
  {
   "cell_type": "code",
   "execution_count": 3,
   "metadata": {},
   "outputs": [],
   "source": [
    "청약_합본_copy = pd.read_csv('청약홈_합본.csv', encoding='cp949')\n",
    "병원_선택 = pd.read_csv('fulldata_01_01_01_P_병원_수정.csv', encoding='cp949')\n",
    "의원_선택 = pd.read_csv('fulldata_01_01_02_P_의원_수정.csv', encoding='cp949')"
   ]
  },
  {
   "cell_type": "code",
   "execution_count": 7,
   "metadata": {},
   "outputs": [
    {
     "data": {
      "text/html": [
       "<div>\n",
       "<style scoped>\n",
       "    .dataframe tbody tr th:only-of-type {\n",
       "        vertical-align: middle;\n",
       "    }\n",
       "\n",
       "    .dataframe tbody tr th {\n",
       "        vertical-align: top;\n",
       "    }\n",
       "\n",
       "    .dataframe thead th {\n",
       "        text-align: right;\n",
       "    }\n",
       "</style>\n",
       "<table border=\"1\" class=\"dataframe\">\n",
       "  <thead>\n",
       "    <tr style=\"text-align: right;\">\n",
       "      <th></th>\n",
       "      <th>위도</th>\n",
       "      <th>경도</th>\n",
       "    </tr>\n",
       "  </thead>\n",
       "  <tbody>\n",
       "    <tr>\n",
       "      <th>0</th>\n",
       "      <td>37.537863</td>\n",
       "      <td>127.062859</td>\n",
       "    </tr>\n",
       "    <tr>\n",
       "      <th>1</th>\n",
       "      <td>37.537863</td>\n",
       "      <td>127.062859</td>\n",
       "    </tr>\n",
       "    <tr>\n",
       "      <th>2</th>\n",
       "      <td>37.537863</td>\n",
       "      <td>127.062859</td>\n",
       "    </tr>\n",
       "    <tr>\n",
       "      <th>3</th>\n",
       "      <td>37.537863</td>\n",
       "      <td>127.062859</td>\n",
       "    </tr>\n",
       "    <tr>\n",
       "      <th>4</th>\n",
       "      <td>37.537863</td>\n",
       "      <td>127.062859</td>\n",
       "    </tr>\n",
       "  </tbody>\n",
       "</table>\n",
       "</div>"
      ],
      "text/plain": [
       "          위도          경도\n",
       "0  37.537863  127.062859\n",
       "1  37.537863  127.062859\n",
       "2  37.537863  127.062859\n",
       "3  37.537863  127.062859\n",
       "4  37.537863  127.062859"
      ]
     },
     "execution_count": 7,
     "metadata": {},
     "output_type": "execute_result"
    }
   ],
   "source": [
    "청약_합본_copy[['위도','경도']].head()"
   ]
  },
  {
   "cell_type": "code",
   "execution_count": 8,
   "metadata": {},
   "outputs": [
    {
     "data": {
      "text/html": [
       "<div>\n",
       "<style scoped>\n",
       "    .dataframe tbody tr th:only-of-type {\n",
       "        vertical-align: middle;\n",
       "    }\n",
       "\n",
       "    .dataframe tbody tr th {\n",
       "        vertical-align: top;\n",
       "    }\n",
       "\n",
       "    .dataframe thead th {\n",
       "        text-align: right;\n",
       "    }\n",
       "</style>\n",
       "<table border=\"1\" class=\"dataframe\">\n",
       "  <thead>\n",
       "    <tr style=\"text-align: right;\">\n",
       "      <th></th>\n",
       "      <th>위도</th>\n",
       "      <th>경도</th>\n",
       "    </tr>\n",
       "  </thead>\n",
       "  <tbody>\n",
       "    <tr>\n",
       "      <th>0</th>\n",
       "      <td>36.522615</td>\n",
       "      <td>127.300884</td>\n",
       "    </tr>\n",
       "    <tr>\n",
       "      <th>1</th>\n",
       "      <td>35.684853</td>\n",
       "      <td>128.672944</td>\n",
       "    </tr>\n",
       "    <tr>\n",
       "      <th>2</th>\n",
       "      <td>36.187347</td>\n",
       "      <td>126.552156</td>\n",
       "    </tr>\n",
       "    <tr>\n",
       "      <th>3</th>\n",
       "      <td>36.186740</td>\n",
       "      <td>126.557533</td>\n",
       "    </tr>\n",
       "    <tr>\n",
       "      <th>4</th>\n",
       "      <td>36.195495</td>\n",
       "      <td>126.733553</td>\n",
       "    </tr>\n",
       "  </tbody>\n",
       "</table>\n",
       "</div>"
      ],
      "text/plain": [
       "          위도          경도\n",
       "0  36.522615  127.300884\n",
       "1  35.684853  128.672944\n",
       "2  36.187347  126.552156\n",
       "3  36.186740  126.557533\n",
       "4  36.195495  126.733553"
      ]
     },
     "execution_count": 8,
     "metadata": {},
     "output_type": "execute_result"
    }
   ],
   "source": [
    "병원_선택[['위도','경도']].head()"
   ]
  },
  {
   "cell_type": "code",
   "execution_count": 9,
   "metadata": {},
   "outputs": [
    {
     "data": {
      "text/html": [
       "<div>\n",
       "<style scoped>\n",
       "    .dataframe tbody tr th:only-of-type {\n",
       "        vertical-align: middle;\n",
       "    }\n",
       "\n",
       "    .dataframe tbody tr th {\n",
       "        vertical-align: top;\n",
       "    }\n",
       "\n",
       "    .dataframe thead th {\n",
       "        text-align: right;\n",
       "    }\n",
       "</style>\n",
       "<table border=\"1\" class=\"dataframe\">\n",
       "  <thead>\n",
       "    <tr style=\"text-align: right;\">\n",
       "      <th></th>\n",
       "      <th>위도</th>\n",
       "      <th>경도</th>\n",
       "    </tr>\n",
       "  </thead>\n",
       "  <tbody>\n",
       "    <tr>\n",
       "      <th>0</th>\n",
       "      <td>35.232831</td>\n",
       "      <td>126.836593</td>\n",
       "    </tr>\n",
       "    <tr>\n",
       "      <th>1</th>\n",
       "      <td>35.215002</td>\n",
       "      <td>126.883578</td>\n",
       "    </tr>\n",
       "    <tr>\n",
       "      <th>2</th>\n",
       "      <td>35.214987</td>\n",
       "      <td>126.880987</td>\n",
       "    </tr>\n",
       "    <tr>\n",
       "      <th>3</th>\n",
       "      <td>35.194863</td>\n",
       "      <td>126.891488</td>\n",
       "    </tr>\n",
       "    <tr>\n",
       "      <th>4</th>\n",
       "      <td>35.213908</td>\n",
       "      <td>126.888908</td>\n",
       "    </tr>\n",
       "  </tbody>\n",
       "</table>\n",
       "</div>"
      ],
      "text/plain": [
       "          위도          경도\n",
       "0  35.232831  126.836593\n",
       "1  35.215002  126.883578\n",
       "2  35.214987  126.880987\n",
       "3  35.194863  126.891488\n",
       "4  35.213908  126.888908"
      ]
     },
     "execution_count": 9,
     "metadata": {},
     "output_type": "execute_result"
    }
   ],
   "source": [
    "의원_선택[['위도','경도']].head()"
   ]
  },
  {
   "cell_type": "code",
   "execution_count": 4,
   "metadata": {},
   "outputs": [],
   "source": [
    "청약_합본_copy['위경도'] = list(zip(청약_합본_copy['위도'], 청약_합본_copy['경도']))\n",
    "병원_선택['위경도'] = list(zip(병원_선택['위도'], 병원_선택['경도']))\n",
    "의원_선택['위경도'] = list(zip(의원_선택['위도'], 의원_선택['경도']))"
   ]
  },
  {
   "cell_type": "code",
   "execution_count": 20,
   "metadata": {},
   "outputs": [],
   "source": [
    "from haversine import haversine\n",
    "\n",
    "병원수_리스트 = []\n",
    "\n",
    "for 주택 in 청약_합본_copy['위경도']:\n",
    "    갯수 = 0\n",
    "    for 병원 in 병원_선택['위경도']:\n",
    "        거리 = haversine(주택, 병원, unit = 'km')\n",
    "        if 거리 <= 5:\n",
    "            갯수 += 1 \n",
    "    병원수_리스트.append(갯수)\n",
    "\n",
    "청약_합본_copy['병원수'] = 병원수_리스트"
   ]
  },
  {
   "cell_type": "code",
   "execution_count": 21,
   "metadata": {},
   "outputs": [
    {
     "data": {
      "text/plain": [
       "0     3173\n",
       "1       94\n",
       "3       34\n",
       "7       12\n",
       "37      10\n",
       "2        9\n",
       "5        5\n",
       "50       5\n",
       "21       3\n",
       "9        2\n",
       "Name: 병원수, dtype: int64"
      ]
     },
     "execution_count": 21,
     "metadata": {},
     "output_type": "execute_result"
    }
   ],
   "source": [
    "청약_합본_copy['병원수'].value_counts()"
   ]
  },
  {
   "cell_type": "code",
   "execution_count": 23,
   "metadata": {},
   "outputs": [],
   "source": [
    "의원수_리스트 = []\n",
    "\n",
    "for 주택 in 청약_합본_copy['위경도']:\n",
    "    갯수 = 0\n",
    "    for 의원 in 의원_선택['위경도']:\n",
    "        거리 = haversine(주택, 의원, unit = 'km')\n",
    "        if 거리 <= 1:\n",
    "            갯수 += 1 \n",
    "    의원수_리스트.append(갯수)\n",
    "\n",
    "청약_합본_copy['의원수'] = 의원수_리스트"
   ]
  },
  {
   "cell_type": "code",
   "execution_count": 24,
   "metadata": {},
   "outputs": [
    {
     "data": {
      "text/plain": [
       "0     3271\n",
       "1       32\n",
       "2       19\n",
       "39      10\n",
       "7        7\n",
       "72       5\n",
       "13       3\n",
       "Name: 의원수, dtype: int64"
      ]
     },
     "execution_count": 24,
     "metadata": {},
     "output_type": "execute_result"
    }
   ],
   "source": [
    "청약_합본_copy['의원수'].value_counts()"
   ]
  },
  {
   "cell_type": "code",
   "execution_count": 25,
   "metadata": {},
   "outputs": [
    {
     "data": {
      "text/plain": [
       "(71052, 49)"
      ]
     },
     "execution_count": 25,
     "metadata": {},
     "output_type": "execute_result"
    }
   ],
   "source": [
    "의원_선택.shape"
   ]
  },
  {
   "cell_type": "code",
   "execution_count": 208,
   "metadata": {},
   "outputs": [
    {
     "data": {
      "text/plain": [
       "array(['롯데건설(주)', '에스케이건설(주),HDC현대산업개발(주)', '현대엔지니어링', '(주)동양건설산업',\n",
       "       '지에스건설(주)', '(주)원건설', '㈜GS건설', '(주)성우에스아이', '삼성물산(주)',\n",
       "       '주식회사스위트드림종합건설', '주식회사 덕인컨스텍', '㈜대우건설', '현대건설(주)', '㈜롯데건설',\n",
       "       '혜림건설(주)', '중흥토건(주)', '한신공영(주)', '(주)한울건설산업', '(주)호반건설',\n",
       "       'HDC현대산업개발(주)', 'GS건설(주)', '우석종합건설(주)', '제일건설(주)', '대림산업(주)',\n",
       "       '일신건영(주)', '주식회사 금강주택', '(주)대원', '(주)라인건설', 'DL건설(주),DL이앤씨(주)',\n",
       "       '현진에버빌(주)', '(주)대광건영', '(주)호반산업', '대방건설(주)', '(주)일군토건',\n",
       "       '에이치디씨아이앤콘스(주)', '지에스건설주식회사', '(주)대우건설',\n",
       "       '대림산업(주),금호산업(주),계룡건설산업(주),(주)고덕종합건설,(주)금성백조건설', '(주)한화건설',\n",
       "       '(주)까뮤이앤씨', '(주)하호종합건설', '신한종합건설(주)', '금호건설(주)', '나경종합건설 주식회사',\n",
       "       '신동아건설(주)', '(주)케이씨씨건설', 'HDC현대산업개발', '에쓰와이이앤씨(주)', '쌍용건설(주)',\n",
       "       '(주)한라', '대우산업개발(주)', '(주)금강주택', '(주)대우건설,금호산업(주),(주)태영건설',\n",
       "       'GS건설(주),(주)대우건설', '삼부토건(주)', 'HDC현대산업개발(주),롯데건설(주)', '(주)유림E&C',\n",
       "       '(주)대우건설,에스케이건설(주)', '양우건설(주)', '천명토건(주) 외 1', '경남기업(주),(주)티케이케미칼',\n",
       "       '(주)영무건설,(주)하가건설', '승윤종합건설(주),(주)길성종합건설', '포스코건설', '진산건설(주)',\n",
       "       '신원종합개발(주)', '(주)우미개발,(주)우미산업개발', '대성베르힐건설(주),디에스종합건설(주)',\n",
       "       '(주)서희건설', '한국토지신탁,(주)이랜드건설', '현대비에스앤씨(주)', '(주)한 양,보성산업(주)',\n",
       "       '(주)리젠시빌주택', '(주)한진중공업,(주)에이치에스공영,해원산업(주)', '(주)동원개발',\n",
       "       '에스케이건설(주),(주)한진중공업', '우미건설(주)', '일성건설(주)', '지에스건설(주),쌍용건설(주)',\n",
       "       '경남기업(주)', '에스케이건설(주)', '(주)포스코건설', '이수건설(주)', '주식회사 이테크건설',\n",
       "       '(주)디에스종합건설,대성베르힐건설(주)', '현대건설', '(주)우미개발,(주)우미토건', '(주)화성개발',\n",
       "       '동우개발(주)', '(주)삼미건설', '남광토건(주), 금광기업(주)'], dtype=object)"
      ]
     },
     "execution_count": 208,
     "metadata": {},
     "output_type": "execute_result"
    }
   ],
   "source": [
    "청약1_수정['건설사'].unique()"
   ]
  },
  {
   "cell_type": "code",
   "execution_count": 209,
   "metadata": {},
   "outputs": [
    {
     "data": {
      "text/plain": [
       "array(['에스케이에코플랜트㈜', '삼성물산㈜', '(주)서희건설', '리센종합건설㈜', '롯데건설㈜', '중앙건설 주식회사',\n",
       "       '(주)호반건설', '㈜한화', '경남기업 ㈜', '진흥기업(주)', 'HDC현대산업개발㈜',\n",
       "       '우미건설(주), (주)부원건설', '보훈종합건설㈜', '(주)대우건설', '(주)로제비앙건설, 혜림건설㈜',\n",
       "       '디엘이앤씨(주), 계룡건설산업(주)\\t', '제일건설 주식회사', '에이치디씨현대산업개발', '두산건설㈜',\n",
       "       '남광토건 주식회사', '주식회사씨디종합건설76.9500', '주식회사씨디종합건설', '청광건설주식회사',\n",
       "       '지에스건설(주)\\t', '(주)대우건설, GS건설(주), 롯데건설㈜', '(주)성호건설', '계룡건설산업㈜',\n",
       "       '(주)대원, (주)대원에스앤디', '금호건설㈜', '(주)금강주택', '(주)포스코건설',\n",
       "       '(주)우방,SM하이플러스㈜', '현대건설㈜', '혜림건설㈜', '지에스건설 주식회사', '동부건설㈜',\n",
       "       '지에스건설㈜', '현대건설㈜, HDC현대산업개발㈜, ㈜대우건설, 롯데건설㈜', 'SK에코플랜트(주), 롯데건설㈜',\n",
       "       '주)서희건설', '주식회사 창하종합건설', '중앙건설(주), 동우건설㈜',\n",
       "       '지에스건설(주),(주)포스코이앤씨,(주)한화', '효성중공업㈜', '디엘이앤씨', '중흥토건㈜',\n",
       "       '주식회사 금강주택', '대우산업개발주식회사', '대방건설㈜', 'GS건설㈜', '디엘이앤씨(주), 계룡건설산업㈜',\n",
       "       '현대엔지니어링 주식회사', '주식회사 대광건영', '디엘이앤씨 주식회사, 코오롱글로벌 ㈜', '이수건설 주식회사',\n",
       "       '(주)한양', '(주)태영건설, 금호건설(주), 신동아건설(주), (주)서영산업개발', '(주)호반산업',\n",
       "       '디엘건설 주식회사, (주)대림', '에이치엘디앤아이한라 주식회사', '동부건설(주), 대보건설㈜',\n",
       "       '(주)대광건영, 모아건설산업㈜', '대방건설 주식회사', '(주)시티건설', '주식회사 호반산업',\n",
       "       '주식회사 모아종합건설', '(주)한화건설', '(주)태영건설,(주)동원개발,(주)오렌지엔지니어링\\t',\n",
       "       '동아건설산업㈜', '삼환기업㈜', 'DL건설 주식회사', '화성산업㈜', '서광종합개발㈜'], dtype=object)"
      ]
     },
     "execution_count": 209,
     "metadata": {},
     "output_type": "execute_result"
    }
   ],
   "source": [
    "청약4_수정['건설사'].unique()"
   ]
  },
  {
   "cell_type": "code",
   "execution_count": null,
   "metadata": {},
   "outputs": [],
   "source": []
  }
 ],
 "metadata": {
  "kernelspec": {
   "display_name": "'Mashine_Learning'",
   "language": "python",
   "name": "machine_learning"
  },
  "language_info": {
   "codemirror_mode": {
    "name": "ipython",
    "version": 3
   },
   "file_extension": ".py",
   "mimetype": "text/x-python",
   "name": "python",
   "nbconvert_exporter": "python",
   "pygments_lexer": "ipython3",
   "version": "3.8.16"
  },
  "orig_nbformat": 4
 },
 "nbformat": 4,
 "nbformat_minor": 2
}
