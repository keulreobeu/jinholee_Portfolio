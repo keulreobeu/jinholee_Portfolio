{
 "cells": [
  {
   "attachments": {},
   "cell_type": "markdown",
   "metadata": {},
   "source": [
    "#### import"
   ]
  },
  {
   "cell_type": "code",
   "execution_count": 271,
   "metadata": {},
   "outputs": [],
   "source": [
    "import numpy as np\n",
    "import pandas as pd\n",
    "import scipy as sp\n",
    "import seaborn as sns\n",
    "import matplotlib.pyplot as plt\n",
    "import matplotlib as mpl\n",
    "import lightgbm as lgb\n",
    "import xgboost as xgb\n",
    "from catboost import CatBoostRegressor\n",
    "from matplotlib import font_manager\n",
    "import sklearn\n",
    "import pprint\n",
    "import re\n",
    "from math import sqrt\n",
    "import statsmodels.api as sm\n",
    "from statsmodels.stats.outliers_influence import variance_inflation_factor\n",
    "from sklearn.model_selection import train_test_split, cross_val_score, KFold\n",
    "from sklearn.linear_model import LinearRegression, Ridge, Lasso\n",
    "from sklearn.ensemble import RandomForestRegressor, ExtraTreesRegressor\n",
    "from sklearn.metrics import mean_squared_error, mean_absolute_error, r2_score\n",
    "from sklearn.feature_selection import RFE, SequentialFeatureSelector\n",
    "from sklearn.preprocessing import StandardScaler, MinMaxScaler, MultiLabelBinarizer\n",
    "from hyperopt import fmin, tpe, hp, Trials\n",
    "from bayes_opt import BayesianOptimization\n",
    "from haversine import haversine, haversine_vector\n",
    "from geopy.geocoders import Nominatim\n",
    "import ast\n",
    "import warnings\n",
    "\n",
    "warnings.filterwarnings('ignore')\n",
    "\n",
    "font_fname = 'C:/Windows/Fonts/malgun.ttf'\n",
    "font_family = font_manager.FontProperties(fname=font_fname).get_name()\n",
    "\n",
    "plt.rcParams[\"font.family\"] = font_family\n",
    "plt.rcParams[\"axes.unicode_minus\"] = False\n",
    "\n",
    "%matplotlib inline"
   ]
  },
  {
   "cell_type": "code",
   "execution_count": 272,
   "metadata": {},
   "outputs": [
    {
     "data": {
      "text/plain": [
       "(3347, 36)"
      ]
     },
     "execution_count": 272,
     "metadata": {},
     "output_type": "execute_result"
    }
   ],
   "source": [
    "df = pd.read_csv('청약홈_합본.csv', encoding='cp949').drop('Unnamed: 0', axis=1)\n",
    "df.shape"
   ]
  },
  {
   "cell_type": "code",
   "execution_count": 273,
   "metadata": {},
   "outputs": [
    {
     "data": {
      "text/plain": [
       "Index(['아파트명', '면적', '법정동주소', '도로명주소', '위도', '경도', '세대수', '임대세대수', '영구임대세대수',\n",
       "       '국민임대세대수', '민간임대세대수', '공공임대세대수', '장기임대세대수', '기타임대세대수', '최고층', '최저층',\n",
       "       '최대공급면적', '최소공급면적', '총아파트동수', '용적률', '건폐율', '주차대수', '세대평균_주차대수', '건설사',\n",
       "       '공급면적', '전용면적', '전용율', '방수', '욕실수', '해당면적_세대수', '현관구조', '가격',\n",
       "       '초등학교_학군정보', '초등학교_설립정보', '입주예정일', '공급액(만원)'],\n",
       "      dtype='object')"
      ]
     },
     "execution_count": 273,
     "metadata": {},
     "output_type": "execute_result"
    }
   ],
   "source": [
    "df.keys()"
   ]
  },
  {
   "cell_type": "code",
   "execution_count": 274,
   "metadata": {},
   "outputs": [],
   "source": [
    "# 1차 중복 제거\n",
    "df.drop_duplicates(inplace=True)"
   ]
  },
  {
   "cell_type": "code",
   "execution_count": 275,
   "metadata": {},
   "outputs": [
    {
     "data": {
      "text/plain": [
       "(3345, 36)"
      ]
     },
     "execution_count": 275,
     "metadata": {},
     "output_type": "execute_result"
    }
   ],
   "source": [
    "df.shape"
   ]
  },
  {
   "attachments": {},
   "cell_type": "markdown",
   "metadata": {},
   "source": [
    "### 중복컬럼, 회귀 제외 컬럼 제거\n",
    "\n",
    "- 면적: 공급면적과 중복\n",
    "- XX임대세대수: 임대세대수의 상세값\n",
    "- 현관구조: 대부분 계단형\n",
    "- 초등학교: 너무 많은 카테고리를 가지는 컬럼\n",
    "- 입주예정일: 입주예정년으로 변경하여 카테고리를 줄임"
   ]
  },
  {
   "cell_type": "code",
   "execution_count": 276,
   "metadata": {},
   "outputs": [
    {
     "data": {
      "text/plain": [
       "계단식    3194\n",
       "혼합식      63\n",
       "복도식      19\n",
       "Name: 현관구조, dtype: int64"
      ]
     },
     "execution_count": 276,
     "metadata": {},
     "output_type": "execute_result"
    }
   ],
   "source": [
    "df['현관구조'].value_counts()"
   ]
  },
  {
   "cell_type": "code",
   "execution_count": 277,
   "metadata": {},
   "outputs": [
    {
     "data": {
      "text/plain": [
       "322"
      ]
     },
     "execution_count": 277,
     "metadata": {},
     "output_type": "execute_result"
    }
   ],
   "source": [
    "len(df['초등학교_학군정보'].unique())"
   ]
  },
  {
   "cell_type": "code",
   "execution_count": 278,
   "metadata": {},
   "outputs": [],
   "source": [
    "df['입주예정연도'] = df['입주예정일'].apply(lambda x: str(x).replace(\"-\",\"\")[0:4])"
   ]
  },
  {
   "cell_type": "code",
   "execution_count": 279,
   "metadata": {},
   "outputs": [
    {
     "data": {
      "text/plain": [
       "(3345, 27)"
      ]
     },
     "execution_count": 279,
     "metadata": {},
     "output_type": "execute_result"
    }
   ],
   "source": [
    "drop_col_list = ['면적','영구임대세대수','국민임대세대수', '민간임대세대수', '공공임대세대수', '장기임대세대수', \n",
    "                 '기타임대세대수','현관구조','초등학교_학군정보', '초등학교_설립정보']\n",
    "df.drop(drop_col_list, axis=1).shape"
   ]
  },
  {
   "cell_type": "code",
   "execution_count": 280,
   "metadata": {},
   "outputs": [],
   "source": [
    "df['location'] = tuple(zip(df['위도'], df['경도']))\n",
    "apartment_location = list(df['location'])"
   ]
  },
  {
   "cell_type": "code",
   "execution_count": 281,
   "metadata": {},
   "outputs": [],
   "source": [
    "df2 = df.drop(drop_col_list, axis=1)"
   ]
  },
  {
   "attachments": {},
   "cell_type": "markdown",
   "metadata": {},
   "source": [
    "# 변수 추가\n",
    "\n",
    "- 대형건설사\n",
    "- 가까운 지하철 역과 그 거리\n",
    "- 주변 의료기관 개수\n",
    "- 공원\n",
    "- 대학\n",
    "- 광역/기초\n",
    "- 상권"
   ]
  },
  {
   "attachments": {},
   "cell_type": "markdown",
   "metadata": {},
   "source": [
    "### 대형 건설사\n",
    "\n",
    "- 대형 건설사가 참여한 아파트를 구분"
   ]
  },
  {
   "cell_type": "code",
   "execution_count": 282,
   "metadata": {},
   "outputs": [],
   "source": [
    "# 숫자, ., 탭, ㈜, 주식회사 등 제거 \n",
    "df2['건설사'] = df2['건설사'].str.replace(\"[0-9.\\s]|\\t|\\(주\\)|㈜|주\\)|주식회사\", \"\", regex=True)"
   ]
  },
  {
   "cell_type": "code",
   "execution_count": 283,
   "metadata": {},
   "outputs": [],
   "source": [
    "# 건설사 이름 통일\n",
    "def replace_firm_name(firm):\n",
    "    if '현대산업개발' in firm:\n",
    "        firm = firm.replace('HDC현대산업개발', '현대산업개발')\n",
    "        firm = firm.replace('에이치디씨현대산업개발', '현대산업개발')\n",
    "        firm = firm.replace('현대산업개발', 'HDC현대산업개발')\n",
    "    if '디엘이앤씨' in firm:\n",
    "        firm = firm.replace('디엘이앤씨', 'DL이앤씨') \n",
    "    if '지에스건설' in firm:\n",
    "        firm = firm.replace('지에스건설', 'GS건설')\n",
    "    if '에스케이에코플랜트' in firm:\n",
    "        firm = firm.replace('에스케이에코플랜트', 'SK에코플랜트')\n",
    "    if '에스케이건설' in firm:\n",
    "        firm = firm.replace('에스케이건설', 'SK에코플랜트') # 사명 변경\n",
    "    if '포스코건설' in firm:\n",
    "        firm = firm.replace('포스코건설', '포스코이앤씨')   # 사명 변경\n",
    "    \n",
    "    return firm\n",
    "\n",
    "df2['건설사'] = df2['건설사'].apply(replace_firm_name)"
   ]
  },
  {
   "attachments": {},
   "cell_type": "markdown",
   "metadata": {},
   "source": [
    "'삼성물산', '현대건설', 'DL이앤씨', '포스코이앤씨', 'GS건설', '대우건설', '현대엔지니어링', '롯데건설', 'SK에코플랜트', 'HDC현대산업개발'"
   ]
  },
  {
   "cell_type": "code",
   "execution_count": 284,
   "metadata": {},
   "outputs": [],
   "source": [
    "# 시공능력 기준 상위 10개의 건설사\n",
    "대형건설사 = ['삼성물산', '현대건설', 'DL이앤씨', '포스코이앤씨', 'GS건설', '대우건설', '현대엔지니어링', '롯데건설', 'SK에코플랜트', 'HDC현대산업개발']\n",
    "df2['대형건설사'] = df2['건설사'].apply(lambda x: True if any(keyword in x for keyword in 대형건설사) else False)"
   ]
  },
  {
   "attachments": {},
   "cell_type": "markdown",
   "metadata": {},
   "source": [
    "### 지하철 역 좌표 전처리\n",
    "\n",
    "도시철도 역사정보: https://data.kric.go.kr/rips/M_01_01/detail.do;jsessionid=1jTd7vFOC+oGNYyEJtzQH6i1?id=32&lcd=A\n",
    "\n",
    "서울 지하철역 좌표: https://observablehq.com/@taekie/seoul_subway_station_coordinate"
   ]
  },
  {
   "cell_type": "code",
   "execution_count": 285,
   "metadata": {},
   "outputs": [],
   "source": [
    "all_rail = pd.read_excel(\"전체_도시철도역사정보_20230630.xlsx\")"
   ]
  },
  {
   "cell_type": "code",
   "execution_count": 286,
   "metadata": {},
   "outputs": [],
   "source": [
    "# 서울, 인천, 경기만 필터링\n",
    "cities_to_remove = ['대구', '부산', '대전', '광주광역시', '울산'] # '광주'만 넣을 경우 '경기도 광주' 포함\n",
    "\n",
    "# 기관명 또는 주소에 필터링 적용\n",
    "greater_seoul_rail = ~(all_rail['운영기관명'].str.contains('|'.join(cities_to_remove)) | all_rail['역사도로명주소'].str.contains('|'.join(cities_to_remove)))\n",
    "rail = all_rail[greater_seoul_rail]"
   ]
  },
  {
   "cell_type": "code",
   "execution_count": 287,
   "metadata": {},
   "outputs": [],
   "source": [
    "# 괄호와 괄호글, 공백, 탭, .,  줄바꿈 등 제거\n",
    "rail['역사명'] = rail['역사명'].str.replace(r\"\\s|\\n|\\([^()]*\\)|[.·]\", \"\", regex=True)\n",
    "\n",
    "# 역으로 안끝나면 역을 붙여줌\n",
    "rail['역사명'] = rail['역사명'].apply(lambda x: x + '역' if not x.endswith('역') else x)"
   ]
  },
  {
   "cell_type": "code",
   "execution_count": 288,
   "metadata": {},
   "outputs": [],
   "source": [
    "rail = rail[['역번호', '역사명', '노선번호', '노선명', '환승역구분', '환승노선명', '역위도', '역경도', '역사도로명주소']]"
   ]
  },
  {
   "cell_type": "code",
   "execution_count": 289,
   "metadata": {},
   "outputs": [],
   "source": [
    "rail = rail[rail['노선명'] != '자기부상철도'] # 인천공항 자기부상열차는 무기한 운행 중단"
   ]
  },
  {
   "cell_type": "code",
   "execution_count": 290,
   "metadata": {},
   "outputs": [],
   "source": [
    "# station 데이터로 보완\n",
    "station = pd.read_csv(\"station_coordinate.csv\")\n",
    "station['name'] = station['name'] + '역'\n",
    "station['name'] = station['name'].str.replace(\"[.,]\", \"\", regex=True)\n",
    "station_name = set(station['name'].unique())\n",
    "\n",
    "rail_name = set(rail['역사명'].unique())"
   ]
  },
  {
   "cell_type": "code",
   "execution_count": 291,
   "metadata": {},
   "outputs": [
    {
     "data": {
      "text/plain": [
       "['원곡역', '이수역']"
      ]
     },
     "execution_count": 291,
     "metadata": {},
     "output_type": "execute_result"
    }
   ],
   "source": [
    "list(station_name - rail_name)"
   ]
  },
  {
   "cell_type": "code",
   "execution_count": 292,
   "metadata": {},
   "outputs": [],
   "source": [
    "# 총신대입구(이수)역은 4호선과 7호선 2개 역\n",
    "rail.loc[(rail['역사명'] == '총신대입구역') & (rail['노선명'] == '4호선'), '역위도'] = station[station['name'] == '총신대입구역']['lat'].values\n",
    "rail.loc[(rail['역사명'] == '총신대입구역') & (rail['노선명'] == '4호선'), '역경도'] = station[station['name'] == '총신대입구역']['lng'].values\n",
    "rail.loc[(rail['역사명'] == '총신대입구역') & (rail['노선명'] == '7호선'), '역위도'] = station[station['name'] == '이수역']['lat'].values\n",
    "rail.loc[(rail['역사명'] == '총신대입구역') & (rail['노선명'] == '7호선'), '역경도'] = station[station['name'] == '이수역']['lng'].values"
   ]
  },
  {
   "cell_type": "code",
   "execution_count": 293,
   "metadata": {},
   "outputs": [
    {
     "data": {
      "text/html": [
       "<div>\n",
       "<style scoped>\n",
       "    .dataframe tbody tr th:only-of-type {\n",
       "        vertical-align: middle;\n",
       "    }\n",
       "\n",
       "    .dataframe tbody tr th {\n",
       "        vertical-align: top;\n",
       "    }\n",
       "\n",
       "    .dataframe thead th {\n",
       "        text-align: right;\n",
       "    }\n",
       "</style>\n",
       "<table border=\"1\" class=\"dataframe\">\n",
       "  <thead>\n",
       "    <tr style=\"text-align: right;\">\n",
       "      <th></th>\n",
       "      <th>역번호</th>\n",
       "      <th>역사명</th>\n",
       "      <th>노선번호</th>\n",
       "      <th>노선명</th>\n",
       "      <th>환승역구분</th>\n",
       "      <th>환승노선명</th>\n",
       "      <th>역위도</th>\n",
       "      <th>역경도</th>\n",
       "      <th>역사도로명주소</th>\n",
       "    </tr>\n",
       "  </thead>\n",
       "  <tbody>\n",
       "    <tr>\n",
       "      <th>1041</th>\n",
       "      <td>4814</td>\n",
       "      <td>시우역</td>\n",
       "      <td>I41WS</td>\n",
       "      <td>서해선</td>\n",
       "      <td>일반역</td>\n",
       "      <td>NaN</td>\n",
       "      <td>37.313767</td>\n",
       "      <td>126.798303</td>\n",
       "      <td>경기도 안산시 단원구 동산로 지하 50</td>\n",
       "    </tr>\n",
       "  </tbody>\n",
       "</table>\n",
       "</div>"
      ],
      "text/plain": [
       "       역번호  역사명   노선번호  노선명 환승역구분 환승노선명        역위도         역경도  \\\n",
       "1041  4814  시우역  I41WS  서해선   일반역   NaN  37.313767  126.798303   \n",
       "\n",
       "                    역사도로명주소  \n",
       "1041  경기도 안산시 단원구 동산로 지하 50  "
      ]
     },
     "execution_count": 293,
     "metadata": {},
     "output_type": "execute_result"
    }
   ],
   "source": [
    "# '원곡역'은 '시우역'으로 역사명이 변경되었음\n",
    "rail[rail['역사명'] == '시우역']"
   ]
  },
  {
   "cell_type": "code",
   "execution_count": 294,
   "metadata": {},
   "outputs": [
    {
     "data": {
      "text/html": [
       "<div>\n",
       "<style scoped>\n",
       "    .dataframe tbody tr th:only-of-type {\n",
       "        vertical-align: middle;\n",
       "    }\n",
       "\n",
       "    .dataframe tbody tr th {\n",
       "        vertical-align: top;\n",
       "    }\n",
       "\n",
       "    .dataframe thead th {\n",
       "        text-align: right;\n",
       "    }\n",
       "</style>\n",
       "<table border=\"1\" class=\"dataframe\">\n",
       "  <thead>\n",
       "    <tr style=\"text-align: right;\">\n",
       "      <th></th>\n",
       "      <th>line</th>\n",
       "      <th>name</th>\n",
       "      <th>code</th>\n",
       "      <th>lat</th>\n",
       "      <th>lng</th>\n",
       "    </tr>\n",
       "  </thead>\n",
       "  <tbody>\n",
       "    <tr>\n",
       "      <th>602</th>\n",
       "      <td>서해선</td>\n",
       "      <td>원곡역</td>\n",
       "      <td>4814.0</td>\n",
       "      <td>NaN</td>\n",
       "      <td>NaN</td>\n",
       "    </tr>\n",
       "  </tbody>\n",
       "</table>\n",
       "</div>"
      ],
      "text/plain": [
       "    line name    code  lat  lng\n",
       "602  서해선  원곡역  4814.0  NaN  NaN"
      ]
     },
     "execution_count": 294,
     "metadata": {},
     "output_type": "execute_result"
    }
   ],
   "source": [
    "# 하지만 nan값임\n",
    "station[station['name'] == '원곡역']"
   ]
  },
  {
   "cell_type": "code",
   "execution_count": 295,
   "metadata": {},
   "outputs": [],
   "source": [
    "merged_rail = rail.merge(station[['name', 'lat', 'lng']], left_on = '역사명', right_on='name', how='left')\n",
    "\n",
    "merged_rail['역위도'] = merged_rail['역위도'].fillna(merged_rail['lat'])\n",
    "merged_rail['역경도'] = merged_rail['역경도'].fillna(merged_rail['lng'])\n",
    "\n",
    "merged_rail.drop(['name', 'lat', 'lng'], axis=1, inplace=True)\n",
    "merged_rail = merged_rail.drop_duplicates()"
   ]
  },
  {
   "cell_type": "code",
   "execution_count": 340,
   "metadata": {},
   "outputs": [
    {
     "data": {
      "text/plain": [
       "(0, 11)"
      ]
     },
     "execution_count": 340,
     "metadata": {},
     "output_type": "execute_result"
    }
   ],
   "source": [
    "blank_df = merged_rail[merged_rail['역위도'].isna() | merged_rail['역경도'].isna()]\n",
    "blank_df.shape"
   ]
  },
  {
   "cell_type": "code",
   "execution_count": 296,
   "metadata": {},
   "outputs": [],
   "source": [
    "# 나머지 25개 채워넣기, Nominatim은 지번주소로만 위경도를 추가할 수 있음으로 수정\n",
    "\n",
    "address_updates = [\n",
    "    ('산곡역', '인천광역시 부평구 산곡동 10-32'),\n",
    "    ('오남역', '경기도 남양주시 오남읍 진건오남로 929'),\n",
    "    ('강일역', '서울특별시 강동구 강일동 산22-14'),\n",
    "    ('미사역', '경기도 하남시 망월동 109-8'),\n",
    "    ('하남풍산역', '경기도 하남시 덕풍동 727-3'),\n",
    "    ('하남시청역', '경기도 하남시 신장동 510-2'),\n",
    "    ('하남검단산역', '경기도 하남시 창우동 526'),\n",
    "    ('남위례역', '경기도 성남시 수정구 복정동 57'),\n",
    "    ('삼전역', '서울특별시 송파구 잠실동 347'),\n",
    "    ('석촌고분역', '서울특별시 송파구 석촌동 157'),\n",
    "    ('송파나루역', '서울특별시 송파구 송파동 3'),\n",
    "    ('한성백제역', '서울특별시 송파구 방이동 88-17'),\n",
    "    ('둔촌오륜역', '서울특별시 강동구 강동대로 303'),\n",
    "    ('중앙보훈병원역', '서울특별시 강동구 둔촌동 8-1'),\n",
    "    ('구로역', '서울특별시 구로구 구로동 585-3'),\n",
    "    ('구리역', '경기도 구리시 인창동 244-2'),\n",
    "    ('걸포북변역', '경기도 김포시 북변동 135-10'),\n",
    "    ('사우역', '경기도 김포시 사우동 854'),\n",
    "    ('풍무역', '경기도 김포시 김포대로 710'),\n",
    "    ('화전역', '경기도 고양시 덕양구 화전동 183-10'),\n",
    "    ('화정역', '경기도 고양시 덕양구 화정동 1098'),\n",
    "    ('장기역', '경기도 김포시 장기동 1791'),\n",
    "    ('운양역', '경기도 김포시 운양동 1403')\n",
    "]"
   ]
  },
  {
   "cell_type": "code",
   "execution_count": 297,
   "metadata": {},
   "outputs": [],
   "source": [
    "for station_name, address in address_updates:\n",
    "    merged_rail.loc[merged_rail['역사명'] == station_name, '역사도로명주소'] = address"
   ]
  },
  {
   "cell_type": "code",
   "execution_count": 299,
   "metadata": {},
   "outputs": [],
   "source": [
    "# 주소를 기반으로 위경도를 채워넣기\n",
    "def geocoding(address):\n",
    "    geo_local = Nominatim(user_agent='South Korea')\n",
    "    location = geo_local.geocode(address)\n",
    "    if location is not None and location.latitude is not None and location.longitude is not None:\n",
    "        geo = (location.latitude, location.longitude)\n",
    "        return geo\n",
    "    else:\n",
    "        return (0, 0)\n",
    "    \n",
    "    \n",
    "coordinates_list = []\n",
    "for address in blank_df['역사도로명주소']:\n",
    "    coordinates = geocoding(address)\n",
    "    coordinates_list.append(coordinates)\n",
    "\n",
    "# 리스트를 데이터프레임에 열로 추가\n",
    "blank_df['역위도'], blank_df['역경도'] = zip(*coordinates_list)"
   ]
  },
  {
   "cell_type": "code",
   "execution_count": 300,
   "metadata": {},
   "outputs": [],
   "source": [
    "for index, data in merged_rail.iterrows():\n",
    "    if data['역사명'] in blank_df['역사명'].values:\n",
    "        new_info = blank_df.loc[blank_df['역사명'] == data['역사명']]\n",
    "        merged_rail.at[index, '역위도'] = new_info['역위도'].values[0]\n",
    "        merged_rail.at[index, '역경도'] = new_info['역경도'].values[0]"
   ]
  },
  {
   "cell_type": "code",
   "execution_count": 301,
   "metadata": {},
   "outputs": [
    {
     "data": {
      "text/html": [
       "<div>\n",
       "<style scoped>\n",
       "    .dataframe tbody tr th:only-of-type {\n",
       "        vertical-align: middle;\n",
       "    }\n",
       "\n",
       "    .dataframe tbody tr th {\n",
       "        vertical-align: top;\n",
       "    }\n",
       "\n",
       "    .dataframe thead th {\n",
       "        text-align: right;\n",
       "    }\n",
       "</style>\n",
       "<table border=\"1\" class=\"dataframe\">\n",
       "  <thead>\n",
       "    <tr style=\"text-align: right;\">\n",
       "      <th></th>\n",
       "      <th>역번호</th>\n",
       "      <th>역사명</th>\n",
       "      <th>노선번호</th>\n",
       "      <th>노선명</th>\n",
       "      <th>환승역구분</th>\n",
       "      <th>환승노선명</th>\n",
       "      <th>역위도</th>\n",
       "      <th>역경도</th>\n",
       "      <th>역사도로명주소</th>\n",
       "    </tr>\n",
       "  </thead>\n",
       "  <tbody>\n",
       "    <tr>\n",
       "      <th>716</th>\n",
       "      <td>1701</td>\n",
       "      <td>구로역</td>\n",
       "      <td>I4101</td>\n",
       "      <td>경부선</td>\n",
       "      <td>일반역</td>\n",
       "      <td>NaN</td>\n",
       "      <td>37.503178</td>\n",
       "      <td>126.882037</td>\n",
       "      <td>서울특별시 구로구 구로동 585-3</td>\n",
       "    </tr>\n",
       "    <tr>\n",
       "      <th>814</th>\n",
       "      <td>1205</td>\n",
       "      <td>구리역</td>\n",
       "      <td>I4108</td>\n",
       "      <td>경의중앙선</td>\n",
       "      <td>일반역</td>\n",
       "      <td>NaN</td>\n",
       "      <td>37.503178</td>\n",
       "      <td>126.882037</td>\n",
       "      <td>경기도 구리시 인창동 244-2</td>\n",
       "    </tr>\n",
       "    <tr>\n",
       "      <th>784</th>\n",
       "      <td>1268</td>\n",
       "      <td>화전역</td>\n",
       "      <td>I4108</td>\n",
       "      <td>경의중앙선</td>\n",
       "      <td>일반역</td>\n",
       "      <td>NaN</td>\n",
       "      <td>37.637837</td>\n",
       "      <td>126.832503</td>\n",
       "      <td>경기도 고양시 덕양구 화전동 183-10</td>\n",
       "    </tr>\n",
       "    <tr>\n",
       "      <th>1016</th>\n",
       "      <td>1952</td>\n",
       "      <td>화정역</td>\n",
       "      <td>I4106</td>\n",
       "      <td>일산선</td>\n",
       "      <td>일반역</td>\n",
       "      <td>NaN</td>\n",
       "      <td>37.637837</td>\n",
       "      <td>126.832503</td>\n",
       "      <td>경기도 고양시 덕양구 화정동 1098</td>\n",
       "    </tr>\n",
       "  </tbody>\n",
       "</table>\n",
       "</div>"
      ],
      "text/plain": [
       "       역번호  역사명   노선번호    노선명 환승역구분 환승노선명        역위도         역경도  \\\n",
       "716   1701  구로역  I4101    경부선   일반역   NaN  37.503178  126.882037   \n",
       "814   1205  구리역  I4108  경의중앙선   일반역   NaN  37.503178  126.882037   \n",
       "784   1268  화전역  I4108  경의중앙선   일반역   NaN  37.637837  126.832503   \n",
       "1016  1952  화정역  I4106    일산선   일반역   NaN  37.637837  126.832503   \n",
       "\n",
       "                     역사도로명주소  \n",
       "716      서울특별시 구로구 구로동 585-3  \n",
       "814        경기도 구리시 인창동 244-2  \n",
       "784   경기도 고양시 덕양구 화전동 183-10  \n",
       "1016    경기도 고양시 덕양구 화정동 1098  "
      ]
     },
     "execution_count": 301,
     "metadata": {},
     "output_type": "execute_result"
    }
   ],
   "source": [
    "duplicated = merged_rail[merged_rail.duplicated(subset=['역위도', '역경도'], keep=False) & \n",
    "                         ~merged_rail.duplicated(subset=['역위도', '역경도', '역사명'], keep=False)\n",
    "                        ]\n",
    "duplicated_sorted = duplicated.sort_values(by=['역위도'])\n",
    "duplicated_sorted"
   ]
  },
  {
   "cell_type": "code",
   "execution_count": 336,
   "metadata": {},
   "outputs": [],
   "source": [
    "names = ['구로역','구리역','화전역','화정역']\n",
    "for name in names:\n",
    "    address = merged_rail[merged_rail['역사명'] == name]['역사도로명주소'].iloc[0]\n",
    "    coordinates = geocoding(address)\n",
    "    merged_rail.loc[merged_rail['역사명'] == name, '역위도'] = coordinates[0]\n",
    "    merged_rail.loc[merged_rail['역사명'] == name, '역경도'] = coordinates[1]"
   ]
  },
  {
   "cell_type": "code",
   "execution_count": 303,
   "metadata": {},
   "outputs": [
    {
     "name": "stdout",
     "output_type": "stream",
     "text": [
      "<class 'pandas.core.frame.DataFrame'>\n",
      "Int64Index: 766 entries, 0 to 1037\n",
      "Data columns (total 9 columns):\n",
      " #   Column   Non-Null Count  Dtype  \n",
      "---  ------   --------------  -----  \n",
      " 0   역번호      766 non-null    object \n",
      " 1   역사명      766 non-null    object \n",
      " 2   노선번호     766 non-null    object \n",
      " 3   노선명      766 non-null    object \n",
      " 4   환승역구분    766 non-null    object \n",
      " 5   환승노선명    280 non-null    object \n",
      " 6   역위도      766 non-null    float64\n",
      " 7   역경도      766 non-null    float64\n",
      " 8   역사도로명주소  766 non-null    object \n",
      "dtypes: float64(2), object(7)\n",
      "memory usage: 76.0+ KB\n"
     ]
    }
   ],
   "source": [
    "merged_rail.info()"
   ]
  },
  {
   "cell_type": "code",
   "execution_count": 304,
   "metadata": {},
   "outputs": [
    {
     "data": {
      "text/plain": [
       "array(['인천지하철 1호선', '인천지하철 2호선', '도시철도 7호선', '에버라인', '인천국제공항선', '우이신설선',\n",
       "       '신분당선', '수도권 경량도시철도 신림선', '김포골드라인', '진접선', '1호선', '2호선', '3호선',\n",
       "       '4호선', '5호선', '6호선', '7호선', '8호선', '수도권  도시철도 9호선', '의정부', '경강선',\n",
       "       '경부선', '경원선', '경의중앙선', '경인선', '경춘선', '분당선', '수인선', '안산과천선', '일산선',\n",
       "       '서해선'], dtype=object)"
      ]
     },
     "execution_count": 304,
     "metadata": {},
     "output_type": "execute_result"
    }
   ],
   "source": [
    "merged_rail['노선명'].unique()"
   ]
  },
  {
   "cell_type": "code",
   "execution_count": 305,
   "metadata": {},
   "outputs": [],
   "source": [
    "# 명칭 통일, 위경도 바뀐 데이터 수정\n",
    "station_updates = [\n",
    "    ('도시철도 7호선', '7호선'),\n",
    "    ('수도권  도시철도 9호선', '9호선'),\n",
    "    ('의정부', '의정부선'),\n",
    "    ('일산선', '3호선'),\n",
    "    ('수도권 경량도시철도 신림선', '신림선'),\n",
    "    ('경부선', '1호선'),\n",
    "    ('경인선', '1호선'),\n",
    "    ('경원선', '1호선'),\n",
    "    ('안산과천선', '4호선')\n",
    "]\n",
    "\n",
    "# 명칭\n",
    "for station_name, station_line in station_updates:\n",
    "    merged_rail.loc[merged_rail['노선명'] == station_name, '노선명'] = station_line\n",
    "\n",
    "# 위경도\n",
    "errored = merged_rail['노선명'] == '신분당선'\n",
    "merged_rail.loc[errored, ['역위도', '역경도']] = merged_rail.loc[errored, ['역경도', '역위도']].values"
   ]
  },
  {
   "cell_type": "code",
   "execution_count": 306,
   "metadata": {},
   "outputs": [],
   "source": [
    "merged_rail['location'] = tuple(zip(merged_rail['역위도'], merged_rail['역경도']))\n",
    "merged_rail['subway'] = merged_rail['노선명'] + ' ' + merged_rail['역사명']"
   ]
  },
  {
   "cell_type": "code",
   "execution_count": 307,
   "metadata": {},
   "outputs": [],
   "source": [
    "merged_rail.to_csv(\"subway.csv\", encoding='UTF-8', index=False)"
   ]
  },
  {
   "attachments": {},
   "cell_type": "markdown",
   "metadata": {},
   "source": [
    "### 수집한 데이터 오류 수정\n",
    "\n",
    "- 청약 신도시 사업이 끝난 후 주소를 정상 발급된 지번(도로명)주소로 넣기\n",
    "- 결측값을 좀 더 채워넣었음"
   ]
  },
  {
   "cell_type": "code",
   "execution_count": 351,
   "metadata": {},
   "outputs": [],
   "source": [
    "fixed = pd.read_csv(\"fixed_20230829.csv\")"
   ]
  },
  {
   "cell_type": "code",
   "execution_count": 341,
   "metadata": {},
   "outputs": [
    {
     "data": {
      "text/plain": [
       "(3133, 26)"
      ]
     },
     "execution_count": 341,
     "metadata": {},
     "output_type": "execute_result"
    }
   ],
   "source": [
    "fixed.shape"
   ]
  },
  {
   "cell_type": "code",
   "execution_count": 345,
   "metadata": {},
   "outputs": [
    {
     "data": {
      "text/plain": [
       "Index(['아파트명', '법정동주소', '위도', '경도', '세대수', '임대세대수', '최고층', '최저층', '최대공급면적',\n",
       "       '최소공급면적', '총아파트동수', '용적률', '건폐율', '세대평균_주차대수', '공급면적', '전용면적', '전용율',\n",
       "       '방수', '욕실수', '현관구조', '입주예정연도', '공급액(만원)', '대형건설사'],\n",
       "      dtype='object')"
      ]
     },
     "execution_count": 345,
     "metadata": {},
     "output_type": "execute_result"
    }
   ],
   "source": [
    "fixed.columns"
   ]
  },
  {
   "cell_type": "markdown",
   "metadata": {},
   "source": [
    "지하철역"
   ]
  },
  {
   "cell_type": "code",
   "execution_count": 352,
   "metadata": {},
   "outputs": [],
   "source": [
    "fixed['location'] = tuple(zip(fixed['위도'], fixed['경도']))\n",
    "fixed_location = list(fixed['location'])\n",
    "\n",
    "subway_dict = dict(zip(merged_rail['subway'], merged_rail['location']))\n",
    "subway_location = list(subway_dict.values())\n",
    "to_subway = haversine_vector(subway_location, fixed_location, comb=True)\n",
    "\n",
    "close_subway = []\n",
    "close_distance = []\n",
    "for i in range(len(to_subway)):\n",
    "    subway_index = int(np.argmin(to_subway[i]))\n",
    "    closest_subway = list(subway_dict.keys())[subway_index]\n",
    "    closest_distance = to_subway[i][subway_index]\n",
    "    close_subway.append(closest_subway)\n",
    "    close_distance.append(closest_distance)\n",
    "    \n",
    "fixed.loc[:, '지하철역'] = close_subway\n",
    "fixed.loc[:, '지하철역_거리'] = close_distance\n",
    "fixed.loc[:, '지하철역_거리'] = fixed['지하철역_거리'].round(4)"
   ]
  },
  {
   "cell_type": "code",
   "execution_count": 353,
   "metadata": {},
   "outputs": [
    {
     "data": {
      "text/plain": [
       "0            5호선 둔촌동역\n",
       "1            5호선 둔촌동역\n",
       "2            5호선 둔촌동역\n",
       "3            5호선 둔촌동역\n",
       "4            5호선 둔촌동역\n",
       "            ...      \n",
       "3322    인천지하철 2호선 독정역\n",
       "3323    인천지하철 2호선 독정역\n",
       "3324    인천지하철 2호선 독정역\n",
       "3325    인천지하철 2호선 독정역\n",
       "3326    인천지하철 2호선 독정역\n",
       "Name: 지하철역, Length: 3327, dtype: object"
      ]
     },
     "execution_count": 353,
     "metadata": {},
     "output_type": "execute_result"
    }
   ],
   "source": [
    "fixed['지하철역']"
   ]
  },
  {
   "cell_type": "code",
   "execution_count": 354,
   "metadata": {},
   "outputs": [],
   "source": [
    "rail_list = merged_rail[['역사명', '노선명']]\n",
    "grouped_rail = rail_list.groupby('역사명')['노선명'].apply(list).reset_index()\n",
    "grouped_rail.rename(columns={'노선명': '노선명_리스트'}, inplace=True)"
   ]
  },
  {
   "cell_type": "code",
   "execution_count": 355,
   "metadata": {},
   "outputs": [],
   "source": [
    "fixed['지하철역'] = fixed['지하철역'].apply(lambda x: x.split(\" \")[-1])\n",
    "apartment_rail = pd.merge(fixed, grouped_rail, left_on='지하철역', right_on='역사명', how='inner')"
   ]
  },
  {
   "cell_type": "code",
   "execution_count": 356,
   "metadata": {},
   "outputs": [
    {
     "data": {
      "text/plain": [
       "0       둔촌동역\n",
       "1       둔촌동역\n",
       "2       둔촌동역\n",
       "3       둔촌동역\n",
       "4       둔촌동역\n",
       "        ... \n",
       "3322     독정역\n",
       "3323     독정역\n",
       "3324     독정역\n",
       "3325     독정역\n",
       "3326     독정역\n",
       "Name: 지하철역, Length: 3327, dtype: object"
      ]
     },
     "execution_count": 356,
     "metadata": {},
     "output_type": "execute_result"
    }
   ],
   "source": [
    "fixed['지하철역']"
   ]
  },
  {
   "cell_type": "code",
   "execution_count": 349,
   "metadata": {},
   "outputs": [
    {
     "data": {
      "text/plain": [
       "0         둔촌동역\n",
       "1         둔촌동역\n",
       "2         둔촌동역\n",
       "3         둔촌동역\n",
       "4         둔촌동역\n",
       "         ...  \n",
       "3322    을지로3가역\n",
       "3323    을지로3가역\n",
       "3324    을지로3가역\n",
       "3325    을지로3가역\n",
       "3326    을지로3가역\n",
       "Name: 지하철역, Length: 3327, dtype: object"
      ]
     },
     "execution_count": 349,
     "metadata": {},
     "output_type": "execute_result"
    }
   ],
   "source": [
    "apartment_rail['지하철역']"
   ]
  },
  {
   "cell_type": "markdown",
   "metadata": {},
   "source": [
    "병원"
   ]
  },
  {
   "cell_type": "code",
   "execution_count": 313,
   "metadata": {},
   "outputs": [],
   "source": [
    "hospital = pd.read_csv(\"hospital.csv\")\n",
    "hospital = hospital[hospital['location'] != '(0.0, 0.0)']\n",
    "hospital.loc[:, 'location'] = hospital['location'].apply(ast.literal_eval)"
   ]
  },
  {
   "cell_type": "code",
   "execution_count": 314,
   "metadata": {},
   "outputs": [],
   "source": [
    "hospital_location_1 = list(hospital[hospital['종별코드명'] == '1차']['location'].unique())\n",
    "hospital_location_2 = list(hospital[hospital['종별코드명'] == '2차']['location'].unique())\n",
    "hospital_location_3 = list(hospital[hospital['종별코드명'] == '3차']['location'].unique())"
   ]
  },
  {
   "cell_type": "code",
   "execution_count": 315,
   "metadata": {},
   "outputs": [],
   "source": [
    "distance_to_hospitals = haversine_vector(hospital_location_1, fixed_location, comb=True)\n",
    "\n",
    "num_close_hospital_1 = []\n",
    "for distance in distance_to_hospitals:\n",
    "    number = np.sum(distance <= 1)\n",
    "    num_close_hospital_1.append(number)\n",
    "apartment_rail['1차병원'] = num_close_hospital_1\n",
    "\n",
    "\n",
    "distance_to_hospitals = haversine_vector(hospital_location_2, fixed_location, comb=True)\n",
    "\n",
    "num_close_hospital_2 = []\n",
    "for distance in distance_to_hospitals:\n",
    "    number = np.sum(distance <= 2)\n",
    "    num_close_hospital_2.append(number)\n",
    "\n",
    "apartment_rail['2차병원'] = num_close_hospital_2\n",
    "\n",
    "\n",
    "distance_to_hospitals = haversine_vector(hospital_location_3, fixed_location, comb=True)\n",
    "\n",
    "num_close_hospital_3 = []\n",
    "for distance in distance_to_hospitals:\n",
    "    number = np.sum(distance <= 3)\n",
    "    num_close_hospital_3.append(number)\n",
    "apartment_rail['3차병원'] = num_close_hospital_3"
   ]
  },
  {
   "attachments": {},
   "cell_type": "markdown",
   "metadata": {},
   "source": [
    "#### 공원\n",
    "\n",
    "전국도시공원정보표준데이터: https://www.data.go.kr/data/15012890/standard.do"
   ]
  },
  {
   "cell_type": "code",
   "execution_count": 316,
   "metadata": {},
   "outputs": [],
   "source": [
    "park = pd.read_csv('park.csv', encoding='euc-kr')\n",
    "park_df = park[~park['공원구분'].isin(['묘지공원', '도시농업공원', '가로공원', '공공공지', '기타', '기타공원'])]\n",
    "park_df.loc[park_df['공원구분'] == '어린인공원', '공원구분'] = '어린이공원'\n",
    "park_df.loc[park_df['공원구분'] == '도시자연공원구역', '공원구분'] = '도시자연공원'\n",
    "park_df.loc[park_df['공원구분'] == '도시자연공원구역', '공원구분'] = '도시자연공원'\n",
    "park_df = park_df[park_df['제공기관명'].str.contains('서울|경기|인천')]\n",
    "park_df = park_df.dropna(subset=['위도', '경도'])\n",
    "park_df['location'] = tuple(zip(park_df['위도'], park_df['경도']))\n",
    "park_df = park_df[['공원명', 'location']]"
   ]
  },
  {
   "cell_type": "code",
   "execution_count": 317,
   "metadata": {},
   "outputs": [],
   "source": [
    "location = list(apartment_rail['location'])\n",
    "park_location = list(park_df['location'])\n",
    "\n",
    "distance_to_park = haversine_vector(park_location, location, comb=True)\n",
    "\n",
    "num_close_park = []\n",
    "for distance in distance_to_park:\n",
    "    number = np.sum(distance <= 1)\n",
    "    num_close_park.append(number)\n",
    "    \n",
    "apartment_rail['공원'] = num_close_park"
   ]
  },
  {
   "attachments": {},
   "cell_type": "markdown",
   "metadata": {},
   "source": [
    "#### 대학\n",
    "\n",
    "교육부_전국대학교개황: https://www.data.go.kr/data/15100330/fileData.do"
   ]
  },
  {
   "cell_type": "code",
   "execution_count": 318,
   "metadata": {},
   "outputs": [],
   "source": [
    "university = pd.read_csv(\"university.csv\")\n",
    "university_df = university[university['학교구분'].isin(['대학', '전문대학'])]"
   ]
  },
  {
   "cell_type": "code",
   "execution_count": 319,
   "metadata": {},
   "outputs": [],
   "source": [
    "university['location'] = tuple(zip(university['Latitude'], university['Longitude']))\n",
    "university_location = list(university['location'])\n",
    "distance_to_univ = haversine_vector(university_location, location, comb=True)\n",
    "\n",
    "num_close_univ = []\n",
    "for distance in distance_to_univ:\n",
    "    number = np.sum(distance <= 1)\n",
    "    num_close_univ.append(number)\n",
    "    \n",
    "apartment_rail['대학'] = num_close_univ"
   ]
  },
  {
   "cell_type": "code",
   "execution_count": 320,
   "metadata": {},
   "outputs": [
    {
     "data": {
      "text/html": [
       "<div>\n",
       "<style scoped>\n",
       "    .dataframe tbody tr th:only-of-type {\n",
       "        vertical-align: middle;\n",
       "    }\n",
       "\n",
       "    .dataframe tbody tr th {\n",
       "        vertical-align: top;\n",
       "    }\n",
       "\n",
       "    .dataframe thead th {\n",
       "        text-align: right;\n",
       "    }\n",
       "</style>\n",
       "<table border=\"1\" class=\"dataframe\">\n",
       "  <thead>\n",
       "    <tr style=\"text-align: right;\">\n",
       "      <th></th>\n",
       "      <th>아파트명</th>\n",
       "      <th>법정동주소</th>\n",
       "      <th>위도</th>\n",
       "      <th>경도</th>\n",
       "      <th>세대수</th>\n",
       "      <th>임대세대수</th>\n",
       "      <th>최고층</th>\n",
       "      <th>최저층</th>\n",
       "      <th>최대공급면적</th>\n",
       "      <th>최소공급면적</th>\n",
       "      <th>...</th>\n",
       "      <th>location</th>\n",
       "      <th>지하철역</th>\n",
       "      <th>지하철역_거리</th>\n",
       "      <th>역사명</th>\n",
       "      <th>노선명_리스트</th>\n",
       "      <th>1차병원</th>\n",
       "      <th>2차병원</th>\n",
       "      <th>3차병원</th>\n",
       "      <th>공원</th>\n",
       "      <th>대학</th>\n",
       "    </tr>\n",
       "  </thead>\n",
       "  <tbody>\n",
       "  </tbody>\n",
       "</table>\n",
       "<p>0 rows × 33 columns</p>\n",
       "</div>"
      ],
      "text/plain": [
       "Empty DataFrame\n",
       "Columns: [아파트명, 법정동주소, 위도, 경도, 세대수, 임대세대수, 최고층, 최저층, 최대공급면적, 최소공급면적, 총아파트동수, 용적률, 건폐율, 세대평균_주차대수, 공급면적, 전용면적, 전용율, 방수, 욕실수, 현관구조, 입주예정연도, 공급액(만원), 대형건설사, location, 지하철역, 지하철역_거리, 역사명, 노선명_리스트, 1차병원, 2차병원, 3차병원, 공원, 대학]\n",
       "Index: []\n",
       "\n",
       "[0 rows x 33 columns]"
      ]
     },
     "execution_count": 320,
     "metadata": {},
     "output_type": "execute_result"
    }
   ],
   "source": [
    "apartment_rail[apartment_rail['공원'].isna() | apartment_rail['대학'].isna()]"
   ]
  },
  {
   "attachments": {},
   "cell_type": "markdown",
   "metadata": {},
   "source": [
    "#### 광역 / 기초 변수 추가 & 상권 변수 추가 "
   ]
  },
  {
   "cell_type": "code",
   "execution_count": 321,
   "metadata": {},
   "outputs": [
    {
     "data": {
      "text/plain": [
       "경기도      1931\n",
       "인천광역시     484\n",
       "서울특별시     383\n",
       "서울시       197\n",
       "인천시       131\n",
       "안양동         4\n",
       "광주시         3\n",
       "Name: 광역, dtype: int64"
      ]
     },
     "execution_count": 321,
     "metadata": {},
     "output_type": "execute_result"
    }
   ],
   "source": [
    "apartment_rail.loc[:, '법정동주소'] = apartment_rail['법정동주소'].str.replace(r\"\\t\", \"\", regex=True)\n",
    "apartment_rail['광역'] = apartment_rail['법정동주소'].apply(lambda x: x.split(\" \")[0])\n",
    "apartment_rail['광역'].value_counts()"
   ]
  },
  {
   "cell_type": "code",
   "execution_count": 322,
   "metadata": {},
   "outputs": [
    {
     "data": {
      "text/plain": [
       "경기    1938\n",
       "인천     615\n",
       "서울     580\n",
       "Name: 광역, dtype: int64"
      ]
     },
     "execution_count": 322,
     "metadata": {},
     "output_type": "execute_result"
    }
   ],
   "source": [
    "apartment_rail.loc[apartment_rail['광역'] == '안양동', '법정동주소'] = '경기도 안양시 만안구 안양동 전파로61번길 20'\n",
    "apartment_rail.loc[apartment_rail['광역'] == '광주시', '법정동주소'] = '경기도 광주시 탄벌동 532-2번지'\n",
    "\n",
    "apartment_rail['광역'] = apartment_rail['법정동주소'].apply(lambda x: x.split(\" \")[0])\n",
    "apartment_rail.loc[(apartment_rail['광역'] == '서울시') | (apartment_rail['광역'] == '서울특별시'), '광역'] = '서울'\n",
    "apartment_rail.loc[(apartment_rail['광역'] == '인천시') | (apartment_rail['광역'] == '인천광역시'), '광역'] = '인천'\n",
    "apartment_rail.loc[(apartment_rail['광역'] == '경기도'), '광역'] = '경기'\n",
    "\n",
    "apartment_rail['광역'].value_counts()"
   ]
  },
  {
   "cell_type": "code",
   "execution_count": 323,
   "metadata": {},
   "outputs": [
    {
     "data": {
      "text/plain": [
       "array(['강동구', '강남구', '성남시', '수원시', '광명시', '연수구', '동대문구', '서초구', '부평구',\n",
       "       '안양시', '성북구', '의왕시', '서구', '평택시', '안성시', '용인시', '광주시', '중구',\n",
       "       '미추홀구', '남동구', '화성시', '이천시', '의정부시', '부천시', '파주시', '구리시', '남양주시',\n",
       "       '구로구', '강북구', '계양구', '오산시', '도봉구', '양주시', '시흥시', '과천시', '포천시',\n",
       "       '동작구', '용인처인구', '안산시', '강서구', '은평구', '강화군', '동구', '송파구', '고양시',\n",
       "       '노원구', '가평군', '동두천시', '광진구', '중랑구', '종로구', '하남시', '양평군', '김포시',\n",
       "       '영등포구', '여주시', '관악구', '양천구', '고양덕양구', '연천군', '성동구', '서대문구', '군포시',\n",
       "       '성남수정구', '용산구'], dtype=object)"
      ]
     },
     "execution_count": 323,
     "metadata": {},
     "output_type": "execute_result"
    }
   ],
   "source": [
    "apartment_rail['기초'] = apartment_rail['법정동주소'].apply(lambda x: x.split(\" \")[1])\n",
    "apartment_rail['기초'].unique()"
   ]
  },
  {
   "cell_type": "code",
   "execution_count": 324,
   "metadata": {},
   "outputs": [],
   "source": [
    "apartment_rail.loc[apartment_rail['기초'] == '용인처인구', '기초'] = '용인시'\n",
    "apartment_rail.loc[apartment_rail['기초'] == '성남수정구', '기초'] = '성남시'\n",
    "apartment_rail.loc[apartment_rail['기초'] == '고양덕양구', '기초'] = '고양시'"
   ]
  },
  {
   "cell_type": "code",
   "execution_count": 325,
   "metadata": {},
   "outputs": [
    {
     "data": {
      "text/plain": [
       "array(['강동구', '강남구', '성남시', '수원시', '광명시', '연수구', '동대문구', '서초구', '부평구',\n",
       "       '안양시', '성북구', '의왕시', '서구', '평택시', '안성시', '용인시', '광주시', '중구',\n",
       "       '미추홀구', '남동구', '화성시', '이천시', '의정부시', '부천시', '파주시', '구리시', '남양주시',\n",
       "       '구로구', '강북구', '계양구', '오산시', '도봉구', '양주시', '시흥시', '과천시', '포천시',\n",
       "       '동작구', '안산시', '강서구', '은평구', '강화군', '동구', '송파구', '고양시', '노원구',\n",
       "       '가평군', '동두천시', '광진구', '중랑구', '종로구', '하남시', '양평군', '김포시', '영등포구',\n",
       "       '여주시', '관악구', '양천구', '연천군', '성동구', '서대문구', '군포시', '용산구'],\n",
       "      dtype=object)"
      ]
     },
     "execution_count": 325,
     "metadata": {},
     "output_type": "execute_result"
    }
   ],
   "source": [
    "apartment_rail['기초'].unique()"
   ]
  },
  {
   "attachments": {},
   "cell_type": "markdown",
   "metadata": {},
   "source": [
    "#### 상권_변수"
   ]
  },
  {
   "cell_type": "code",
   "execution_count": 326,
   "metadata": {},
   "outputs": [
    {
     "data": {
      "text/html": [
       "<div>\n",
       "<style scoped>\n",
       "    .dataframe tbody tr th:only-of-type {\n",
       "        vertical-align: middle;\n",
       "    }\n",
       "\n",
       "    .dataframe tbody tr th {\n",
       "        vertical-align: top;\n",
       "    }\n",
       "\n",
       "    .dataframe thead th {\n",
       "        text-align: right;\n",
       "    }\n",
       "</style>\n",
       "<table border=\"1\" class=\"dataframe\">\n",
       "  <thead>\n",
       "    <tr style=\"text-align: right;\">\n",
       "      <th></th>\n",
       "      <th>광역시도</th>\n",
       "      <th>시군구</th>\n",
       "      <th>소매</th>\n",
       "      <th>음식</th>\n",
       "      <th>교육</th>\n",
       "      <th>장례식장</th>\n",
       "      <th>보건의료</th>\n",
       "      <th>유원지오락</th>\n",
       "      <th>총인구수</th>\n",
       "    </tr>\n",
       "  </thead>\n",
       "  <tbody>\n",
       "    <tr>\n",
       "      <th>0</th>\n",
       "      <td>서울</td>\n",
       "      <td>종로구</td>\n",
       "      <td>9,208</td>\n",
       "      <td>6,184</td>\n",
       "      <td>975</td>\n",
       "      <td>11</td>\n",
       "      <td>198</td>\n",
       "      <td>246</td>\n",
       "      <td>141,223</td>\n",
       "    </tr>\n",
       "    <tr>\n",
       "      <th>1</th>\n",
       "      <td>서울</td>\n",
       "      <td>중구</td>\n",
       "      <td>12,053</td>\n",
       "      <td>5,521</td>\n",
       "      <td>587</td>\n",
       "      <td>18</td>\n",
       "      <td>253</td>\n",
       "      <td>204</td>\n",
       "      <td>120,317</td>\n",
       "    </tr>\n",
       "    <tr>\n",
       "      <th>2</th>\n",
       "      <td>서울</td>\n",
       "      <td>용산구</td>\n",
       "      <td>9,175</td>\n",
       "      <td>4,830</td>\n",
       "      <td>856</td>\n",
       "      <td>9</td>\n",
       "      <td>137</td>\n",
       "      <td>176</td>\n",
       "      <td>740</td>\n",
       "    </tr>\n",
       "    <tr>\n",
       "      <th>3</th>\n",
       "      <td>서울</td>\n",
       "      <td>성동구</td>\n",
       "      <td>9,516</td>\n",
       "      <td>4,310</td>\n",
       "      <td>1,034</td>\n",
       "      <td>7</td>\n",
       "      <td>171</td>\n",
       "      <td>276</td>\n",
       "      <td>280,707</td>\n",
       "    </tr>\n",
       "    <tr>\n",
       "      <th>4</th>\n",
       "      <td>서울</td>\n",
       "      <td>광진구</td>\n",
       "      <td>10,989</td>\n",
       "      <td>4,955</td>\n",
       "      <td>1,016</td>\n",
       "      <td>7</td>\n",
       "      <td>203</td>\n",
       "      <td>556</td>\n",
       "      <td>337,258</td>\n",
       "    </tr>\n",
       "  </tbody>\n",
       "</table>\n",
       "</div>"
      ],
      "text/plain": [
       "  광역시도  시군구      소매     음식     교육  장례식장 보건의료 유원지오락     총인구수\n",
       "0   서울  종로구   9,208  6,184    975    11  198   246  141,223\n",
       "1   서울   중구  12,053  5,521    587    18  253   204  120,317\n",
       "2   서울  용산구   9,175  4,830    856     9  137   176      740\n",
       "3   서울  성동구   9,516  4,310  1,034     7  171   276  280,707\n",
       "4   서울  광진구  10,989  4,955  1,016     7  203   556  337,258"
      ]
     },
     "execution_count": 326,
     "metadata": {},
     "output_type": "execute_result"
    }
   ],
   "source": [
    "area = pd.read_csv(\"상권_변수.csv\")\n",
    "area.head()"
   ]
  },
  {
   "cell_type": "code",
   "execution_count": 327,
   "metadata": {},
   "outputs": [],
   "source": [
    "merged = pd.merge(apartment_rail, area, left_on=['광역', '기초'], right_on=['광역시도', '시군구'], how='inner')"
   ]
  },
  {
   "cell_type": "code",
   "execution_count": 328,
   "metadata": {},
   "outputs": [],
   "source": [
    "merged = merged[['아파트명', '법정동주소', '위도', '경도', '세대수', '임대세대수', '최고층', '최저층', '최대공급면적',\n",
    "       '최소공급면적', '총아파트동수', '용적률', '건폐율', '세대평균_주차대수', '공급면적', '전용면적', '전용율',\n",
    "       '방수', '욕실수', '현관구조', '입주예정연도', '공급액(만원)', '대형건설사', '지하철역', '지하철역_거리', \n",
    "       '역사명', '노선명_리스트', '1차병원', '2차병원', '3차병원', '공원', '대학', '광역', '기초', \n",
    "       '소매', '음식', '교육', '장례식장', '보건의료', '유원지오락', '총인구수']]"
   ]
  },
  {
   "attachments": {},
   "cell_type": "markdown",
   "metadata": {},
   "source": [
    "##### 추가적인 전처리\n",
    "\n",
    "- 용적률과 건폐율이 바뀜\n",
    "- 세대평균 주차대수가 잘못된 값 수정"
   ]
  },
  {
   "cell_type": "code",
   "execution_count": 329,
   "metadata": {},
   "outputs": [
    {
     "data": {
      "text/html": [
       "<div>\n",
       "<style scoped>\n",
       "    .dataframe tbody tr th:only-of-type {\n",
       "        vertical-align: middle;\n",
       "    }\n",
       "\n",
       "    .dataframe tbody tr th {\n",
       "        vertical-align: top;\n",
       "    }\n",
       "\n",
       "    .dataframe thead th {\n",
       "        text-align: right;\n",
       "    }\n",
       "</style>\n",
       "<table border=\"1\" class=\"dataframe\">\n",
       "  <thead>\n",
       "    <tr style=\"text-align: right;\">\n",
       "      <th></th>\n",
       "      <th>아파트명</th>\n",
       "      <th>용적률</th>\n",
       "      <th>건폐율</th>\n",
       "    </tr>\n",
       "  </thead>\n",
       "  <tbody>\n",
       "    <tr>\n",
       "      <th>2852</th>\n",
       "      <td>가평 센트럴파크 더 스카이</td>\n",
       "      <td>482.0</td>\n",
       "      <td>66.0</td>\n",
       "    </tr>\n",
       "    <tr>\n",
       "      <th>2853</th>\n",
       "      <td>가평 센트럴파크 더 스카이</td>\n",
       "      <td>482.0</td>\n",
       "      <td>66.0</td>\n",
       "    </tr>\n",
       "    <tr>\n",
       "      <th>2854</th>\n",
       "      <td>가평 센트럴파크 더 스카이</td>\n",
       "      <td>482.0</td>\n",
       "      <td>66.0</td>\n",
       "    </tr>\n",
       "    <tr>\n",
       "      <th>2855</th>\n",
       "      <td>가평 센트럴파크 더 스카이</td>\n",
       "      <td>482.0</td>\n",
       "      <td>66.0</td>\n",
       "    </tr>\n",
       "    <tr>\n",
       "      <th>2856</th>\n",
       "      <td>가평 센트럴파크 더 스카이</td>\n",
       "      <td>482.0</td>\n",
       "      <td>66.0</td>\n",
       "    </tr>\n",
       "    <tr>\n",
       "      <th>2857</th>\n",
       "      <td>가평 센트럴파크 더 스카이</td>\n",
       "      <td>482.0</td>\n",
       "      <td>66.0</td>\n",
       "    </tr>\n",
       "    <tr>\n",
       "      <th>2858</th>\n",
       "      <td>가평 센트럴파크 더 스카이</td>\n",
       "      <td>482.0</td>\n",
       "      <td>66.0</td>\n",
       "    </tr>\n",
       "    <tr>\n",
       "      <th>2859</th>\n",
       "      <td>가평 센트럴파크 더 스카이</td>\n",
       "      <td>482.0</td>\n",
       "      <td>66.0</td>\n",
       "    </tr>\n",
       "  </tbody>\n",
       "</table>\n",
       "</div>"
      ],
      "text/plain": [
       "                아파트명    용적률   건폐율\n",
       "2852  가평 센트럴파크 더 스카이  482.0  66.0\n",
       "2853  가평 센트럴파크 더 스카이  482.0  66.0\n",
       "2854  가평 센트럴파크 더 스카이  482.0  66.0\n",
       "2855  가평 센트럴파크 더 스카이  482.0  66.0\n",
       "2856  가평 센트럴파크 더 스카이  482.0  66.0\n",
       "2857  가평 센트럴파크 더 스카이  482.0  66.0\n",
       "2858  가평 센트럴파크 더 스카이  482.0  66.0\n",
       "2859  가평 센트럴파크 더 스카이  482.0  66.0"
      ]
     },
     "execution_count": 329,
     "metadata": {},
     "output_type": "execute_result"
    }
   ],
   "source": [
    "merged.loc[merged['건폐율'] > 100, ['용적률','건폐율']] = merged.loc[merged['건폐율'] > 100, ['건폐율', '용적률']].values\n",
    "merged[merged['아파트명'] == '가평 센트럴파크 더 스카이'][['아파트명', '용적률', '건폐율']] "
   ]
  },
  {
   "cell_type": "code",
   "execution_count": 330,
   "metadata": {},
   "outputs": [
    {
     "data": {
      "text/html": [
       "<div>\n",
       "<style scoped>\n",
       "    .dataframe tbody tr th:only-of-type {\n",
       "        vertical-align: middle;\n",
       "    }\n",
       "\n",
       "    .dataframe tbody tr th {\n",
       "        vertical-align: top;\n",
       "    }\n",
       "\n",
       "    .dataframe thead th {\n",
       "        text-align: right;\n",
       "    }\n",
       "</style>\n",
       "<table border=\"1\" class=\"dataframe\">\n",
       "  <thead>\n",
       "    <tr style=\"text-align: right;\">\n",
       "      <th></th>\n",
       "      <th>아파트명</th>\n",
       "      <th>세대평균_주차대수</th>\n",
       "    </tr>\n",
       "  </thead>\n",
       "  <tbody>\n",
       "    <tr>\n",
       "      <th>92</th>\n",
       "      <td>고덕 아르테스 미소지움</td>\n",
       "      <td>3.3</td>\n",
       "    </tr>\n",
       "    <tr>\n",
       "      <th>93</th>\n",
       "      <td>고덕 아르테스 미소지움</td>\n",
       "      <td>3.3</td>\n",
       "    </tr>\n",
       "    <tr>\n",
       "      <th>94</th>\n",
       "      <td>고덕 아르테스 미소지움</td>\n",
       "      <td>3.3</td>\n",
       "    </tr>\n",
       "    <tr>\n",
       "      <th>703</th>\n",
       "      <td>안양 광신프로그레스 리버뷰</td>\n",
       "      <td>6.3</td>\n",
       "    </tr>\n",
       "    <tr>\n",
       "      <th>704</th>\n",
       "      <td>안양 광신프로그레스 리버뷰</td>\n",
       "      <td>6.3</td>\n",
       "    </tr>\n",
       "    <tr>\n",
       "      <th>705</th>\n",
       "      <td>안양 광신프로그레스 리버뷰</td>\n",
       "      <td>6.3</td>\n",
       "    </tr>\n",
       "    <tr>\n",
       "      <th>706</th>\n",
       "      <td>안양 광신프로그레스 리버뷰</td>\n",
       "      <td>6.3</td>\n",
       "    </tr>\n",
       "    <tr>\n",
       "      <th>707</th>\n",
       "      <td>평촌 트리지아</td>\n",
       "      <td>3.3</td>\n",
       "    </tr>\n",
       "    <tr>\n",
       "      <th>708</th>\n",
       "      <td>평촌 트리지아</td>\n",
       "      <td>3.3</td>\n",
       "    </tr>\n",
       "    <tr>\n",
       "      <th>709</th>\n",
       "      <td>평촌 트리지아</td>\n",
       "      <td>3.3</td>\n",
       "    </tr>\n",
       "    <tr>\n",
       "      <th>2789</th>\n",
       "      <td>대곡역 롯데캐슬 엘클라씨</td>\n",
       "      <td>4.0</td>\n",
       "    </tr>\n",
       "    <tr>\n",
       "      <th>2790</th>\n",
       "      <td>대곡역 롯데캐슬 엘클라씨</td>\n",
       "      <td>4.0</td>\n",
       "    </tr>\n",
       "    <tr>\n",
       "      <th>2884</th>\n",
       "      <td>자양 하늘채 베르</td>\n",
       "      <td>3.2</td>\n",
       "    </tr>\n",
       "    <tr>\n",
       "      <th>2885</th>\n",
       "      <td>자양 하늘채 베르</td>\n",
       "      <td>3.2</td>\n",
       "    </tr>\n",
       "  </tbody>\n",
       "</table>\n",
       "</div>"
      ],
      "text/plain": [
       "                아파트명  세대평균_주차대수\n",
       "92      고덕 아르테스 미소지움        3.3\n",
       "93      고덕 아르테스 미소지움        3.3\n",
       "94      고덕 아르테스 미소지움        3.3\n",
       "703   안양 광신프로그레스 리버뷰        6.3\n",
       "704   안양 광신프로그레스 리버뷰        6.3\n",
       "705   안양 광신프로그레스 리버뷰        6.3\n",
       "706   안양 광신프로그레스 리버뷰        6.3\n",
       "707          평촌 트리지아        3.3\n",
       "708          평촌 트리지아        3.3\n",
       "709          평촌 트리지아        3.3\n",
       "2789   대곡역 롯데캐슬 엘클라씨        4.0\n",
       "2790   대곡역 롯데캐슬 엘클라씨        4.0\n",
       "2884       자양 하늘채 베르        3.2\n",
       "2885       자양 하늘채 베르        3.2"
      ]
     },
     "execution_count": 330,
     "metadata": {},
     "output_type": "execute_result"
    }
   ],
   "source": [
    "merged[merged['세대평균_주차대수']>=3][['아파트명', '세대평균_주차대수']]"
   ]
  },
  {
   "cell_type": "code",
   "execution_count": 331,
   "metadata": {},
   "outputs": [],
   "source": [
    "merged.loc[merged['아파트명'] == '대곡역 롯데캐슬 엘클라씨', '세대평균_주차대수'] = 1.2\n",
    "merged.loc[merged['아파트명'] == '고덕 아르테스 미소지움', '세대평균_주차대수'] = 1.2\n",
    "merged.loc[merged['아파트명'] == '안양 광신프로그레스 리버뷰', '세대평균_주차대수'] = 1.17\n",
    "merged.loc[merged['아파트명'] == '평촌 트리지아', '세대평균_주차대수'] = 1.26\n",
    "merged.loc[merged['아파트명'] == '자양 하늘채 베르', '세대평균_주차대수'] = 0.98"
   ]
  },
  {
   "cell_type": "code",
   "execution_count": 332,
   "metadata": {},
   "outputs": [],
   "source": [
    "merged.to_csv(\"apartment_20230823.csv\", encoding='UTF-8', index=False)"
   ]
  }
 ],
 "metadata": {
  "kernelspec": {
   "display_name": "'Mashine_Learning'",
   "language": "python",
   "name": "machine_learning"
  },
  "language_info": {
   "codemirror_mode": {
    "name": "ipython",
    "version": 3
   },
   "file_extension": ".py",
   "mimetype": "text/x-python",
   "name": "python",
   "nbconvert_exporter": "python",
   "pygments_lexer": "ipython3",
   "version": "3.8.16"
  },
  "orig_nbformat": 4
 },
 "nbformat": 4,
 "nbformat_minor": 2
}
