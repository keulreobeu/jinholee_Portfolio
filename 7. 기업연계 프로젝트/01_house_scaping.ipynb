{
 "cells": [
  {
   "attachments": {},
   "cell_type": "markdown",
   "metadata": {},
   "source": [
    "#### import"
   ]
  },
  {
   "cell_type": "code",
   "execution_count": 4,
   "metadata": {},
   "outputs": [],
   "source": [
    "import numpy as np\n",
    "import pandas as pd\n",
    "import requests\n",
    "from bs4 import BeautifulSoup\n",
    "import selenium\n",
    "from selenium import webdriver\n",
    "from selenium.webdriver.chrome.service import Service as ChromeService\n",
    "from selenium.webdriver.chrome.options import Options\n",
    "from selenium.webdriver.common.by import By\n",
    "from selenium.webdriver.common.action_chains import ActionChains\n",
    "from selenium.webdriver.common.keys import Keys\n",
    "from selenium.webdriver.common.desired_capabilities import DesiredCapabilities\n",
    "from selenium.webdriver.support import expected_conditions as EC\n",
    "from selenium.webdriver.support.wait import WebDriverWait\n",
    "from selenium.webdriver.support.select import Select\n",
    "import time\n",
    "\n",
    "import webdriver_manager\n",
    "from webdriver_manager.chrome import ChromeDriverManager\n",
    "\n",
    "\n",
    "import warnings\n",
    "warnings.filterwarnings('ignore')\n",
    "\n",
    "\n",
    "%matplotlib inline"
   ]
  },
  {
   "attachments": {},
   "cell_type": "markdown",
   "metadata": {},
   "source": [
    "### API 청약정보 수집\n",
    "\n",
    "- 기간: 2020-01-01 ~ 2020-09-30\n",
    "- 지역: 서울, 경기, 인천\n",
    "- 수집: 아파트명, 지역, 도로명주소, 세대수, 시행사, 시공사, 세부정보(URL)"
   ]
  },
  {
   "cell_type": "code",
   "execution_count": 5,
   "metadata": {},
   "outputs": [],
   "source": [
    "key = ''\n",
    "시작일 = '2020-01-01'\n",
    "마지막일 = '2023-09-30'\n",
    "지역들 = ['서울','경기','인천']"
   ]
  },
  {
   "cell_type": "code",
   "execution_count": 6,
   "metadata": {},
   "outputs": [],
   "source": [
    "data_dict = {\n",
    "    '타입': [],\n",
    "    '아파트명': [],\n",
    "    '지역': [],\n",
    "    '도로명주소': [],\n",
    "    '세대수': [],\n",
    "    '시행사': [],\n",
    "    '시공사': [],\n",
    "    '세부정보': []\n",
    "}\n",
    "\n",
    "\n",
    "for 지역 in 지역들:\n",
    "    url = f'https://api.odcloud.kr/api/ApplyhomeInfoDetailSvc/v1/getAPTLttotPblancDetail?page=1&perPage=200&cond[SUBSCRPT_AREA_CODE_NM::EQ]={지역}&cond[RCRIT_PBLANC_DE::LTE]={마지막일}&cond[RCRIT_PBLANC_DE::GTE]={시작일}&serviceKey={key}'\n",
    "\n",
    "    res = requests.get(url)\n",
    "    data = res.json()\n",
    "    \n",
    "    # json에서 원하는 데이터 저장\n",
    "    for i in range(data['currentCount']):\n",
    "        data_dict['타입'].append(data['data'][i]['HOUSE_SECD_NM'])\n",
    "        data_dict['아파트명'].append(data['data'][i]['HOUSE_NM'])\n",
    "        data_dict['지역'].append(data['data'][i]['SUBSCRPT_AREA_CODE_NM'])\n",
    "        data_dict['도로명주소'].append(data['data'][i]['HSSPLY_ADRES'])\n",
    "        data_dict['세대수'].append(data['data'][i]['TOT_SUPLY_HSHLDCO'])\n",
    "        data_dict['시행사'].append(data['data'][i]['BSNS_MBY_NM'])\n",
    "        data_dict['시공사'].append(data['data'][i]['CNSTRCT_ENTRPS_NM'])\n",
    "        data_dict['세부정보'].append(data['data'][i]['PBLANC_URL'])"
   ]
  },
  {
   "cell_type": "code",
   "execution_count": 7,
   "metadata": {},
   "outputs": [],
   "source": [
    "df = pd.DataFrame(data_dict)"
   ]
  },
  {
   "attachments": {},
   "cell_type": "markdown",
   "metadata": {},
   "source": [
    "### selenium으로 세부정보 수집\n",
    "\n",
    "- 수집: 주택형, 주택공급면적, 공급세대수, 공급금액(최고가 기준), 입주예정월"
   ]
  },
  {
   "cell_type": "code",
   "execution_count": 61,
   "metadata": {},
   "outputs": [],
   "source": [
    "data_dict2 = {\n",
    "    '타입': [],\n",
    "    '아파트명': [],\n",
    "    '지역': [],\n",
    "    '도로명주소': [],\n",
    "    '세대수': [],\n",
    "    '시행사': [],\n",
    "    '시공사': [],\n",
    "    '주택형': [],\n",
    "    '주택공급면적': [],\n",
    "    '공급세대수': [],\n",
    "    '공급금액(최고가 기준)': [],\n",
    "    '입주예정월': []\n",
    "}\n",
    "\n",
    "# service = ChromeService(executable_path=ChromeDriverManager().install())\n",
    "options = Options()\n",
    "# 크롬을 숨기기\n",
    "options.add_argument(\"--headless\")\n",
    "options.add_argument('--blink-settings=imagesEnabled=false')\n",
    "# 데이터를 많이 요청할경우 agent라는걸 알려주는 메시지를 보냄\n",
    "options.add_argument(\"user-agent=Mozilla/5.0 (Windows NT 10.0; Win64; x64) AppleWebKit/537.36 (KHTML, like Gecko) Chrome/114.0.5735.199 Safari/537.36\")\n",
    "driver = webdriver.Chrome(options=options)\n",
    "wait = WebDriverWait(driver, 10)\n",
    "\n",
    "\n",
    "for num, url in enumerate(df['세부정보']):\n",
    "    driver.get(url)\n",
    "    table = wait.until(EC.presence_of_element_located((By.CSS_SELECTOR, '.tbl_scroll')))\n",
    "\n",
    "    # 테이블에 데이터 크롤링\n",
    "    tbody = table.find_element(By.TAG_NAME, 'tbody') \n",
    "    rows = tbody.find_elements(By.TAG_NAME, 'tr') \n",
    "\n",
    "\n",
    "    table_xpath = \"//*[@id='printArea']/table[2]\"\n",
    "    table2 = driver.find_element(By.XPATH, table_xpath)\n",
    "    tbody2 = table2.find_element(By.TAG_NAME, 'tbody') \n",
    "    rows2 = tbody2.find_elements(By.TAG_NAME, 'tr') \n",
    "\n",
    "\n",
    "    li_xpath = \"//*[@id='printArea']/ul[3]/li[1]\"\n",
    "    li_element = driver.find_element(By.XPATH, li_xpath)\n",
    "    li_text = li_element.text[-7:]\n",
    "    li_text = f'{li_text[:4]}-{li_text[5:]}-01'\n",
    "\n",
    "    result_list = []\n",
    "    result_list2 = []\n",
    "    \n",
    "    # 테이블 데이터를 리스트로 저장\n",
    "    for row in rows[:-1]:\n",
    "        cells = row.find_elements(By.TAG_NAME, 'td')\n",
    "        result_list.append([cell.text for cell in cells])\n",
    "        \n",
    "    for row2 in rows2:\n",
    "        cells = row2.find_elements(By.TAG_NAME, 'td')\n",
    "        result_list2.append([cell.text for cell in cells])    \n",
    "        \n",
    "    # 기존 데이터와 리스트의 데이터 추가\n",
    "    for idx, val in enumerate(result_list):\n",
    "        if idx == 0:\n",
    "            val.pop(0)\n",
    "        data_dict2['타입'].append(df['타입'][num])\n",
    "        data_dict2['아파트명'].append(df['아파트명'][num])\n",
    "        data_dict2['지역'].append(df['지역'][num])\n",
    "        data_dict2['도로명주소'].append(df['도로명주소'][num])\n",
    "        data_dict2['세대수'].append(df['세대수'][num])\n",
    "        data_dict2['시행사'].append(df['시행사'][num])\n",
    "        data_dict2['시공사'].append(df['시공사'][num])\n",
    "        \n",
    "        # 데이터 추가\n",
    "        data_dict2['주택형'].append(val[0])\n",
    "        data_dict2['주택공급면적'].append(val[1])\n",
    "        data_dict2['공급세대수'].append(val[4])\n",
    "\n",
    "    for val in result_list2:\n",
    "        data_dict2['공급금액(최고가 기준)'].append(val[1])\n",
    "\n",
    "    for i in range(idx+1):\n",
    "        data_dict2['입주예정월'].append(li_text)\n",
    "        \n",
    "    \n",
    "    time.sleep(3)"
   ]
  },
  {
   "cell_type": "code",
   "execution_count": 63,
   "metadata": {},
   "outputs": [],
   "source": [
    "df2 = pd.DataFrame(data_dict2)"
   ]
  },
  {
   "cell_type": "code",
   "execution_count": 68,
   "metadata": {},
   "outputs": [],
   "source": [
    "df2.to_csv('2020년9월.csv', index=False, encoding='cp949')"
   ]
  },
  {
   "attachments": {},
   "cell_type": "markdown",
   "metadata": {},
   "source": [
    "이름이 달라(띄어쓰기, 완공후 아파트명 변경, 주소와 겹쳐있는 등) 건물 정보(건폐율, 전용율, 주차대수 등)는 네이버 부동산 크롤링 데이터 또는 호갱노노에서 검색을 통해 채워 넣음"
   ]
  }
 ],
 "metadata": {
  "kernelspec": {
   "display_name": "'Mashine_Learning'",
   "language": "python",
   "name": "machine_learning"
  },
  "language_info": {
   "codemirror_mode": {
    "name": "ipython",
    "version": 3
   },
   "file_extension": ".py",
   "mimetype": "text/x-python",
   "name": "python",
   "nbconvert_exporter": "python",
   "pygments_lexer": "ipython3",
   "version": "3.8.16"
  },
  "orig_nbformat": 4
 },
 "nbformat": 4,
 "nbformat_minor": 2
}
