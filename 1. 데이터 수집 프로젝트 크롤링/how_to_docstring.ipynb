{
 "cells": [
  {
   "attachments": {},
   "cell_type": "markdown",
   "metadata": {},
   "source": [
    "Python은 docstring을 사용하여 코드를 문서화합니다. \n",
    "\n",
    "docstring은 패키지, 모듈, 클래스 또는 함수의 첫 번째 문장인 문자열입니다. \n",
    "\n",
    "docstring은 개체의 __doc__ 멤버 필드를 통해 자동으로 추출될 수 있으며, pydoc에서 사용됩니다. \n",
    "\n",
    "docstring은 항상 세 개의 이중 따옴표 \"\"\" 형식을 사용합니다. \n",
    "\n",
    "docstring은 마침표, 물음표 또는 느낌표로 끝나는 80자를 초과하지 않는 한 줄로 구성되어야 합니다. 이 이상을 쓸 때는, 줄바꿈 후 첫 번째 줄의 첫 번째 따옴표와 같은 커서 위치에서 나머지 docstring을 기술해야 합니다."
   ]
  },
  {
   "attachments": {},
   "cell_type": "markdown",
   "metadata": {},
   "source": [
    "Python 파일은 모듈의 내용과 사용법을 설명하는 docstring으로 시작해야 합니다."
   ]
  },
  {
   "attachments": {},
   "cell_type": "markdown",
   "metadata": {},
   "source": [
    "```\n",
    "\"\"\"A one-line summary of the module or program, terminated by a period. 첫줄은 최대 80자 \n",
    "\n",
    "Leave one blank line.  The rest of this docstring should contain an\n",
    "overall description of the module or program.  Optionally, it may also\n",
    "contain a brief description of exported classes and functions and/or usage\n",
    "examples.\n",
    "\n",
    "Typical usage example:\n",
    "\n",
    "  foo = ClassFoo()\n",
    "  bar = foo.FunctionBar()\n",
    "\"\"\"\n",
    "```"
   ]
  },
  {
   "attachments": {},
   "cell_type": "markdown",
   "metadata": {},
   "source": [
    "docstring은 함수의 코드를 읽지 않고도 함수를 호출해 쓸 수 있는 충분한 정보를 제공해야 합니다. \n",
    "\n",
    "docstring은 함수의 호출과 그 의미를 설명해야 하는데, 함수를 사용하는 방법과 관련이 없는 한 구현에 대한 세부사항은 설명하지 않습니다. \n",
    "\n",
    "예를 들어, 인수를 변경하는 함수는 docstring에 이 내용을 기술해야 하고, 함수 구현의 중요한 세부 정보는 함수의 docstring보다 구현 코드 바로 위 혹은 바로 옆에 주석으로 표현하는 것이 좋습니다."
   ]
  },
  {
   "attachments": {},
   "cell_type": "markdown",
   "metadata": {},
   "source": [
    "```\n",
    "def fetch_smalltable_rows(\n",
    "    table_handle: smalltable.Table,\n",
    "    keys: Sequence[bytes | str],\n",
    "    require_all_keys: bool = False,\n",
    ") -> Mapping[bytes, tuple[str, ...]]:   리턴타입 설명 스킵해두 되고 간단히 표시해두됨\n",
    "    \"\"\"Fetches rows from a Smalltable.\n",
    "\n",
    "    Retrieves rows pertaining to the given keys from the Table instance\n",
    "    represented by table_handle.  String keys will be UTF-8 encoded.\n",
    "\n",
    "    Args:  아규먼트\n",
    "        table_handle: An open smalltable.Table instance.\n",
    "        keys: A sequence of strings representing the key of each table\n",
    "          row to fetch.  String keys will be UTF-8 encoded.\n",
    "        require_all_keys: If True only rows with values set for all keys will be\n",
    "          returned.\n",
    "\n",
    "    Returns:    리턴값에 대한 설명\n",
    "        A dict mapping keys to the corresponding table row data\n",
    "        fetched. Each row is represented as a tuple of strings. For\n",
    "        example:\n",
    "\n",
    "        {b'Serak': ('Rigel VII', 'Preparer'),\n",
    "         b'Zim': ('Irk', 'Invader'),\n",
    "         b'Lrrr': ('Omicron Persei 8', 'Emperor')}\n",
    "\n",
    "        Returned keys are always bytes.  If a key from the keys argument is\n",
    "        missing from the dictionary, then that row was not found in the\n",
    "        table (and require_all_keys must have been False).\n",
    "\n",
    "    Raises:    예외가 있는지\n",
    "        IOError: An error occurred accessing the smalltable.\n",
    "    \"\"\"\n",
    "```"
   ]
  },
  {
   "attachments": {},
   "cell_type": "markdown",
   "metadata": {},
   "source": [
    "클래스를 설명하는 docstring은 클래스 정의 바로 밑에 있어야 합니다. \n",
    "\n",
    "클래스에 공용 속성이 있는 경우 Attributes 섹션에 해당 속성을 문서화하고 함수의 Args 섹션과 동일한 형식을 따라야 합니다."
   ]
  },
  {
   "attachments": {},
   "cell_type": "markdown",
   "metadata": {},
   "source": [
    "```\n",
    "class SampleClass:\n",
    "    \"\"\"Summary of class here.\n",
    "\n",
    "    Longer class information...\n",
    "    Longer class information...\n",
    "\n",
    "    Attributes:    속성설명\n",
    "        likes_spam: A boolean indicating if we like SPAM or not.\n",
    "        eggs: An integer count of the eggs we have laid.\n",
    "    \"\"\"\n",
    "\n",
    "    def __init__(self, likes_spam: bool = False):\n",
    "        \"\"\"Initializes the instance based on spam preference.\n",
    "\n",
    "        Args:\n",
    "          likes_spam: Defines if instance exhibits this preference.\n",
    "        \"\"\"\n",
    "        self.likes_spam = likes_spam\n",
    "        self.eggs = 0\n",
    "\n",
    "    def public_method(self):\n",
    "        \"\"\"Performs operation blah.\"\"\"\n",
    "```"
   ]
  },
  {
   "cell_type": "markdown",
   "metadata": {},
   "source": []
  }
 ],
 "metadata": {
  "language_info": {
   "name": "python"
  },
  "orig_nbformat": 4
 },
 "nbformat": 4,
 "nbformat_minor": 2
}
