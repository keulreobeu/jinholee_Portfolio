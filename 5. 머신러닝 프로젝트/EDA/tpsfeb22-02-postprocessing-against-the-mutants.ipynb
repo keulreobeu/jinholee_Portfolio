{
 "cells": [
  {
   "cell_type": "markdown",
   "id": "97f79454",
   "metadata": {
    "papermill": {
     "duration": 0.012137,
     "end_time": "2022-02-06T19:42:28.838249",
     "exception": false,
     "start_time": "2022-02-06T19:42:28.826112",
     "status": "completed"
    },
    "tags": []
   },
   "source": [
    "# Postprocessing for the February TPS\n",
    "\n",
    "Most of this code has been copied from @[maxencefzr](https://www.kaggle.com/maxencefzr)'s [notebook](https://www.kaggle.com/maxencefzr/tps-feb22-eda-extratrees). I've added the postprocessing and the code for dealing with duplicate training samples. \n",
    "\n",
    "Release notes:\n",
    "- V3: Using scipy.optimize to optimize the postprocessing (didn't improve the lb score)\n",
    "- V4: Dealing with duplicate training data and sample weights"
   ]
  },
  {
   "cell_type": "code",
   "execution_count": 1,
   "id": "b7c796cd",
   "metadata": {
    "_cell_guid": "b1076dfc-b9ad-4769-8c92-a6c4dae69d19",
    "_kg_hide-input": true,
    "_kg_hide-output": true,
    "_uuid": "8f2839f25d086af736a60e9eeb907d3b93b6e0e5",
    "execution": {
     "iopub.execute_input": "2022-02-06T19:42:28.864098Z",
     "iopub.status.busy": "2022-02-06T19:42:28.863026Z",
     "iopub.status.idle": "2022-02-06T19:43:18.687203Z",
     "shell.execute_reply": "2022-02-06T19:43:18.687979Z",
     "shell.execute_reply.started": "2022-02-06T19:04:47.256371Z"
    },
    "papermill": {
     "duration": 49.839306,
     "end_time": "2022-02-06T19:43:18.688365",
     "exception": false,
     "start_time": "2022-02-06T19:42:28.849059",
     "status": "completed"
    },
    "tags": []
   },
   "outputs": [
    {
     "name": "stdout",
     "output_type": "stream",
     "text": [
      "Collecting scikit-learn-intelex\r\n",
      "  Downloading scikit_learn_intelex-2021.5.3-py37-none-manylinux1_x86_64.whl (69 kB)\r\n",
      "     |████████████████████████████████| 69 kB 260 kB/s            \r\n",
      "\u001b[?25hRequirement already satisfied: scikit-learn>=0.22 in /opt/conda/lib/python3.7/site-packages (from scikit-learn-intelex) (0.23.2)\r\n",
      "Collecting daal4py==2021.5.3\r\n",
      "  Downloading daal4py-2021.5.3-py37-none-manylinux1_x86_64.whl (22.5 MB)\r\n",
      "     |████████████████████████████████| 22.5 MB 1.5 MB/s            \r\n",
      "\u001b[?25hRequirement already satisfied: numpy>=1.15 in /opt/conda/lib/python3.7/site-packages (from daal4py==2021.5.3->scikit-learn-intelex) (1.20.3)\r\n",
      "Collecting daal==2021.5.3\r\n",
      "  Downloading daal-2021.5.3-py2.py3-none-manylinux1_x86_64.whl (284.3 MB)\r\n",
      "     |████████████████████████████████| 284.3 MB 1.8 kB/s            \r\n",
      "\u001b[?25hCollecting tbb==2021.*\r\n",
      "  Downloading tbb-2021.5.1-py2.py3-none-manylinux1_x86_64.whl (4.0 MB)\r\n",
      "     |████████████████████████████████| 4.0 MB 70.7 MB/s            \r\n",
      "\u001b[?25hRequirement already satisfied: scipy>=0.19.1 in /opt/conda/lib/python3.7/site-packages (from scikit-learn>=0.22->scikit-learn-intelex) (1.7.3)\r\n",
      "Requirement already satisfied: threadpoolctl>=2.0.0 in /opt/conda/lib/python3.7/site-packages (from scikit-learn>=0.22->scikit-learn-intelex) (3.0.0)\r\n",
      "Requirement already satisfied: joblib>=0.11 in /opt/conda/lib/python3.7/site-packages (from scikit-learn>=0.22->scikit-learn-intelex) (1.1.0)\r\n",
      "Installing collected packages: tbb, daal, daal4py, scikit-learn-intelex\r\n",
      "Successfully installed daal-2021.5.3 daal4py-2021.5.3 scikit-learn-intelex-2021.5.3 tbb-2021.5.1\r\n",
      "\u001b[33mWARNING: Running pip as the 'root' user can result in broken permissions and conflicting behaviour with the system package manager. It is recommended to use a virtual environment instead: https://pip.pypa.io/warnings/venv\u001b[0m\r\n"
     ]
    },
    {
     "name": "stderr",
     "output_type": "stream",
     "text": [
      "Intel(R) Extension for Scikit-learn* enabled (https://github.com/intel/scikit-learn-intelex)\n"
     ]
    }
   ],
   "source": [
    "#%%capture\n",
    "\n",
    "# Intel® Extension for Scikit-learn installation:\n",
    "!pip install scikit-learn-intelex\n",
    "\n",
    "import os\n",
    "import warnings\n",
    "\n",
    "import numpy as np  # linear algebra\n",
    "import pandas as pd # data processing, CSV file I/O (e.g. pd.read_csv)\n",
    "\n",
    "import matplotlib.pyplot as plt\n",
    "%matplotlib inline\n",
    "\n",
    "from scipy.stats import mode\n",
    "from tqdm import tqdm\n",
    "from pathlib import Path\n",
    "\n",
    "from sklearnex import patch_sklearn\n",
    "patch_sklearn()\n",
    "\n",
    "from sklearn.ensemble import ExtraTreesClassifier\n",
    "from sklearn.metrics import accuracy_score\n",
    "from sklearn.model_selection import StratifiedKFold\n",
    "\n",
    "# Mute warnings\n",
    "warnings.filterwarnings(\"ignore\")"
   ]
  },
  {
   "cell_type": "code",
   "execution_count": 2,
   "id": "84cb8460",
   "metadata": {
    "_kg_hide-input": true,
    "execution": {
     "iopub.execute_input": "2022-02-06T19:43:19.016137Z",
     "iopub.status.busy": "2022-02-06T19:43:19.015509Z",
     "iopub.status.idle": "2022-02-06T19:43:54.151173Z",
     "shell.execute_reply": "2022-02-06T19:43:54.150614Z",
     "shell.execute_reply.started": "2022-02-06T19:05:21.399502Z"
    },
    "papermill": {
     "duration": 35.300892,
     "end_time": "2022-02-06T19:43:54.151353",
     "exception": false,
     "start_time": "2022-02-06T19:43:18.850461",
     "status": "completed"
    },
    "tags": []
   },
   "outputs": [],
   "source": [
    "data_dir = Path('../input/tabular-playground-series-feb-2022')\n",
    "\n",
    "df_train = pd.read_csv(data_dir / 'train.csv', index_col='row_id')\n",
    "df_test  = pd.read_csv(data_dir / 'test.csv', index_col='row_id')\n",
    "\n",
    "TARGET = df_train.columns.difference(df_test.columns)[0]\n",
    "features = df_train.columns[df_train.columns != TARGET]"
   ]
  },
  {
   "cell_type": "markdown",
   "id": "f4df081d",
   "metadata": {
    "papermill": {
     "duration": 0.154841,
     "end_time": "2022-02-06T19:43:54.468664",
     "exception": false,
     "start_time": "2022-02-06T19:43:54.313823",
     "status": "completed"
    },
    "tags": []
   },
   "source": [
    "# Deduplicating the training data\n",
    "\n",
    "Among the 200000 training samples, there are 76007 duplicates. These duplicates are an issue for two reasons:\n",
    "1. They make training times unnecessarily long (ok, if you have enough patience, this could be a non-issue).\n",
    "2. They inflate the cv scores, if not handled correctly.\n",
    "\n",
    "We must not simply drop the duplicates because this would change the probability distribution. After all, if one particular measurement outcome has been measured 18 times, it should have higher weight than an outcome which has been measured only once. Fortunately, the `fit()` method of most scikit-learn estimators has an optional parameter `sample_weight` for this purpose.\n",
    "\n",
    "In the following, we convert the training dataframe to a new dataframe without the duplicated rows. To compensate for dropping the duplicates, we add a column `sample_weight` to the dataframe."
   ]
  },
  {
   "cell_type": "code",
   "execution_count": 3,
   "id": "4b655837",
   "metadata": {
    "execution": {
     "iopub.execute_input": "2022-02-06T19:43:54.815775Z",
     "iopub.status.busy": "2022-02-06T19:43:54.814857Z",
     "iopub.status.idle": "2022-02-06T19:43:56.476858Z",
     "shell.execute_reply": "2022-02-06T19:43:56.477321Z",
     "shell.execute_reply.started": "2022-02-06T19:06:02.934576Z"
    },
    "papermill": {
     "duration": 1.853191,
     "end_time": "2022-02-06T19:43:56.477480",
     "exception": false,
     "start_time": "2022-02-06T19:43:54.624289",
     "status": "completed"
    },
    "tags": []
   },
   "outputs": [
    {
     "data": {
      "text/plain": [
       "76007"
      ]
     },
     "execution_count": 3,
     "metadata": {},
     "output_type": "execute_result"
    }
   ],
   "source": [
    "# Count the duplicates in the training data\n",
    "df_train.duplicated().sum()"
   ]
  },
  {
   "cell_type": "code",
   "execution_count": 4,
   "id": "de89dccb",
   "metadata": {
    "execution": {
     "iopub.execute_input": "2022-02-06T19:43:56.804648Z",
     "iopub.status.busy": "2022-02-06T19:43:56.803656Z",
     "iopub.status.idle": "2022-02-06T19:44:19.721563Z",
     "shell.execute_reply": "2022-02-06T19:44:19.720944Z",
     "shell.execute_reply.started": "2022-02-06T19:06:05.017797Z"
    },
    "papermill": {
     "duration": 23.08713,
     "end_time": "2022-02-06T19:44:19.721706",
     "exception": false,
     "start_time": "2022-02-06T19:43:56.634576",
     "status": "completed"
    },
    "tags": []
   },
   "outputs": [
    {
     "data": {
      "text/html": [
       "<div>\n",
       "<style scoped>\n",
       "    .dataframe tbody tr th:only-of-type {\n",
       "        vertical-align: middle;\n",
       "    }\n",
       "\n",
       "    .dataframe tbody tr th {\n",
       "        vertical-align: top;\n",
       "    }\n",
       "\n",
       "    .dataframe thead th {\n",
       "        text-align: right;\n",
       "    }\n",
       "</style>\n",
       "<table border=\"1\" class=\"dataframe\">\n",
       "  <thead>\n",
       "    <tr style=\"text-align: right;\">\n",
       "      <th></th>\n",
       "      <th>A0T0G0C10</th>\n",
       "      <th>A0T0G1C9</th>\n",
       "      <th>A0T0G2C8</th>\n",
       "      <th>A0T0G3C7</th>\n",
       "      <th>A0T0G4C6</th>\n",
       "      <th>A0T0G5C5</th>\n",
       "      <th>A0T0G6C4</th>\n",
       "      <th>A0T0G7C3</th>\n",
       "      <th>A0T0G8C2</th>\n",
       "      <th>A0T0G9C1</th>\n",
       "      <th>...</th>\n",
       "      <th>A8T0G2C0</th>\n",
       "      <th>A8T1G0C1</th>\n",
       "      <th>A8T1G1C0</th>\n",
       "      <th>A8T2G0C0</th>\n",
       "      <th>A9T0G0C1</th>\n",
       "      <th>A9T0G1C0</th>\n",
       "      <th>A9T1G0C0</th>\n",
       "      <th>A10T0G0C0</th>\n",
       "      <th>target</th>\n",
       "      <th>sample_weight</th>\n",
       "    </tr>\n",
       "  </thead>\n",
       "  <tbody>\n",
       "    <tr>\n",
       "      <th>0</th>\n",
       "      <td>-9.536743e-07</td>\n",
       "      <td>-0.000010</td>\n",
       "      <td>-0.000043</td>\n",
       "      <td>-0.000114</td>\n",
       "      <td>-0.000200</td>\n",
       "      <td>-0.000240</td>\n",
       "      <td>-0.000200</td>\n",
       "      <td>-0.000114</td>\n",
       "      <td>-4.291534e-05</td>\n",
       "      <td>-0.000010</td>\n",
       "      <td>...</td>\n",
       "      <td>-0.000043</td>\n",
       "      <td>-0.000086</td>\n",
       "      <td>-0.000086</td>\n",
       "      <td>-0.000043</td>\n",
       "      <td>-0.000010</td>\n",
       "      <td>-0.000010</td>\n",
       "      <td>-0.000010</td>\n",
       "      <td>-9.536743e-07</td>\n",
       "      <td>Escherichia_coli</td>\n",
       "      <td>18</td>\n",
       "    </tr>\n",
       "    <tr>\n",
       "      <th>1</th>\n",
       "      <td>-9.536743e-07</td>\n",
       "      <td>-0.000010</td>\n",
       "      <td>-0.000043</td>\n",
       "      <td>0.000886</td>\n",
       "      <td>-0.000200</td>\n",
       "      <td>0.000760</td>\n",
       "      <td>-0.000200</td>\n",
       "      <td>0.000886</td>\n",
       "      <td>-4.291534e-05</td>\n",
       "      <td>-0.000010</td>\n",
       "      <td>...</td>\n",
       "      <td>-0.000043</td>\n",
       "      <td>-0.000086</td>\n",
       "      <td>-0.000086</td>\n",
       "      <td>-0.000043</td>\n",
       "      <td>-0.000010</td>\n",
       "      <td>-0.000010</td>\n",
       "      <td>0.000990</td>\n",
       "      <td>-9.536743e-07</td>\n",
       "      <td>Salmonella_enterica</td>\n",
       "      <td>17</td>\n",
       "    </tr>\n",
       "    <tr>\n",
       "      <th>2</th>\n",
       "      <td>-9.536743e-07</td>\n",
       "      <td>-0.000010</td>\n",
       "      <td>-0.000043</td>\n",
       "      <td>-0.000114</td>\n",
       "      <td>-0.000200</td>\n",
       "      <td>-0.000240</td>\n",
       "      <td>-0.000200</td>\n",
       "      <td>-0.000114</td>\n",
       "      <td>-4.291534e-05</td>\n",
       "      <td>-0.000010</td>\n",
       "      <td>...</td>\n",
       "      <td>-0.000043</td>\n",
       "      <td>-0.000086</td>\n",
       "      <td>0.000914</td>\n",
       "      <td>0.002957</td>\n",
       "      <td>-0.000010</td>\n",
       "      <td>-0.000010</td>\n",
       "      <td>-0.000010</td>\n",
       "      <td>-9.536743e-07</td>\n",
       "      <td>Staphylococcus_aureus</td>\n",
       "      <td>17</td>\n",
       "    </tr>\n",
       "    <tr>\n",
       "      <th>3</th>\n",
       "      <td>-9.536743e-07</td>\n",
       "      <td>-0.000010</td>\n",
       "      <td>-0.000043</td>\n",
       "      <td>-0.000114</td>\n",
       "      <td>-0.000200</td>\n",
       "      <td>-0.000240</td>\n",
       "      <td>-0.000200</td>\n",
       "      <td>-0.000114</td>\n",
       "      <td>-4.291534e-05</td>\n",
       "      <td>-0.000010</td>\n",
       "      <td>...</td>\n",
       "      <td>-0.000043</td>\n",
       "      <td>-0.000086</td>\n",
       "      <td>0.009914</td>\n",
       "      <td>-0.000043</td>\n",
       "      <td>-0.000010</td>\n",
       "      <td>-0.000010</td>\n",
       "      <td>-0.000010</td>\n",
       "      <td>-9.536743e-07</td>\n",
       "      <td>Bacteroides_fragilis</td>\n",
       "      <td>16</td>\n",
       "    </tr>\n",
       "    <tr>\n",
       "      <th>4</th>\n",
       "      <td>-9.536743e-07</td>\n",
       "      <td>-0.000010</td>\n",
       "      <td>-0.000043</td>\n",
       "      <td>-0.000114</td>\n",
       "      <td>-0.000200</td>\n",
       "      <td>-0.000240</td>\n",
       "      <td>-0.000200</td>\n",
       "      <td>-0.000114</td>\n",
       "      <td>-4.291534e-05</td>\n",
       "      <td>-0.000010</td>\n",
       "      <td>...</td>\n",
       "      <td>0.000957</td>\n",
       "      <td>0.001914</td>\n",
       "      <td>0.000914</td>\n",
       "      <td>-0.000043</td>\n",
       "      <td>-0.000010</td>\n",
       "      <td>-0.000010</td>\n",
       "      <td>-0.000010</td>\n",
       "      <td>-9.536743e-07</td>\n",
       "      <td>Campylobacter_jejuni</td>\n",
       "      <td>16</td>\n",
       "    </tr>\n",
       "    <tr>\n",
       "      <th>...</th>\n",
       "      <td>...</td>\n",
       "      <td>...</td>\n",
       "      <td>...</td>\n",
       "      <td>...</td>\n",
       "      <td>...</td>\n",
       "      <td>...</td>\n",
       "      <td>...</td>\n",
       "      <td>...</td>\n",
       "      <td>...</td>\n",
       "      <td>...</td>\n",
       "      <td>...</td>\n",
       "      <td>...</td>\n",
       "      <td>...</td>\n",
       "      <td>...</td>\n",
       "      <td>...</td>\n",
       "      <td>...</td>\n",
       "      <td>...</td>\n",
       "      <td>...</td>\n",
       "      <td>...</td>\n",
       "      <td>...</td>\n",
       "      <td>...</td>\n",
       "    </tr>\n",
       "    <tr>\n",
       "      <th>123988</th>\n",
       "      <td>-9.536743e-07</td>\n",
       "      <td>-0.000006</td>\n",
       "      <td>0.000003</td>\n",
       "      <td>0.000059</td>\n",
       "      <td>0.000078</td>\n",
       "      <td>0.000033</td>\n",
       "      <td>0.000051</td>\n",
       "      <td>0.000049</td>\n",
       "      <td>-4.915344e-06</td>\n",
       "      <td>-0.000007</td>\n",
       "      <td>...</td>\n",
       "      <td>0.000051</td>\n",
       "      <td>0.000117</td>\n",
       "      <td>0.000135</td>\n",
       "      <td>0.000102</td>\n",
       "      <td>0.000012</td>\n",
       "      <td>0.000012</td>\n",
       "      <td>0.000032</td>\n",
       "      <td>4.632568e-08</td>\n",
       "      <td>Escherichia_coli</td>\n",
       "      <td>1</td>\n",
       "    </tr>\n",
       "    <tr>\n",
       "      <th>123989</th>\n",
       "      <td>-9.536743e-07</td>\n",
       "      <td>-0.000006</td>\n",
       "      <td>0.000003</td>\n",
       "      <td>0.000059</td>\n",
       "      <td>0.000072</td>\n",
       "      <td>0.000033</td>\n",
       "      <td>0.000034</td>\n",
       "      <td>0.000050</td>\n",
       "      <td>-5.915344e-06</td>\n",
       "      <td>-0.000008</td>\n",
       "      <td>...</td>\n",
       "      <td>0.000067</td>\n",
       "      <td>0.000140</td>\n",
       "      <td>0.000123</td>\n",
       "      <td>0.000097</td>\n",
       "      <td>0.000013</td>\n",
       "      <td>0.000011</td>\n",
       "      <td>0.000030</td>\n",
       "      <td>4.632568e-08</td>\n",
       "      <td>Escherichia_coli</td>\n",
       "      <td>1</td>\n",
       "    </tr>\n",
       "    <tr>\n",
       "      <th>123990</th>\n",
       "      <td>-9.536743e-07</td>\n",
       "      <td>-0.000006</td>\n",
       "      <td>0.000003</td>\n",
       "      <td>0.000059</td>\n",
       "      <td>0.000063</td>\n",
       "      <td>0.000023</td>\n",
       "      <td>0.000036</td>\n",
       "      <td>0.000041</td>\n",
       "      <td>8.465576e-08</td>\n",
       "      <td>-0.000008</td>\n",
       "      <td>...</td>\n",
       "      <td>0.000042</td>\n",
       "      <td>0.000124</td>\n",
       "      <td>0.000130</td>\n",
       "      <td>0.000088</td>\n",
       "      <td>0.000008</td>\n",
       "      <td>0.000015</td>\n",
       "      <td>0.000026</td>\n",
       "      <td>4.632568e-08</td>\n",
       "      <td>Escherichia_coli</td>\n",
       "      <td>1</td>\n",
       "    </tr>\n",
       "    <tr>\n",
       "      <th>123991</th>\n",
       "      <td>-9.536743e-07</td>\n",
       "      <td>-0.000006</td>\n",
       "      <td>0.000003</td>\n",
       "      <td>0.000058</td>\n",
       "      <td>0.000074</td>\n",
       "      <td>0.000041</td>\n",
       "      <td>0.000070</td>\n",
       "      <td>0.000051</td>\n",
       "      <td>-5.915344e-06</td>\n",
       "      <td>-0.000008</td>\n",
       "      <td>...</td>\n",
       "      <td>0.000054</td>\n",
       "      <td>0.000141</td>\n",
       "      <td>0.000130</td>\n",
       "      <td>0.000103</td>\n",
       "      <td>0.000011</td>\n",
       "      <td>0.000012</td>\n",
       "      <td>0.000024</td>\n",
       "      <td>4.632568e-08</td>\n",
       "      <td>Escherichia_coli</td>\n",
       "      <td>1</td>\n",
       "    </tr>\n",
       "    <tr>\n",
       "      <th>123992</th>\n",
       "      <td>-9.536743e-07</td>\n",
       "      <td>-0.000005</td>\n",
       "      <td>0.000014</td>\n",
       "      <td>0.000241</td>\n",
       "      <td>0.000480</td>\n",
       "      <td>0.000544</td>\n",
       "      <td>0.000434</td>\n",
       "      <td>0.000213</td>\n",
       "      <td>-9.153442e-07</td>\n",
       "      <td>-0.000007</td>\n",
       "      <td>...</td>\n",
       "      <td>0.000094</td>\n",
       "      <td>0.000197</td>\n",
       "      <td>0.000233</td>\n",
       "      <td>0.000151</td>\n",
       "      <td>0.000023</td>\n",
       "      <td>0.000015</td>\n",
       "      <td>0.000046</td>\n",
       "      <td>-9.536743e-07</td>\n",
       "      <td>Salmonella_enterica</td>\n",
       "      <td>1</td>\n",
       "    </tr>\n",
       "  </tbody>\n",
       "</table>\n",
       "<p>123993 rows × 288 columns</p>\n",
       "</div>"
      ],
      "text/plain": [
       "           A0T0G0C10  A0T0G1C9  A0T0G2C8  A0T0G3C7  A0T0G4C6  A0T0G5C5  \\\n",
       "0      -9.536743e-07 -0.000010 -0.000043 -0.000114 -0.000200 -0.000240   \n",
       "1      -9.536743e-07 -0.000010 -0.000043  0.000886 -0.000200  0.000760   \n",
       "2      -9.536743e-07 -0.000010 -0.000043 -0.000114 -0.000200 -0.000240   \n",
       "3      -9.536743e-07 -0.000010 -0.000043 -0.000114 -0.000200 -0.000240   \n",
       "4      -9.536743e-07 -0.000010 -0.000043 -0.000114 -0.000200 -0.000240   \n",
       "...              ...       ...       ...       ...       ...       ...   \n",
       "123988 -9.536743e-07 -0.000006  0.000003  0.000059  0.000078  0.000033   \n",
       "123989 -9.536743e-07 -0.000006  0.000003  0.000059  0.000072  0.000033   \n",
       "123990 -9.536743e-07 -0.000006  0.000003  0.000059  0.000063  0.000023   \n",
       "123991 -9.536743e-07 -0.000006  0.000003  0.000058  0.000074  0.000041   \n",
       "123992 -9.536743e-07 -0.000005  0.000014  0.000241  0.000480  0.000544   \n",
       "\n",
       "        A0T0G6C4  A0T0G7C3      A0T0G8C2  A0T0G9C1  ...  A8T0G2C0  A8T1G0C1  \\\n",
       "0      -0.000200 -0.000114 -4.291534e-05 -0.000010  ... -0.000043 -0.000086   \n",
       "1      -0.000200  0.000886 -4.291534e-05 -0.000010  ... -0.000043 -0.000086   \n",
       "2      -0.000200 -0.000114 -4.291534e-05 -0.000010  ... -0.000043 -0.000086   \n",
       "3      -0.000200 -0.000114 -4.291534e-05 -0.000010  ... -0.000043 -0.000086   \n",
       "4      -0.000200 -0.000114 -4.291534e-05 -0.000010  ...  0.000957  0.001914   \n",
       "...          ...       ...           ...       ...  ...       ...       ...   \n",
       "123988  0.000051  0.000049 -4.915344e-06 -0.000007  ...  0.000051  0.000117   \n",
       "123989  0.000034  0.000050 -5.915344e-06 -0.000008  ...  0.000067  0.000140   \n",
       "123990  0.000036  0.000041  8.465576e-08 -0.000008  ...  0.000042  0.000124   \n",
       "123991  0.000070  0.000051 -5.915344e-06 -0.000008  ...  0.000054  0.000141   \n",
       "123992  0.000434  0.000213 -9.153442e-07 -0.000007  ...  0.000094  0.000197   \n",
       "\n",
       "        A8T1G1C0  A8T2G0C0  A9T0G0C1  A9T0G1C0  A9T1G0C0     A10T0G0C0  \\\n",
       "0      -0.000086 -0.000043 -0.000010 -0.000010 -0.000010 -9.536743e-07   \n",
       "1      -0.000086 -0.000043 -0.000010 -0.000010  0.000990 -9.536743e-07   \n",
       "2       0.000914  0.002957 -0.000010 -0.000010 -0.000010 -9.536743e-07   \n",
       "3       0.009914 -0.000043 -0.000010 -0.000010 -0.000010 -9.536743e-07   \n",
       "4       0.000914 -0.000043 -0.000010 -0.000010 -0.000010 -9.536743e-07   \n",
       "...          ...       ...       ...       ...       ...           ...   \n",
       "123988  0.000135  0.000102  0.000012  0.000012  0.000032  4.632568e-08   \n",
       "123989  0.000123  0.000097  0.000013  0.000011  0.000030  4.632568e-08   \n",
       "123990  0.000130  0.000088  0.000008  0.000015  0.000026  4.632568e-08   \n",
       "123991  0.000130  0.000103  0.000011  0.000012  0.000024  4.632568e-08   \n",
       "123992  0.000233  0.000151  0.000023  0.000015  0.000046 -9.536743e-07   \n",
       "\n",
       "                       target  sample_weight  \n",
       "0            Escherichia_coli             18  \n",
       "1         Salmonella_enterica             17  \n",
       "2       Staphylococcus_aureus             17  \n",
       "3        Bacteroides_fragilis             16  \n",
       "4        Campylobacter_jejuni             16  \n",
       "...                       ...            ...  \n",
       "123988       Escherichia_coli              1  \n",
       "123989       Escherichia_coli              1  \n",
       "123990       Escherichia_coli              1  \n",
       "123991       Escherichia_coli              1  \n",
       "123992    Salmonella_enterica              1  \n",
       "\n",
       "[123993 rows x 288 columns]"
      ]
     },
     "execution_count": 4,
     "metadata": {},
     "output_type": "execute_result"
    }
   ],
   "source": [
    "# Create a new dataframe without duplicates, but with an additional sample_weight column\n",
    "vc = df_train.value_counts()\n",
    "dedup_train = pd.DataFrame([list(tup) for tup in vc.index.values], columns=df_train.columns)\n",
    "dedup_train['sample_weight'] = vc.values\n",
    "dedup_train"
   ]
  },
  {
   "cell_type": "markdown",
   "id": "7f6fb8d3",
   "metadata": {
    "papermill": {
     "duration": 0.163246,
     "end_time": "2022-02-06T19:44:20.046756",
     "exception": false,
     "start_time": "2022-02-06T19:44:19.883510",
     "status": "completed"
    },
    "tags": []
   },
   "source": [
    "Let's do a quick check for correctness. The first row of `dedup_train` has a sample_weight of 18. If everything is correct, the original dataframe should have 18 rows with the same data:"
   ]
  },
  {
   "cell_type": "code",
   "execution_count": 5,
   "id": "6edbfc0f",
   "metadata": {
    "execution": {
     "iopub.execute_input": "2022-02-06T19:44:20.694949Z",
     "iopub.status.busy": "2022-02-06T19:44:20.609712Z",
     "iopub.status.idle": "2022-02-06T19:44:20.801364Z",
     "shell.execute_reply": "2022-02-06T19:44:20.800852Z",
     "shell.execute_reply.started": "2022-02-06T19:06:28.024886Z"
    },
    "papermill": {
     "duration": 0.594832,
     "end_time": "2022-02-06T19:44:20.801496",
     "exception": false,
     "start_time": "2022-02-06T19:44:20.206664",
     "status": "completed"
    },
    "tags": []
   },
   "outputs": [
    {
     "data": {
      "text/plain": [
       "18"
      ]
     },
     "execution_count": 5,
     "metadata": {},
     "output_type": "execute_result"
    }
   ],
   "source": [
    "(df_train[features].values == dedup_train[features].iloc[0].values.reshape(1, -1)).all(axis=1).sum()"
   ]
  },
  {
   "cell_type": "markdown",
   "id": "bc7062d2",
   "metadata": {
    "papermill": {
     "duration": 0.162239,
     "end_time": "2022-02-06T19:44:21.124976",
     "exception": false,
     "start_time": "2022-02-06T19:44:20.962737",
     "status": "completed"
    },
    "tags": []
   },
   "source": [
    "# Training, cross-validation & inference\n",
    "\n",
    "After deduplicating the training data, we apply two small changes to the training loop:\n",
    "1. When calling `fit()`, we add the sample weights of the training data.\n",
    "2. When calling `accuracy_score()`, we add the sample weights of the validation data."
   ]
  },
  {
   "cell_type": "code",
   "execution_count": 6,
   "id": "a51707e6",
   "metadata": {
    "_kg_hide-input": true,
    "execution": {
     "iopub.execute_input": "2022-02-06T19:44:21.482307Z",
     "iopub.status.busy": "2022-02-06T19:44:21.481697Z",
     "iopub.status.idle": "2022-02-06T19:44:21.607002Z",
     "shell.execute_reply": "2022-02-06T19:44:21.606484Z",
     "shell.execute_reply.started": "2022-02-06T19:06:28.372298Z"
    },
    "papermill": {
     "duration": 0.318706,
     "end_time": "2022-02-06T19:44:21.607151",
     "exception": false,
     "start_time": "2022-02-06T19:44:21.288445",
     "status": "completed"
    },
    "tags": []
   },
   "outputs": [],
   "source": [
    "from sklearn.preprocessing import LabelEncoder\n",
    "\n",
    "# Encoding categorical features\n",
    "le = LabelEncoder()\n",
    "\n",
    "X = dedup_train[features]\n",
    "y = pd.DataFrame(le.fit_transform(dedup_train[TARGET]), columns=[TARGET])\n",
    "sample_weight = dedup_train['sample_weight']"
   ]
  },
  {
   "cell_type": "code",
   "execution_count": 7,
   "id": "629ad4d5",
   "metadata": {
    "execution": {
     "iopub.execute_input": "2022-02-06T19:44:21.936711Z",
     "iopub.status.busy": "2022-02-06T19:44:21.936114Z",
     "iopub.status.idle": "2022-02-06T19:53:12.249995Z",
     "shell.execute_reply": "2022-02-06T19:53:12.249427Z",
     "shell.execute_reply.started": "2022-02-06T19:12:33.248608Z"
    },
    "papermill": {
     "duration": 530.479952,
     "end_time": "2022-02-06T19:53:12.250343",
     "exception": false,
     "start_time": "2022-02-06T19:44:21.770391",
     "status": "completed"
    },
    "tags": []
   },
   "outputs": [
    {
     "name": "stderr",
     "output_type": "stream",
     "text": [
      "  0%|          | 0/10 [00:00<?, ?it/s]"
     ]
    },
    {
     "name": "stdout",
     "output_type": "stream",
     "text": [
      "####### Fold:  0\n",
      "Accuracy score: 0.957644\n",
      "\n"
     ]
    },
    {
     "name": "stderr",
     "output_type": "stream",
     "text": [
      " 10%|█         | 1/10 [00:57<08:36, 57.35s/it]"
     ]
    },
    {
     "name": "stdout",
     "output_type": "stream",
     "text": [
      "####### Fold:  1\n",
      "Accuracy score: 0.959443\n",
      "\n"
     ]
    },
    {
     "name": "stderr",
     "output_type": "stream",
     "text": [
      " 20%|██        | 2/10 [01:54<07:37, 57.13s/it]"
     ]
    },
    {
     "name": "stdout",
     "output_type": "stream",
     "text": [
      "####### Fold:  2\n",
      "Accuracy score: 0.954496\n",
      "\n"
     ]
    },
    {
     "name": "stderr",
     "output_type": "stream",
     "text": [
      " 30%|███       | 3/10 [02:52<06:42, 57.47s/it]"
     ]
    },
    {
     "name": "stdout",
     "output_type": "stream",
     "text": [
      "####### Fold:  3\n",
      "Accuracy score: 0.956148\n",
      "\n"
     ]
    },
    {
     "name": "stderr",
     "output_type": "stream",
     "text": [
      " 40%|████      | 4/10 [03:41<05:24, 54.05s/it]"
     ]
    },
    {
     "name": "stdout",
     "output_type": "stream",
     "text": [
      "####### Fold:  4\n",
      "Accuracy score: 0.957416\n",
      "\n"
     ]
    },
    {
     "name": "stderr",
     "output_type": "stream",
     "text": [
      " 50%|█████     | 5/10 [04:32<04:24, 52.96s/it]"
     ]
    },
    {
     "name": "stdout",
     "output_type": "stream",
     "text": [
      "####### Fold:  5\n",
      "Accuracy score: 0.956583\n",
      "\n"
     ]
    },
    {
     "name": "stderr",
     "output_type": "stream",
     "text": [
      " 60%|██████    | 6/10 [05:23<03:29, 52.40s/it]"
     ]
    },
    {
     "name": "stdout",
     "output_type": "stream",
     "text": [
      "####### Fold:  6\n",
      "Accuracy score: 0.958146\n",
      "\n"
     ]
    },
    {
     "name": "stderr",
     "output_type": "stream",
     "text": [
      " 70%|███████   | 7/10 [06:16<02:37, 52.59s/it]"
     ]
    },
    {
     "name": "stdout",
     "output_type": "stream",
     "text": [
      "####### Fold:  7\n",
      "Accuracy score: 0.953858\n",
      "\n"
     ]
    },
    {
     "name": "stderr",
     "output_type": "stream",
     "text": [
      " 80%|████████  | 8/10 [07:07<01:44, 52.17s/it]"
     ]
    },
    {
     "name": "stdout",
     "output_type": "stream",
     "text": [
      "####### Fold:  8\n",
      "Accuracy score: 0.954004\n",
      "\n"
     ]
    },
    {
     "name": "stderr",
     "output_type": "stream",
     "text": [
      " 90%|█████████ | 9/10 [07:58<00:51, 51.74s/it]"
     ]
    },
    {
     "name": "stdout",
     "output_type": "stream",
     "text": [
      "####### Fold:  9\n",
      "Accuracy score: 0.955283\n",
      "\n"
     ]
    },
    {
     "name": "stderr",
     "output_type": "stream",
     "text": [
      "100%|██████████| 10/10 [08:50<00:00, 53.03s/it]"
     ]
    },
    {
     "name": "stdout",
     "output_type": "stream",
     "text": [
      "Mean accuracy score: 0.956302\n"
     ]
    },
    {
     "name": "stderr",
     "output_type": "stream",
     "text": [
      "\n"
     ]
    }
   ],
   "source": [
    "#%%time\n",
    "\n",
    "N_SPLITS = 10\n",
    "folds = StratifiedKFold(n_splits=N_SPLITS, shuffle=True)\n",
    "y_pred_list, y_proba_list, scores = [], [], []\n",
    "\n",
    "for fold, (train_id, valid_id) in enumerate(tqdm(folds.split(X, y), total=N_SPLITS)):\n",
    "    print('####### Fold: ', fold)\n",
    "    \n",
    "    # Splitting\n",
    "    X_train, y_train, sample_weight_train = X.iloc[train_id], y.iloc[train_id], sample_weight.iloc[train_id]\n",
    "    X_valid, y_valid, sample_weight_valid = X.iloc[valid_id], y.iloc[valid_id], sample_weight.iloc[valid_id]\n",
    "    \n",
    "    # Model\n",
    "    model = ExtraTreesClassifier(\n",
    "        n_estimators=300,\n",
    "        n_jobs=-1,\n",
    "        verbose=0,\n",
    "        random_state=1\n",
    "    )\n",
    "\n",
    "    # Training\n",
    "    model.fit(X_train, y_train, sample_weight_train)\n",
    "        \n",
    "    # Validation\n",
    "    valid_pred = model.predict(X_valid)\n",
    "    valid_score = accuracy_score(y_valid, valid_pred, sample_weight=sample_weight_valid)\n",
    "    print(f'Accuracy score: {valid_score:5f}\\n')\n",
    "    scores.append(valid_score)\n",
    "    \n",
    "    # Prediction for submission\n",
    "    y_pred_list.append(model.predict(df_test))\n",
    "    y_proba_list.append(model.predict_proba(df_test))\n",
    "    \n",
    "score = np.array(scores).mean()\n",
    "print(f'Mean accuracy score: {score:6f}')"
   ]
  },
  {
   "cell_type": "markdown",
   "id": "94a46efe",
   "metadata": {
    "papermill": {
     "duration": 0.164562,
     "end_time": "2022-02-06T19:53:12.582053",
     "exception": false,
     "start_time": "2022-02-06T19:53:12.417491",
     "status": "completed"
    },
    "tags": []
   },
   "source": [
    "# Ensembling\n",
    "\n",
    "We are happy about the high cv score and ensemble the ten predictions by majority vote:"
   ]
  },
  {
   "cell_type": "code",
   "execution_count": 8,
   "id": "115b34d9",
   "metadata": {
    "execution": {
     "iopub.execute_input": "2022-02-06T19:53:12.915578Z",
     "iopub.status.busy": "2022-02-06T19:53:12.914947Z",
     "iopub.status.idle": "2022-02-06T19:53:15.342351Z",
     "shell.execute_reply": "2022-02-06T19:53:15.341846Z",
     "shell.execute_reply.started": "2022-02-06T19:26:01.890069Z"
    },
    "papermill": {
     "duration": 2.596254,
     "end_time": "2022-02-06T19:53:15.342498",
     "exception": false,
     "start_time": "2022-02-06T19:53:12.746244",
     "status": "completed"
    },
    "tags": []
   },
   "outputs": [],
   "source": [
    "# Majority vote\n",
    "y_pred = mode(y_pred_list).mode[0]\n",
    "y_pred = le.inverse_transform(y_pred)"
   ]
  },
  {
   "cell_type": "markdown",
   "id": "14bee22c",
   "metadata": {
    "papermill": {
     "duration": 0.161802,
     "end_time": "2022-02-06T19:53:15.669325",
     "exception": false,
     "start_time": "2022-02-06T19:53:15.507523",
     "status": "completed"
    },
    "tags": []
   },
   "source": [
    "# The surprise\n",
    "\n",
    "Let's compare the distribution of classes in training and in our predictions. Something went wrong:"
   ]
  },
  {
   "cell_type": "code",
   "execution_count": 9,
   "id": "00321c85",
   "metadata": {
    "execution": {
     "iopub.execute_input": "2022-02-06T19:53:16.048795Z",
     "iopub.status.busy": "2022-02-06T19:53:15.996731Z",
     "iopub.status.idle": "2022-02-06T19:53:16.051561Z",
     "shell.execute_reply": "2022-02-06T19:53:16.051996Z",
     "shell.execute_reply.started": "2022-02-06T19:26:05.363313Z"
    },
    "papermill": {
     "duration": 0.22068,
     "end_time": "2022-02-06T19:53:16.052161",
     "exception": false,
     "start_time": "2022-02-06T19:53:15.831481",
     "status": "completed"
    },
    "tags": []
   },
   "outputs": [
    {
     "data": {
      "text/html": [
       "<div>\n",
       "<style scoped>\n",
       "    .dataframe tbody tr th:only-of-type {\n",
       "        vertical-align: middle;\n",
       "    }\n",
       "\n",
       "    .dataframe tbody tr th {\n",
       "        vertical-align: top;\n",
       "    }\n",
       "\n",
       "    .dataframe thead th {\n",
       "        text-align: right;\n",
       "    }\n",
       "</style>\n",
       "<table border=\"1\" class=\"dataframe\">\n",
       "  <thead>\n",
       "    <tr style=\"text-align: right;\">\n",
       "      <th></th>\n",
       "      <th>count</th>\n",
       "      <th>share</th>\n",
       "      <th>pred_count</th>\n",
       "      <th>pred_share</th>\n",
       "    </tr>\n",
       "  </thead>\n",
       "  <tbody>\n",
       "    <tr>\n",
       "      <th>Bacteroides_fragilis</th>\n",
       "      <td>20139</td>\n",
       "      <td>10.0695</td>\n",
       "      <td>10047</td>\n",
       "      <td>10.047</td>\n",
       "    </tr>\n",
       "    <tr>\n",
       "      <th>Campylobacter_jejuni</th>\n",
       "      <td>20063</td>\n",
       "      <td>10.0315</td>\n",
       "      <td>10233</td>\n",
       "      <td>10.233</td>\n",
       "    </tr>\n",
       "    <tr>\n",
       "      <th>Enterococcus_hirae</th>\n",
       "      <td>19947</td>\n",
       "      <td>9.9735</td>\n",
       "      <td>9715</td>\n",
       "      <td>9.715</td>\n",
       "    </tr>\n",
       "    <tr>\n",
       "      <th>Escherichia_coli</th>\n",
       "      <td>19958</td>\n",
       "      <td>9.9790</td>\n",
       "      <td>8654</td>\n",
       "      <td>8.654</td>\n",
       "    </tr>\n",
       "    <tr>\n",
       "      <th>Escherichia_fergusonii</th>\n",
       "      <td>19937</td>\n",
       "      <td>9.9685</td>\n",
       "      <td>10862</td>\n",
       "      <td>10.862</td>\n",
       "    </tr>\n",
       "    <tr>\n",
       "      <th>Klebsiella_pneumoniae</th>\n",
       "      <td>19847</td>\n",
       "      <td>9.9235</td>\n",
       "      <td>10171</td>\n",
       "      <td>10.171</td>\n",
       "    </tr>\n",
       "    <tr>\n",
       "      <th>Salmonella_enterica</th>\n",
       "      <td>20030</td>\n",
       "      <td>10.0150</td>\n",
       "      <td>10225</td>\n",
       "      <td>10.225</td>\n",
       "    </tr>\n",
       "    <tr>\n",
       "      <th>Staphylococcus_aureus</th>\n",
       "      <td>19929</td>\n",
       "      <td>9.9645</td>\n",
       "      <td>9927</td>\n",
       "      <td>9.927</td>\n",
       "    </tr>\n",
       "    <tr>\n",
       "      <th>Streptococcus_pneumoniae</th>\n",
       "      <td>20074</td>\n",
       "      <td>10.0370</td>\n",
       "      <td>10098</td>\n",
       "      <td>10.098</td>\n",
       "    </tr>\n",
       "    <tr>\n",
       "      <th>Streptococcus_pyogenes</th>\n",
       "      <td>20076</td>\n",
       "      <td>10.0380</td>\n",
       "      <td>10068</td>\n",
       "      <td>10.068</td>\n",
       "    </tr>\n",
       "  </tbody>\n",
       "</table>\n",
       "</div>"
      ],
      "text/plain": [
       "                          count    share  pred_count  pred_share\n",
       "Bacteroides_fragilis      20139  10.0695       10047      10.047\n",
       "Campylobacter_jejuni      20063  10.0315       10233      10.233\n",
       "Enterococcus_hirae        19947   9.9735        9715       9.715\n",
       "Escherichia_coli          19958   9.9790        8654       8.654\n",
       "Escherichia_fergusonii    19937   9.9685       10862      10.862\n",
       "Klebsiella_pneumoniae     19847   9.9235       10171      10.171\n",
       "Salmonella_enterica       20030  10.0150       10225      10.225\n",
       "Staphylococcus_aureus     19929   9.9645        9927       9.927\n",
       "Streptococcus_pneumoniae  20074  10.0370       10098      10.098\n",
       "Streptococcus_pyogenes    20076  10.0380       10068      10.068"
      ]
     },
     "execution_count": 9,
     "metadata": {},
     "output_type": "execute_result"
    }
   ],
   "source": [
    "target_distrib = pd.DataFrame({\n",
    "    'count': df_train.target.value_counts(),\n",
    "    'share': df_train[TARGET].value_counts() / df_train.shape[0] * 100\n",
    "})\n",
    "\n",
    "target_distrib['pred_count'] = pd.Series(y_pred, index=df_test.index).value_counts()\n",
    "target_distrib['pred_share'] = target_distrib['pred_count'] / len(df_test) * 100\n",
    "target_distrib.sort_index()"
   ]
  },
  {
   "cell_type": "markdown",
   "id": "e1d1edd2",
   "metadata": {
    "papermill": {
     "duration": 0.163525,
     "end_time": "2022-02-06T19:53:16.386616",
     "exception": false,
     "start_time": "2022-02-06T19:53:16.223091",
     "status": "completed"
    },
    "tags": []
   },
   "source": [
    "What went wrong? In the training data, all classes have equal frequencies of 10 %. In our predictions, *E. coli* is underpredicted with a frequency of only 8.7 %. Two explanations are possible:\n",
    "1. In the test data, *E. coli* really has a frequency of only 8.7 %. And *E. fergusonii* really has a frequency of 10.8 %.\n",
    "2. Because the bacteria have mutated and changed their DNA, our classifier no longer classifies them correctly.\n",
    "\n",
    "I think the correct explanation is 2, because the [EDA has already shown that the bacteria mutate between training and test](https://www.kaggle.com/ambrosm/tpsfeb22-01-eda-which-makes-sense).\n",
    "\n",
    "Fortunately, we can account for the mutations with a little postprocessing."
   ]
  },
  {
   "cell_type": "markdown",
   "id": "f5b49cfe",
   "metadata": {
    "papermill": {
     "duration": 0.161589,
     "end_time": "2022-02-06T19:53:16.709886",
     "exception": false,
     "start_time": "2022-02-06T19:53:16.548297",
     "status": "completed"
    },
    "tags": []
   },
   "source": [
    "# Postprocessing\n",
    "\n",
    "Our classifier predicts not only classes, but also probabilities. These probabilities have already been collected in `y_proba_list`. We now tune these probabilities by manually adding a small bias to the probabilities of `Enterococcus hirae` and `E. coli`.\n",
    "\n",
    "From these tuned probabilities, we can determine new predictions by applying `np.argmax(axis=1)`, and we see that the class frequencies now are much better."
   ]
  },
  {
   "cell_type": "code",
   "execution_count": 10,
   "id": "e173d9de",
   "metadata": {
    "execution": {
     "iopub.execute_input": "2022-02-06T19:53:17.046860Z",
     "iopub.status.busy": "2022-02-06T19:53:17.045932Z",
     "iopub.status.idle": "2022-02-06T19:53:17.087756Z",
     "shell.execute_reply": "2022-02-06T19:53:17.087061Z",
     "shell.execute_reply.started": "2022-02-06T19:26:35.066677Z"
    },
    "papermill": {
     "duration": 0.21283,
     "end_time": "2022-02-06T19:53:17.087922",
     "exception": false,
     "start_time": "2022-02-06T19:53:16.875092",
     "status": "completed"
    },
    "tags": []
   },
   "outputs": [
    {
     "data": {
      "text/plain": [
       "Bacteroides_fragilis        10.015\n",
       "Campylobacter_jejuni        10.208\n",
       "Enterococcus_hirae           9.803\n",
       "Escherichia_coli             9.730\n",
       "Escherichia_fergusonii      10.077\n",
       "Klebsiella_pneumoniae       10.104\n",
       "Salmonella_enterica         10.032\n",
       "Staphylococcus_aureus        9.911\n",
       "Streptococcus_pneumoniae    10.057\n",
       "Streptococcus_pyogenes      10.063\n",
       "dtype: float64"
      ]
     },
     "execution_count": 10,
     "metadata": {},
     "output_type": "execute_result"
    }
   ],
   "source": [
    "y_proba = sum(y_proba_list) / len(y_proba_list)\n",
    "y_proba += np.array([0, 0, 0.01, 0.03, 0, 0, 0, 0, 0, 0])\n",
    "y_pred_tuned = le.inverse_transform(np.argmax(y_proba, axis=1))\n",
    "pd.Series(y_pred_tuned, index=df_test.index).value_counts().sort_index() / len(df_test) * 100"
   ]
  },
  {
   "cell_type": "code",
   "execution_count": 11,
   "id": "d1109e57",
   "metadata": {
    "execution": {
     "iopub.execute_input": "2022-02-06T19:53:17.431837Z",
     "iopub.status.busy": "2022-02-06T19:53:17.427919Z",
     "iopub.status.idle": "2022-02-06T19:53:17.669888Z",
     "shell.execute_reply": "2022-02-06T19:53:17.670879Z",
     "shell.execute_reply.started": "2022-02-06T19:28:20.427950Z"
    },
    "papermill": {
     "duration": 0.414589,
     "end_time": "2022-02-06T19:53:17.671083",
     "exception": false,
     "start_time": "2022-02-06T19:53:17.256494",
     "status": "completed"
    },
    "tags": []
   },
   "outputs": [
    {
     "data": {
      "text/html": [
       "<div>\n",
       "<style scoped>\n",
       "    .dataframe tbody tr th:only-of-type {\n",
       "        vertical-align: middle;\n",
       "    }\n",
       "\n",
       "    .dataframe tbody tr th {\n",
       "        vertical-align: top;\n",
       "    }\n",
       "\n",
       "    .dataframe thead th {\n",
       "        text-align: right;\n",
       "    }\n",
       "</style>\n",
       "<table border=\"1\" class=\"dataframe\">\n",
       "  <thead>\n",
       "    <tr style=\"text-align: right;\">\n",
       "      <th></th>\n",
       "      <th>row_id</th>\n",
       "      <th>target</th>\n",
       "    </tr>\n",
       "  </thead>\n",
       "  <tbody>\n",
       "    <tr>\n",
       "      <th>0</th>\n",
       "      <td>200000</td>\n",
       "      <td>Escherichia_fergusonii</td>\n",
       "    </tr>\n",
       "    <tr>\n",
       "      <th>1</th>\n",
       "      <td>200001</td>\n",
       "      <td>Salmonella_enterica</td>\n",
       "    </tr>\n",
       "    <tr>\n",
       "      <th>2</th>\n",
       "      <td>200002</td>\n",
       "      <td>Enterococcus_hirae</td>\n",
       "    </tr>\n",
       "    <tr>\n",
       "      <th>3</th>\n",
       "      <td>200003</td>\n",
       "      <td>Salmonella_enterica</td>\n",
       "    </tr>\n",
       "    <tr>\n",
       "      <th>4</th>\n",
       "      <td>200004</td>\n",
       "      <td>Staphylococcus_aureus</td>\n",
       "    </tr>\n",
       "    <tr>\n",
       "      <th>...</th>\n",
       "      <td>...</td>\n",
       "      <td>...</td>\n",
       "    </tr>\n",
       "    <tr>\n",
       "      <th>99995</th>\n",
       "      <td>299995</td>\n",
       "      <td>Streptococcus_pneumoniae</td>\n",
       "    </tr>\n",
       "    <tr>\n",
       "      <th>99996</th>\n",
       "      <td>299996</td>\n",
       "      <td>Bacteroides_fragilis</td>\n",
       "    </tr>\n",
       "    <tr>\n",
       "      <th>99997</th>\n",
       "      <td>299997</td>\n",
       "      <td>Bacteroides_fragilis</td>\n",
       "    </tr>\n",
       "    <tr>\n",
       "      <th>99998</th>\n",
       "      <td>299998</td>\n",
       "      <td>Bacteroides_fragilis</td>\n",
       "    </tr>\n",
       "    <tr>\n",
       "      <th>99999</th>\n",
       "      <td>299999</td>\n",
       "      <td>Streptococcus_pyogenes</td>\n",
       "    </tr>\n",
       "  </tbody>\n",
       "</table>\n",
       "<p>100000 rows × 2 columns</p>\n",
       "</div>"
      ],
      "text/plain": [
       "       row_id                    target\n",
       "0      200000    Escherichia_fergusonii\n",
       "1      200001       Salmonella_enterica\n",
       "2      200002        Enterococcus_hirae\n",
       "3      200003       Salmonella_enterica\n",
       "4      200004     Staphylococcus_aureus\n",
       "...       ...                       ...\n",
       "99995  299995  Streptococcus_pneumoniae\n",
       "99996  299996      Bacteroides_fragilis\n",
       "99997  299997      Bacteroides_fragilis\n",
       "99998  299998      Bacteroides_fragilis\n",
       "99999  299999    Streptococcus_pyogenes\n",
       "\n",
       "[100000 rows x 2 columns]"
      ]
     },
     "execution_count": 11,
     "metadata": {},
     "output_type": "execute_result"
    }
   ],
   "source": [
    "submission = pd.read_csv(data_dir / 'sample_submission.csv')\n",
    "submission[TARGET] = y_pred_tuned\n",
    "submission.to_csv('submission.csv', index=False)\n",
    "submission"
   ]
  },
  {
   "cell_type": "markdown",
   "id": "c5e8d89a",
   "metadata": {
    "papermill": {
     "duration": 0.19112,
     "end_time": "2022-02-06T19:53:18.079126",
     "exception": false,
     "start_time": "2022-02-06T19:53:17.888006",
     "status": "completed"
    },
    "tags": []
   },
   "source": [
    "# Final remark\n",
    "\n",
    "Understanding a model's weaknesses is part of data science. The present ExtraTreesClassifier has the weakness that it does not take the train-test drift into account.\n",
    "\n",
    "But please note that the postprocessing in this notebook is not data science. It is a workaround to compensate for the model's weakness. The real data science remains to be done: Create a model for the train-test drift which doesn't need postprocessing workarounds."
   ]
  }
 ],
 "metadata": {
  "kernelspec": {
   "display_name": "'Mashine_Learning'",
   "language": "python",
   "name": "machine_learning"
  },
  "language_info": {
   "codemirror_mode": {
    "name": "ipython",
    "version": 3
   },
   "file_extension": ".py",
   "mimetype": "text/x-python",
   "name": "python",
   "nbconvert_exporter": "python",
   "pygments_lexer": "ipython3",
   "version": "3.8.16"
  },
  "papermill": {
   "default_parameters": {},
   "duration": 660.216968,
   "end_time": "2022-02-06T19:53:20.755851",
   "environment_variables": {},
   "exception": null,
   "input_path": "__notebook__.ipynb",
   "output_path": "__notebook__.ipynb",
   "parameters": {},
   "start_time": "2022-02-06T19:42:20.538883",
   "version": "2.3.3"
  }
 },
 "nbformat": 4,
 "nbformat_minor": 5
}
