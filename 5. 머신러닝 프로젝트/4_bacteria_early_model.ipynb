{
 "cells": [
  {
   "cell_type": "markdown",
   "metadata": {},
   "source": [
    "## 필요 패키지 불러오기"
   ]
  },
  {
   "cell_type": "code",
   "execution_count": 1,
   "metadata": {},
   "outputs": [],
   "source": [
    "import numpy as np\n",
    "import pandas as pd\n",
    "import scipy as sp\n",
    "import seaborn as sns\n",
    "import matplotlib.pyplot as plt\n",
    "import matplotlib as mpl\n",
    "from sklearn.datasets import load_digits\n",
    "from matplotlib import font_manager\n",
    "from matplotlib import gridspec\n",
    "from math import factorial\n",
    "import sklearn\n",
    "import pprint\n",
    "import re\n",
    "from sklearn.preprocessing import LabelEncoder\n",
    "\n",
    "\n",
    "import warnings\n",
    "warnings.filterwarnings('ignore')\n",
    "\n",
    "font_fname = 'C:/Windows/Fonts/malgun.ttf'\n",
    "font_family = font_manager.FontProperties(fname=font_fname).get_name()\n",
    "\n",
    "plt.rcParams[\"font.family\"] = font_family\n",
    "plt.rcParams[\"axes.unicode_minus\"] = False\n",
    "\n",
    "\n",
    "%matplotlib inline"
   ]
  },
  {
   "attachments": {},
   "cell_type": "markdown",
   "metadata": {},
   "source": [
    "## 데이터 불러오기"
   ]
  },
  {
   "cell_type": "code",
   "execution_count": 2,
   "metadata": {},
   "outputs": [],
   "source": [
    "train_df = pd.read_csv('./train_transform_weight.csv')"
   ]
  },
  {
   "cell_type": "code",
   "execution_count": 83,
   "metadata": {},
   "outputs": [
    {
     "name": "stdout",
     "output_type": "stream",
     "text": [
      "<class 'pandas.core.frame.DataFrame'>\n",
      "RangeIndex: 123993 entries, 0 to 123992\n",
      "Columns: 149 entries, A0T0G0C10_and_A0T0G10C0 to sample_weight\n",
      "dtypes: int64(148), object(1)\n",
      "memory usage: 141.0+ MB\n"
     ]
    }
   ],
   "source": [
    "train_df.info()"
   ]
  },
  {
   "cell_type": "code",
   "execution_count": 84,
   "metadata": {},
   "outputs": [
    {
     "data": {
      "text/html": [
       "<div>\n",
       "<style scoped>\n",
       "    .dataframe tbody tr th:only-of-type {\n",
       "        vertical-align: middle;\n",
       "    }\n",
       "\n",
       "    .dataframe tbody tr th {\n",
       "        vertical-align: top;\n",
       "    }\n",
       "\n",
       "    .dataframe thead th {\n",
       "        text-align: right;\n",
       "    }\n",
       "</style>\n",
       "<table border=\"1\" class=\"dataframe\">\n",
       "  <thead>\n",
       "    <tr style=\"text-align: right;\">\n",
       "      <th></th>\n",
       "      <th>A0T0G0C10_and_A0T0G10C0</th>\n",
       "      <th>A0T0G1C9_and_A0T0G9C1</th>\n",
       "      <th>A0T0G2C8_and_A0T0G8C2</th>\n",
       "      <th>A0T0G3C7_and_A0T0G7C3</th>\n",
       "      <th>A0T0G4C6_and_A0T0G6C4</th>\n",
       "      <th>A0T0G5C5</th>\n",
       "      <th>A0T1G0C9_and_A1T0G9C0</th>\n",
       "      <th>A0T1G1C8_and_A1T0G8C1</th>\n",
       "      <th>A0T1G2C7_and_A1T0G7C2</th>\n",
       "      <th>A0T1G3C6_and_A1T0G6C3</th>\n",
       "      <th>...</th>\n",
       "      <th>A4T4G0C2_and_A4T4G2C0</th>\n",
       "      <th>A4T4G1C1</th>\n",
       "      <th>A4T5G0C1_and_A5T4G1C0</th>\n",
       "      <th>A4T5G1C0_and_A5T4G0C1</th>\n",
       "      <th>A4T6G0C0_and_A6T4G0C0</th>\n",
       "      <th>A5T5G0C0</th>\n",
       "      <th>gcd</th>\n",
       "      <th>decamers</th>\n",
       "      <th>target</th>\n",
       "      <th>sample_weight</th>\n",
       "    </tr>\n",
       "  </thead>\n",
       "  <tbody>\n",
       "    <tr>\n",
       "      <th>0</th>\n",
       "      <td>0</td>\n",
       "      <td>0</td>\n",
       "      <td>0</td>\n",
       "      <td>0</td>\n",
       "      <td>0</td>\n",
       "      <td>0</td>\n",
       "      <td>0</td>\n",
       "      <td>0</td>\n",
       "      <td>0</td>\n",
       "      <td>0</td>\n",
       "      <td>...</td>\n",
       "      <td>20000</td>\n",
       "      <td>0</td>\n",
       "      <td>0</td>\n",
       "      <td>10000</td>\n",
       "      <td>0</td>\n",
       "      <td>0</td>\n",
       "      <td>10000</td>\n",
       "      <td>100</td>\n",
       "      <td>Escherichia_coli</td>\n",
       "      <td>18</td>\n",
       "    </tr>\n",
       "    <tr>\n",
       "      <th>1</th>\n",
       "      <td>0</td>\n",
       "      <td>0</td>\n",
       "      <td>0</td>\n",
       "      <td>2000</td>\n",
       "      <td>0</td>\n",
       "      <td>1000</td>\n",
       "      <td>0</td>\n",
       "      <td>0</td>\n",
       "      <td>0</td>\n",
       "      <td>5000</td>\n",
       "      <td>...</td>\n",
       "      <td>4000</td>\n",
       "      <td>2000</td>\n",
       "      <td>3000</td>\n",
       "      <td>7000</td>\n",
       "      <td>1000</td>\n",
       "      <td>0</td>\n",
       "      <td>1000</td>\n",
       "      <td>1000</td>\n",
       "      <td>Salmonella_enterica</td>\n",
       "      <td>17</td>\n",
       "    </tr>\n",
       "    <tr>\n",
       "      <th>2</th>\n",
       "      <td>0</td>\n",
       "      <td>0</td>\n",
       "      <td>0</td>\n",
       "      <td>0</td>\n",
       "      <td>0</td>\n",
       "      <td>0</td>\n",
       "      <td>0</td>\n",
       "      <td>0</td>\n",
       "      <td>0</td>\n",
       "      <td>0</td>\n",
       "      <td>...</td>\n",
       "      <td>28000</td>\n",
       "      <td>28000</td>\n",
       "      <td>20000</td>\n",
       "      <td>22000</td>\n",
       "      <td>5000</td>\n",
       "      <td>6000</td>\n",
       "      <td>1000</td>\n",
       "      <td>1000</td>\n",
       "      <td>Staphylococcus_aureus</td>\n",
       "      <td>17</td>\n",
       "    </tr>\n",
       "    <tr>\n",
       "      <th>3</th>\n",
       "      <td>0</td>\n",
       "      <td>0</td>\n",
       "      <td>0</td>\n",
       "      <td>0</td>\n",
       "      <td>0</td>\n",
       "      <td>0</td>\n",
       "      <td>0</td>\n",
       "      <td>0</td>\n",
       "      <td>0</td>\n",
       "      <td>0</td>\n",
       "      <td>...</td>\n",
       "      <td>10000</td>\n",
       "      <td>30000</td>\n",
       "      <td>0</td>\n",
       "      <td>10000</td>\n",
       "      <td>0</td>\n",
       "      <td>0</td>\n",
       "      <td>10000</td>\n",
       "      <td>100</td>\n",
       "      <td>Bacteroides_fragilis</td>\n",
       "      <td>16</td>\n",
       "    </tr>\n",
       "    <tr>\n",
       "      <th>4</th>\n",
       "      <td>0</td>\n",
       "      <td>0</td>\n",
       "      <td>0</td>\n",
       "      <td>0</td>\n",
       "      <td>0</td>\n",
       "      <td>0</td>\n",
       "      <td>0</td>\n",
       "      <td>0</td>\n",
       "      <td>0</td>\n",
       "      <td>0</td>\n",
       "      <td>...</td>\n",
       "      <td>25000</td>\n",
       "      <td>17000</td>\n",
       "      <td>21000</td>\n",
       "      <td>20000</td>\n",
       "      <td>15000</td>\n",
       "      <td>5000</td>\n",
       "      <td>1000</td>\n",
       "      <td>1000</td>\n",
       "      <td>Campylobacter_jejuni</td>\n",
       "      <td>16</td>\n",
       "    </tr>\n",
       "  </tbody>\n",
       "</table>\n",
       "<p>5 rows × 149 columns</p>\n",
       "</div>"
      ],
      "text/plain": [
       "   A0T0G0C10_and_A0T0G10C0  A0T0G1C9_and_A0T0G9C1  A0T0G2C8_and_A0T0G8C2  \\\n",
       "0                        0                      0                      0   \n",
       "1                        0                      0                      0   \n",
       "2                        0                      0                      0   \n",
       "3                        0                      0                      0   \n",
       "4                        0                      0                      0   \n",
       "\n",
       "   A0T0G3C7_and_A0T0G7C3  A0T0G4C6_and_A0T0G6C4  A0T0G5C5  \\\n",
       "0                      0                      0         0   \n",
       "1                   2000                      0      1000   \n",
       "2                      0                      0         0   \n",
       "3                      0                      0         0   \n",
       "4                      0                      0         0   \n",
       "\n",
       "   A0T1G0C9_and_A1T0G9C0  A0T1G1C8_and_A1T0G8C1  A0T1G2C7_and_A1T0G7C2  \\\n",
       "0                      0                      0                      0   \n",
       "1                      0                      0                      0   \n",
       "2                      0                      0                      0   \n",
       "3                      0                      0                      0   \n",
       "4                      0                      0                      0   \n",
       "\n",
       "   A0T1G3C6_and_A1T0G6C3  ...  A4T4G0C2_and_A4T4G2C0  A4T4G1C1  \\\n",
       "0                      0  ...                  20000         0   \n",
       "1                   5000  ...                   4000      2000   \n",
       "2                      0  ...                  28000     28000   \n",
       "3                      0  ...                  10000     30000   \n",
       "4                      0  ...                  25000     17000   \n",
       "\n",
       "   A4T5G0C1_and_A5T4G1C0  A4T5G1C0_and_A5T4G0C1  A4T6G0C0_and_A6T4G0C0  \\\n",
       "0                      0                  10000                      0   \n",
       "1                   3000                   7000                   1000   \n",
       "2                  20000                  22000                   5000   \n",
       "3                      0                  10000                      0   \n",
       "4                  21000                  20000                  15000   \n",
       "\n",
       "   A5T5G0C0    gcd  decamers                 target  sample_weight  \n",
       "0         0  10000       100       Escherichia_coli             18  \n",
       "1         0   1000      1000    Salmonella_enterica             17  \n",
       "2      6000   1000      1000  Staphylococcus_aureus             17  \n",
       "3         0  10000       100   Bacteroides_fragilis             16  \n",
       "4      5000   1000      1000   Campylobacter_jejuni             16  \n",
       "\n",
       "[5 rows x 149 columns]"
      ]
     },
     "execution_count": 84,
     "metadata": {},
     "output_type": "execute_result"
    }
   ],
   "source": [
    "train_df.head()"
   ]
  },
  {
   "cell_type": "code",
   "execution_count": 85,
   "metadata": {},
   "outputs": [],
   "source": [
    "target_list = train_df['target'].unique()"
   ]
  },
  {
   "attachments": {},
   "cell_type": "markdown",
   "metadata": {},
   "source": [
    "target의 인코딩 진행\n",
    "\n",
    "각 타갯의 순서는 없음으로, LabelEncoder를 진행"
   ]
  },
  {
   "cell_type": "code",
   "execution_count": 86,
   "metadata": {},
   "outputs": [],
   "source": [
    "label_encoder = LabelEncoder()\n",
    "train_df['target'] = label_encoder.fit_transform(train_df['target'])"
   ]
  },
  {
   "attachments": {},
   "cell_type": "markdown",
   "metadata": {},
   "source": [
    "Decision Tree\n",
    "\n",
    "여러가지의 Decision Tree를 사용하여 판별력이 높은 트리를 선정.\n",
    "\n",
    "RandomForest, ExtraTrees, xgboost, lightgbm을 사용."
   ]
  },
  {
   "cell_type": "code",
   "execution_count": 3,
   "metadata": {},
   "outputs": [],
   "source": [
    "from sklearn.ensemble import RandomForestClassifier, ExtraTreesClassifier\n",
    "from sklearn.neighbors import KNeighborsClassifier\n",
    "from sklearn.model_selection import StratifiedKFold\n",
    "from sklearn.metrics import accuracy_score\n",
    "from xgboost import XGBClassifier\n",
    "from lightgbm import LGBMClassifier\n",
    "from tqdm import tqdm"
   ]
  },
  {
   "attachments": {},
   "cell_type": "markdown",
   "metadata": {},
   "source": [
    "StratifiedKFold을 통해 10개의 데이터로 나눠 교차검증을 시행"
   ]
  },
  {
   "cell_type": "code",
   "execution_count": 4,
   "metadata": {},
   "outputs": [],
   "source": [
    "def early_model(df, model, time=True, splits=10, weight=True, fit_data=False):\n",
    "    X = df.drop(['gcd', 'target', 'sample_weight'], axis=1)\n",
    "    y = df['target']\n",
    "    sample_weight = df['sample_weight']\n",
    "    model_name = type(model).__name__\n",
    "    N_SPLITS = splits\n",
    "    folds = StratifiedKFold(n_splits=N_SPLITS, shuffle=True, random_state=0)\n",
    "    scores, decamer_100s, decamer_1000s, decamer_100000s, decamer_1000000s ,fit_list = [], [], [], [], [], []\n",
    "    fit_dit = {}\n",
    "    \n",
    "    if time == True:\n",
    "        folds_split = tqdm(folds.split(X, y), total=N_SPLITS)\n",
    "    else:\n",
    "        folds_split = folds.split(X, y)\n",
    "    \n",
    "    # Index Splitting\n",
    "    for fold, (train_id, valid_id) in enumerate(folds_split):\n",
    "        if time == True:\n",
    "            print('####### Fold: ', fold)\n",
    "        \n",
    "        # Splitting\n",
    "        X_train, y_train, sample_weight_train = X.iloc[train_id], y.iloc[train_id], sample_weight.iloc[train_id]\n",
    "        X_valid, y_valid, sample_weight_valid = X.iloc[valid_id], y.iloc[valid_id], sample_weight.iloc[valid_id]\n",
    "\n",
    "        # Fit\n",
    "        if weight == True:\n",
    "            model.fit(X_train, y_train, sample_weight_train)\n",
    "        else:\n",
    "            model.fit(X_train, y_train)\n",
    "        \n",
    "        if fit_data == True:\n",
    "            fit_list.append(model)\n",
    "        \n",
    "        # Validation\n",
    "        valid_pred = model.predict(X_valid)\n",
    "        valid_score = accuracy_score(y_valid, valid_pred, sample_weight=sample_weight_valid)\n",
    "        \n",
    "        scores.append(valid_score)\n",
    "        \n",
    "        # 각 decamer 별로 Validation\n",
    "        for decamer in [100, 1000, 100000, 1000000]:\n",
    "            # decamer별로 나눔\n",
    "            X_test = X_valid[X_valid['decamers'] == decamer]\n",
    "            y_test = y_valid[X_valid['decamers'] == decamer]\n",
    "            sample_weight_test = sample_weight_valid[X_valid['decamers'] == decamer]\n",
    "            \n",
    "            # Prediction\n",
    "            test_pred = model.predict(X_test)\n",
    "            test_score = accuracy_score(y_test, test_pred, sample_weight=sample_weight_test)\n",
    "              \n",
    "            if decamer == 100:\n",
    "                decamer_100s.append(test_score)\n",
    "            elif decamer == 1000:\n",
    "                decamer_1000s.append(test_score)\n",
    "            elif decamer == 100000:\n",
    "                decamer_100000s.append(test_score)\n",
    "            else:\n",
    "                decamer_1000000s.append(test_score)\n",
    "                \n",
    "    # scores\n",
    "    formatted_scores = [f'{score:.5f}' for score in scores]\n",
    "    avg_score = np.array(scores).mean()\n",
    "\n",
    "    formatted_decamer_100s = [f'{score:.5f}' for score in decamer_100s]\n",
    "    decamer_100 = np.array(decamer_100s).mean()\n",
    "\n",
    "    formatted_decamer_1000s = [f'{score:.5f}' for score in decamer_1000s]\n",
    "    decamer_1000 = np.array(decamer_1000s).mean()\n",
    "\n",
    "    formatted_decamer_100000s = [f'{score:.5f}' for score in decamer_100000s]\n",
    "    decamer_100000 = np.array(decamer_100000s).mean()\n",
    "\n",
    "    formatted_decamer_1000000s = [f'{score:.5f}' for score in decamer_1000000s]\n",
    "    decamer_1000000 = np.array(decamer_1000000s).mean()\n",
    "    \n",
    "    \n",
    "    # scores print\n",
    "    print('---------------',model_name,'---------------','\\n')\n",
    "\n",
    "    print(f'Accuracy scores: {formatted_scores}')\n",
    "    print(f'Mean accuracy score: {avg_score:6f}\\n')\n",
    "\n",
    "    print(f'decamer 100 Accuracy score: {formatted_decamer_100s}')\n",
    "    print(f'Mean accuracy decamer 100 score: {decamer_100:6f}\\n')\n",
    "\n",
    "    print(f'decamer 1000 Accuracy score: {formatted_decamer_1000s}')\n",
    "    print(f'Mean accuracy decamer 1000 score: {decamer_1000:6f}\\n')\n",
    "\n",
    "    print(f'decamer 100000 Accuracy score: {formatted_decamer_100000s}')\n",
    "    print(f'Mean accuracy decamer 100000 score: {decamer_100000:6f}\\n')\n",
    "\n",
    "    print(f'decamer 1000000 Accuracy score: {formatted_decamer_1000000s}')\n",
    "    print(f'Mean accuracy decamer 1000000 score: {decamer_1000000:6f}\\n')\n",
    "    \n",
    "    if fit_data == True:\n",
    "        fit_dit[model_name] = fit_list\n",
    "        return fit_dit"
   ]
  },
  {
   "cell_type": "code",
   "execution_count": 31,
   "metadata": {},
   "outputs": [
    {
     "name": "stderr",
     "output_type": "stream",
     "text": [
      "  0%|          | 0/10 [00:00<?, ?it/s]"
     ]
    },
    {
     "name": "stdout",
     "output_type": "stream",
     "text": [
      "####### Fold:  0\n"
     ]
    },
    {
     "name": "stderr",
     "output_type": "stream",
     "text": [
      " 10%|█         | 1/10 [00:21<03:09, 21.05s/it]"
     ]
    },
    {
     "name": "stdout",
     "output_type": "stream",
     "text": [
      "\n",
      "####### Fold:  1\n"
     ]
    },
    {
     "name": "stderr",
     "output_type": "stream",
     "text": [
      " 20%|██        | 2/10 [00:42<02:51, 21.49s/it]"
     ]
    },
    {
     "name": "stdout",
     "output_type": "stream",
     "text": [
      "\n",
      "####### Fold:  2\n"
     ]
    },
    {
     "name": "stderr",
     "output_type": "stream",
     "text": [
      " 30%|███       | 3/10 [01:04<02:32, 21.78s/it]"
     ]
    },
    {
     "name": "stdout",
     "output_type": "stream",
     "text": [
      "\n",
      "####### Fold:  3\n"
     ]
    },
    {
     "name": "stderr",
     "output_type": "stream",
     "text": [
      " 40%|████      | 4/10 [01:26<02:10, 21.78s/it]"
     ]
    },
    {
     "name": "stdout",
     "output_type": "stream",
     "text": [
      "\n",
      "####### Fold:  4\n"
     ]
    },
    {
     "name": "stderr",
     "output_type": "stream",
     "text": [
      " 50%|█████     | 5/10 [01:49<01:49, 21.97s/it]"
     ]
    },
    {
     "name": "stdout",
     "output_type": "stream",
     "text": [
      "\n",
      "####### Fold:  5\n"
     ]
    },
    {
     "name": "stderr",
     "output_type": "stream",
     "text": [
      " 60%|██████    | 6/10 [02:12<01:29, 22.35s/it]"
     ]
    },
    {
     "name": "stdout",
     "output_type": "stream",
     "text": [
      "\n",
      "####### Fold:  6\n"
     ]
    },
    {
     "name": "stderr",
     "output_type": "stream",
     "text": [
      " 70%|███████   | 7/10 [02:34<01:07, 22.34s/it]"
     ]
    },
    {
     "name": "stdout",
     "output_type": "stream",
     "text": [
      "\n",
      "####### Fold:  7\n"
     ]
    },
    {
     "name": "stderr",
     "output_type": "stream",
     "text": [
      " 80%|████████  | 8/10 [02:56<00:44, 22.21s/it]"
     ]
    },
    {
     "name": "stdout",
     "output_type": "stream",
     "text": [
      "\n",
      "####### Fold:  8\n"
     ]
    },
    {
     "name": "stderr",
     "output_type": "stream",
     "text": [
      " 90%|█████████ | 9/10 [03:19<00:22, 22.41s/it]"
     ]
    },
    {
     "name": "stdout",
     "output_type": "stream",
     "text": [
      "\n",
      "####### Fold:  9\n"
     ]
    },
    {
     "name": "stderr",
     "output_type": "stream",
     "text": [
      "100%|██████████| 10/10 [03:41<00:00, 22.19s/it]"
     ]
    },
    {
     "name": "stdout",
     "output_type": "stream",
     "text": [
      "\n",
      "Accuracy scores: ['0.94579', '0.94264', '0.95071', '0.94577', '0.95018', '0.94381', '0.94892', '0.94577', '0.94758', '0.94861']\n",
      "Mean accuracy score: 0.946978\n",
      "\n",
      "decamer 100 Accuracy score: ['0.86615', '0.86972', '0.88311', '0.87220', '0.87112', '0.86042', '0.87608', '0.87097', '0.87554', '0.88466']\n",
      "Mean accuracy decamer 100 score: 0.872998\n",
      "\n",
      "decamer 100 Accuracy score: ['0.91778', '0.90311', '0.92098', '0.90669', '0.92988', '0.91830', '0.92019', '0.90977', '0.91435', '0.90847']\n",
      "Mean accuracy decamer 1000 score: 0.914951\n",
      "\n",
      "decamer 100 Accuracy score: ['0.99980', '1.00000', '1.00000', '1.00000', '0.99980', '1.00000', '1.00000', '1.00000', '1.00000', '1.00000']\n",
      "Mean accuracy decamer 100000 score: 0.999960\n",
      "\n",
      "decamer 100 Accuracy score: ['1.00000', '1.00000', '1.00000', '1.00000', '1.00000', '1.00000', '1.00000', '1.00000', '1.00000', '1.00000']\n",
      "Mean accuracy decamer 1000000 score: 1.000000\n",
      "\n"
     ]
    },
    {
     "name": "stderr",
     "output_type": "stream",
     "text": [
      "\n"
     ]
    }
   ],
   "source": [
    "# RandomForestClassifier\n",
    "model= RandomForestClassifier(n_estimators=300, n_jobs=-1)\n",
    "\n",
    "early_model(train_df, model)"
   ]
  },
  {
   "attachments": {},
   "cell_type": "markdown",
   "metadata": {},
   "source": [
    "- 정확도 ExtraTreesClassifier 948574 > RandomForestClassifier 946893 = LGBMClassifier 946596 = XGBClassifier 946367\n",
    "- 성능 ExtraTreesClassifier 11 > LGBMClassifier 13 > RandomForestClassifier 21 >> XGBClassifier 180\n",
    "\n",
    "RandomForestClassifier와 ExtraTreesClassifier은 매우 비슷한 알고리즘이지만\n",
    "\n",
    "RandomForestClassifier는 최적의 분할과 gini가 낮아지는 최적의 노드를 사용 -> 경계선 분할\n",
    "\n",
    "ExtraTreesClassifier는 무작위 분할과 무작위 노드 분할을 사용\n",
    "\n",
    "하지만 데이터에 노이즈(실험오차, 돌연변이)가 있기때문에 ExtraTrees의 무작위 분할이 더 높은 정확도와 성능을 보임\n",
    "\n",
    "XGBClassifier는 너무 오래걸려서 제외"
   ]
  },
  {
   "cell_type": "code",
   "execution_count": 40,
   "metadata": {},
   "outputs": [
    {
     "name": "stdout",
     "output_type": "stream",
     "text": [
      "RandomForestClassifier\n",
      "Accuracy scores: ['0.94628', '0.94649', '0.94501', '0.94874', '0.94729', '0.93958', '0.95198', '0.94502', '0.94819', '0.95035']\n",
      "Mean accuracy score: 0.946893\n",
      "\n",
      "decamer 100 Accuracy score: ['0.86798', '0.86478', '0.85343', '0.87282', '0.87061', '0.85414', '0.88251', '0.87177', '0.87485', '0.88151']\n",
      "Mean accuracy decamer 100 score: 0.869439\n",
      "\n",
      "decamer 100 Accuracy score: ['0.91538', '0.91686', '0.92813', '0.92252', '0.92055', '0.90572', '0.92599', '0.91055', '0.91629', '0.91874']\n",
      "Mean accuracy decamer 1000 score: 0.918072\n",
      "\n",
      "decamer 100 Accuracy score: ['1.00000', '1.00000', '1.00000', '0.99980', '1.00000', '1.00000', '1.00000', '1.00000', '1.00000', '0.99980']\n",
      "Mean accuracy decamer 100000 score: 0.999960\n",
      "\n",
      "decamer 100 Accuracy score: ['1.00000', '1.00000', '1.00000', '1.00000', '1.00000', '1.00000', '1.00000', '1.00000', '1.00000', '1.00000']\n",
      "Mean accuracy decamer 1000000 score: 1.000000\n",
      "\n",
      "ExtraTreesClassifier\n",
      "Accuracy scores: ['0.95111', '0.94717', '0.94406', '0.94585', '0.94956', '0.94865', '0.95241', '0.94573', '0.95089', '0.95032']\n",
      "Mean accuracy score: 0.948574\n",
      "\n",
      "decamer 100 Accuracy score: ['0.88683', '0.87490', '0.86350', '0.87708', '0.87763', '0.87174', '0.88961', '0.86426', '0.88570', '0.89190']\n",
      "Mean accuracy decamer 100 score: 0.878315\n",
      "\n",
      "decamer 100 Accuracy score: ['0.92054', '0.91299', '0.91251', '0.90808', '0.92245', '0.91902', '0.91750', '0.91990', '0.91479', '0.91158']\n",
      "Mean accuracy decamer 1000 score: 0.915937\n",
      "\n",
      "decamer 100 Accuracy score: ['1.00000', '1.00000', '1.00000', '1.00000', '1.00000', '1.00000', '1.00000', '1.00000', '1.00000', '1.00000']\n",
      "Mean accuracy decamer 100000 score: 1.000000\n",
      "\n",
      "decamer 100 Accuracy score: ['1.00000', '1.00000', '1.00000', '1.00000', '1.00000', '1.00000', '1.00000', '1.00000', '1.00000', '1.00000']\n",
      "Mean accuracy decamer 1000000 score: 1.000000\n",
      "\n",
      "XGBClassifier\n",
      "Accuracy scores: ['0.94222', '0.94644', '0.94891', '0.94457', '0.94898', '0.94452', '0.94727', '0.95055', '0.94547', '0.94473']\n",
      "Mean accuracy score: 0.946367\n",
      "\n",
      "decamer 100 Accuracy score: ['0.85194', '0.86493', '0.87321', '0.86301', '0.87419', '0.88110', '0.86385', '0.88102', '0.86483', '0.85407']\n",
      "Mean accuracy decamer 100 score: 0.867215\n",
      "\n",
      "decamer 100 Accuracy score: ['0.91556', '0.91771', '0.92188', '0.92068', '0.92146', '0.90119', '0.92722', '0.91931', '0.91817', '0.91929']\n",
      "Mean accuracy decamer 1000 score: 0.918246\n",
      "\n",
      "decamer 100 Accuracy score: ['1.00000', '0.99960', '0.99980', '1.00000', '1.00000', '0.99980', '1.00000', '1.00000', '1.00000', '1.00000']\n",
      "Mean accuracy decamer 100000 score: 0.999920\n",
      "\n",
      "decamer 100 Accuracy score: ['1.00000', '1.00000', '1.00000', '1.00000', '1.00000', '1.00000', '1.00000', '1.00000', '1.00000', '1.00000']\n",
      "Mean accuracy decamer 1000000 score: 1.000000\n",
      "\n",
      "LGBMClassifier\n",
      "Accuracy scores: ['0.94598', '0.94769', '0.94629', '0.94118', '0.94656', '0.94611', '0.94488', '0.94620', '0.95335', '0.94772']\n",
      "Mean accuracy score: 0.946596\n",
      "\n",
      "decamer 100 Accuracy score: ['0.85958', '0.86632', '0.86911', '0.84968', '0.87394', '0.86145', '0.86393', '0.86365', '0.87890', '0.86923']\n",
      "Mean accuracy decamer 100 score: 0.865578\n",
      "\n",
      "decamer 100 Accuracy score: ['0.92506', '0.92116', '0.91618', '0.91481', '0.91239', '0.91715', '0.91845', '0.92776', '0.93331', '0.92242']\n",
      "Mean accuracy decamer 1000 score: 0.920868\n",
      "\n",
      "decamer 100 Accuracy score: ['1.00000', '0.99980', '1.00000', '1.00000', '1.00000', '1.00000', '1.00000', '1.00000', '0.99921', '1.00000']\n",
      "Mean accuracy decamer 100000 score: 0.999901\n",
      "\n",
      "decamer 100 Accuracy score: ['1.00000', '1.00000', '1.00000', '1.00000', '1.00000', '1.00000', '1.00000', '1.00000', '1.00000', '1.00000']\n",
      "Mean accuracy decamer 1000000 score: 1.000000\n",
      "\n"
     ]
    }
   ],
   "source": [
    "# 4가지의 Decision Tree\n",
    "models = [RandomForestClassifier(n_estimators=300, n_jobs=-1), \n",
    "          ExtraTreesClassifier(n_estimators=300, n_jobs=-1),\n",
    "          XGBClassifier(n_estimators=300, n_jobs=-1),\n",
    "          LGBMClassifier(n_estimators=300, n_jobs=-1)\n",
    "          ]\n",
    "\n",
    "for model in models:\n",
    "    early_model(train_df, model, time=False)"
   ]
  },
  {
   "attachments": {},
   "cell_type": "markdown",
   "metadata": {},
   "source": [
    "### ExtraTreesClassifier\n",
    "- Mean accuracy score: 0.948574\n",
    "- Mean accuracy decamer 100 score: 0.878315\n",
    "- Mean accuracy decamer 1000 score: 0.915937\n",
    "- Mean accuracy decamer 100000 score: 1.000000\n",
    "- Mean accuracy decamer 1000000 score: 1.000000\n",
    "\n",
    "\n",
    "\n",
    "### LGBMClassifier\n",
    "- Mean accuracy score: 0.946596\n",
    "- Mean accuracy decamer 100 score: 0.865578\n",
    "- Mean accuracy decamer 1000 score: 0.920868\n",
    "- Mean accuracy decamer 100000 score: 0.999901\n",
    "- Mean accuracy decamer 1000000 score: 1.000000"
   ]
  },
  {
   "attachments": {},
   "cell_type": "markdown",
   "metadata": {},
   "source": [
    "## clustering\n",
    "\n",
    "유사도를 기반으로 구분 -> KNN\n",
    "\n",
    "Manhattan: 절대값으로 계산 L1\n",
    "Euclidean: 직선 거리가(피타고라스) 얼마인지 계산 L2\n",
    "\n",
    "차원의 수가 많고, 노이즈가 많으면 L2보다 계산이 간단한 L1이 더 성능이 좋다."
   ]
  },
  {
   "cell_type": "code",
   "execution_count": 5,
   "metadata": {},
   "outputs": [
    {
     "name": "stderr",
     "output_type": "stream",
     "text": [
      "  0%|          | 0/10 [00:00<?, ?it/s]"
     ]
    },
    {
     "name": "stdout",
     "output_type": "stream",
     "text": [
      "####### Fold:  0\n"
     ]
    },
    {
     "name": "stderr",
     "output_type": "stream",
     "text": [
      " 10%|█         | 1/10 [00:58<08:48, 58.74s/it]"
     ]
    },
    {
     "name": "stdout",
     "output_type": "stream",
     "text": [
      "####### Fold:  1\n"
     ]
    },
    {
     "name": "stderr",
     "output_type": "stream",
     "text": [
      " 20%|██        | 2/10 [01:55<07:41, 57.73s/it]"
     ]
    },
    {
     "name": "stdout",
     "output_type": "stream",
     "text": [
      "####### Fold:  2\n"
     ]
    },
    {
     "name": "stderr",
     "output_type": "stream",
     "text": [
      " 30%|███       | 3/10 [02:52<06:41, 57.37s/it]"
     ]
    },
    {
     "name": "stdout",
     "output_type": "stream",
     "text": [
      "####### Fold:  3\n"
     ]
    },
    {
     "name": "stderr",
     "output_type": "stream",
     "text": [
      " 40%|████      | 4/10 [03:48<05:40, 56.77s/it]"
     ]
    },
    {
     "name": "stdout",
     "output_type": "stream",
     "text": [
      "####### Fold:  4\n"
     ]
    },
    {
     "name": "stderr",
     "output_type": "stream",
     "text": [
      " 50%|█████     | 5/10 [04:45<04:44, 56.96s/it]"
     ]
    },
    {
     "name": "stdout",
     "output_type": "stream",
     "text": [
      "####### Fold:  5\n"
     ]
    },
    {
     "name": "stderr",
     "output_type": "stream",
     "text": [
      " 60%|██████    | 6/10 [05:42<03:47, 56.79s/it]"
     ]
    },
    {
     "name": "stdout",
     "output_type": "stream",
     "text": [
      "####### Fold:  6\n"
     ]
    },
    {
     "name": "stderr",
     "output_type": "stream",
     "text": [
      " 70%|███████   | 7/10 [06:38<02:50, 56.71s/it]"
     ]
    },
    {
     "name": "stdout",
     "output_type": "stream",
     "text": [
      "####### Fold:  7\n"
     ]
    },
    {
     "name": "stderr",
     "output_type": "stream",
     "text": [
      " 80%|████████  | 8/10 [07:35<01:53, 56.78s/it]"
     ]
    },
    {
     "name": "stdout",
     "output_type": "stream",
     "text": [
      "####### Fold:  8\n"
     ]
    },
    {
     "name": "stderr",
     "output_type": "stream",
     "text": [
      " 90%|█████████ | 9/10 [08:31<00:56, 56.35s/it]"
     ]
    },
    {
     "name": "stdout",
     "output_type": "stream",
     "text": [
      "####### Fold:  9\n"
     ]
    },
    {
     "name": "stderr",
     "output_type": "stream",
     "text": [
      "100%|██████████| 10/10 [09:27<00:00, 56.74s/it]"
     ]
    },
    {
     "name": "stdout",
     "output_type": "stream",
     "text": [
      "--------------- KNeighborsClassifier --------------- \n",
      "\n",
      "Accuracy scores: ['0.91685', '0.91617', '0.91977', '0.91784', '0.91426', '0.91606', '0.91226', '0.91758', '0.91518', '0.92336']\n",
      "Mean accuracy score: 0.916933\n",
      "\n",
      "decamer 100 Accuracy score: ['0.79043', '0.77609', '0.79202', '0.78734', '0.78613', '0.79759', '0.79532', '0.78877', '0.77378', '0.80016']\n",
      "Mean accuracy decamer 100 score: 0.788763\n",
      "\n",
      "decamer 1000 Accuracy score: ['0.87787', '0.88510', '0.88756', '0.88335', '0.87160', '0.88065', '0.85000', '0.87439', '0.88873', '0.89094']\n",
      "Mean accuracy decamer 1000 score: 0.879019\n",
      "\n",
      "decamer 100000 Accuracy score: ['1.00000', '1.00000', '0.99980', '0.99980', '0.99980', '1.00000', '0.99980', '0.99961', '0.99980', '0.99980']\n",
      "Mean accuracy decamer 100000 score: 0.999841\n",
      "\n",
      "decamer 1000000 Accuracy score: ['1.00000', '1.00000', '1.00000', '1.00000', '1.00000', '1.00000', '1.00000', '1.00000', '1.00000', '1.00000']\n",
      "Mean accuracy decamer 1000000 score: 1.000000\n",
      "\n"
     ]
    },
    {
     "name": "stderr",
     "output_type": "stream",
     "text": [
      "\n"
     ]
    }
   ],
   "source": [
    "model = KNeighborsClassifier(n_jobs=-1,metric='euclidean',weights='distance',n_neighbors=2)\n",
    "\n",
    "early_model(train_df, model, weight=False)"
   ]
  },
  {
   "cell_type": "code",
   "execution_count": 90,
   "metadata": {},
   "outputs": [
    {
     "name": "stderr",
     "output_type": "stream",
     "text": [
      "  0%|          | 0/10 [00:00<?, ?it/s]"
     ]
    },
    {
     "name": "stdout",
     "output_type": "stream",
     "text": [
      "####### Fold:  0\n"
     ]
    },
    {
     "name": "stderr",
     "output_type": "stream",
     "text": [
      " 10%|█         | 1/10 [02:02<18:21, 122.40s/it]"
     ]
    },
    {
     "name": "stdout",
     "output_type": "stream",
     "text": [
      "####### Fold:  1\n"
     ]
    },
    {
     "name": "stderr",
     "output_type": "stream",
     "text": [
      " 20%|██        | 2/10 [04:08<16:36, 124.51s/it]"
     ]
    },
    {
     "name": "stdout",
     "output_type": "stream",
     "text": [
      "####### Fold:  2\n"
     ]
    },
    {
     "name": "stderr",
     "output_type": "stream",
     "text": [
      " 30%|███       | 3/10 [06:15<14:39, 125.66s/it]"
     ]
    },
    {
     "name": "stdout",
     "output_type": "stream",
     "text": [
      "####### Fold:  3\n"
     ]
    },
    {
     "name": "stderr",
     "output_type": "stream",
     "text": [
      " 40%|████      | 4/10 [08:19<12:29, 125.00s/it]"
     ]
    },
    {
     "name": "stdout",
     "output_type": "stream",
     "text": [
      "####### Fold:  4\n"
     ]
    },
    {
     "name": "stderr",
     "output_type": "stream",
     "text": [
      " 50%|█████     | 5/10 [10:24<10:25, 125.05s/it]"
     ]
    },
    {
     "name": "stdout",
     "output_type": "stream",
     "text": [
      "####### Fold:  5\n"
     ]
    },
    {
     "name": "stderr",
     "output_type": "stream",
     "text": [
      " 60%|██████    | 6/10 [12:29<08:20, 125.03s/it]"
     ]
    },
    {
     "name": "stdout",
     "output_type": "stream",
     "text": [
      "####### Fold:  6\n"
     ]
    },
    {
     "name": "stderr",
     "output_type": "stream",
     "text": [
      " 70%|███████   | 7/10 [14:35<06:15, 125.33s/it]"
     ]
    },
    {
     "name": "stdout",
     "output_type": "stream",
     "text": [
      "####### Fold:  7\n"
     ]
    },
    {
     "name": "stderr",
     "output_type": "stream",
     "text": [
      " 80%|████████  | 8/10 [16:43<04:12, 126.05s/it]"
     ]
    },
    {
     "name": "stdout",
     "output_type": "stream",
     "text": [
      "####### Fold:  8\n"
     ]
    },
    {
     "name": "stderr",
     "output_type": "stream",
     "text": [
      " 90%|█████████ | 9/10 [18:49<02:06, 126.06s/it]"
     ]
    },
    {
     "name": "stdout",
     "output_type": "stream",
     "text": [
      "####### Fold:  9\n"
     ]
    },
    {
     "name": "stderr",
     "output_type": "stream",
     "text": [
      "100%|██████████| 10/10 [20:58<00:00, 125.81s/it]"
     ]
    },
    {
     "name": "stdout",
     "output_type": "stream",
     "text": [
      "--------------- KNeighborsClassifier --------------- \n",
      "\n",
      "Accuracy scores: ['0.96040', '0.95806', '0.96266', '0.96443', '0.96217', '0.95967', '0.95975', '0.96153', '0.96322', '0.96137']\n",
      "Mean accuracy score: 0.961328\n",
      "\n",
      "decamer 100 Accuracy score: ['0.80693', '0.78743', '0.80473', '0.81572', '0.81052', '0.79127', '0.80458', '0.81455', '0.80909', '0.80496']\n",
      "Mean accuracy decamer 100 score: 0.804978\n",
      "\n",
      "decamer 1000 Accuracy score: ['0.86376', '0.87299', '0.89109', '0.88814', '0.87736', '0.88361', '0.86322', '0.87319', '0.89166', '0.88200']\n",
      "Mean accuracy decamer 1000 score: 0.878703\n",
      "\n",
      "decamer 100000 Accuracy score: ['0.99979', '0.99958', '0.99979', '0.99958', '1.00000', '0.99979', '1.00000', '0.99978', '0.99979', '0.99979']\n",
      "Mean accuracy decamer 100000 score: 0.999788\n",
      "\n",
      "decamer 1000000 Accuracy score: ['1.00000', '1.00000', '1.00000', '1.00000', '1.00000', '1.00000', '1.00000', '1.00000', '1.00000', '1.00000']\n",
      "Mean accuracy decamer 1000000 score: 1.000000\n",
      "\n"
     ]
    },
    {
     "name": "stderr",
     "output_type": "stream",
     "text": [
      "\n"
     ]
    }
   ],
   "source": [
    "model = KNeighborsClassifier(n_jobs=-1,metric='manhattan',weights='distance',n_neighbors=2)\n",
    "\n",
    "early_model(train_df, model, weight=False)"
   ]
  },
  {
   "attachments": {},
   "cell_type": "markdown",
   "metadata": {},
   "source": [
    "모든 모델에서 100000, 1000000에서 매우 높은 정확도를 보여주나\n",
    "\n",
    "100, 1000에서는 성능이 낮은것을 확인\n",
    "\n",
    "특히 클러스터링이 좀 더 좋은 성능을 보여줄것으로 예측했으나 특성공학과 적절한 알고리즘을 적용하지 못하여 점수가 낮음"
   ]
  },
  {
   "attachments": {},
   "cell_type": "markdown",
   "metadata": {},
   "source": [
    "## 적용하지 못한 특성공학들."
   ]
  },
  {
   "attachments": {},
   "cell_type": "markdown",
   "metadata": {},
   "source": [
    "유전자의 돌연변이는 쉽게 일어날 수 있는 돌연변이와 어려운 돌연변이가 있음\n",
    "\n",
    "A에서 T가 되는건 쉬운데 A에서 C가되는건 어려움\n",
    "\n",
    "이러한 특성을 이용해서 거리를 측정할 때 A9T0G0C1 은 A9T0G1C0과는 가깝다 볼 수 있지만 A9T1G0C0은 가깝다 보기 어려움\n",
    "\n",
    "Earth Movers Distance (EMD) 두 개의 확률 분포 간의 차이를 측정하는 메트릭\n",
    "\n",
    "EMD을 이용하여 변수들간 거리를 만들어 줄 수 있음\n",
    "\n",
    "--------------------------------------------------------------"
   ]
  },
  {
   "attachments": {},
   "cell_type": "markdown",
   "metadata": {},
   "source": [
    "박태리아의 플라스미드 크기는 1kbp ~ 1000kbp등으로 다양\n",
    "\n",
    "하지만 100 decamers로는 1kbp임으로 플라스미드의 모든 정보를 가지고 있다 보기 힘듬\n",
    "\n",
    "즉 100, 1000 decamers들은 즉 업스케일링된 데이터일 가능성이 매우 높음"
   ]
  },
  {
   "cell_type": "code",
   "execution_count": 74,
   "metadata": {},
   "outputs": [],
   "source": [
    "copied_df = train_df.copy()\n",
    "selected_data = copied_df[(copied_df['gcd'] == 10000) | (copied_df['gcd'] == 1000)].iloc[:, :-4] / 2\n",
    "selected_data = selected_data.astype(int)\n",
    "copied_df.loc[selected_data.index, selected_data.columns] = selected_data"
   ]
  },
  {
   "cell_type": "code",
   "execution_count": 77,
   "metadata": {},
   "outputs": [
    {
     "name": "stderr",
     "output_type": "stream",
     "text": [
      "  0%|          | 0/10 [00:00<?, ?it/s]"
     ]
    },
    {
     "name": "stdout",
     "output_type": "stream",
     "text": [
      "####### Fold:  0\n"
     ]
    },
    {
     "name": "stderr",
     "output_type": "stream",
     "text": [
      " 10%|█         | 1/10 [00:10<01:33, 10.43s/it]"
     ]
    },
    {
     "name": "stdout",
     "output_type": "stream",
     "text": [
      "####### Fold:  1\n"
     ]
    },
    {
     "name": "stderr",
     "output_type": "stream",
     "text": [
      " 20%|██        | 2/10 [00:20<01:20, 10.04s/it]"
     ]
    },
    {
     "name": "stdout",
     "output_type": "stream",
     "text": [
      "####### Fold:  2\n"
     ]
    },
    {
     "name": "stderr",
     "output_type": "stream",
     "text": [
      " 30%|███       | 3/10 [00:30<01:09,  9.96s/it]"
     ]
    },
    {
     "name": "stdout",
     "output_type": "stream",
     "text": [
      "####### Fold:  3\n"
     ]
    },
    {
     "name": "stderr",
     "output_type": "stream",
     "text": [
      " 40%|████      | 4/10 [00:39<00:59,  9.95s/it]"
     ]
    },
    {
     "name": "stdout",
     "output_type": "stream",
     "text": [
      "####### Fold:  4\n"
     ]
    },
    {
     "name": "stderr",
     "output_type": "stream",
     "text": [
      " 50%|█████     | 5/10 [00:50<00:50, 10.00s/it]"
     ]
    },
    {
     "name": "stdout",
     "output_type": "stream",
     "text": [
      "####### Fold:  5\n"
     ]
    },
    {
     "name": "stderr",
     "output_type": "stream",
     "text": [
      " 60%|██████    | 6/10 [01:00<00:39,  9.98s/it]"
     ]
    },
    {
     "name": "stdout",
     "output_type": "stream",
     "text": [
      "####### Fold:  6\n"
     ]
    },
    {
     "name": "stderr",
     "output_type": "stream",
     "text": [
      " 70%|███████   | 7/10 [01:09<00:29,  9.96s/it]"
     ]
    },
    {
     "name": "stdout",
     "output_type": "stream",
     "text": [
      "####### Fold:  7\n"
     ]
    },
    {
     "name": "stderr",
     "output_type": "stream",
     "text": [
      " 80%|████████  | 8/10 [01:19<00:19,  9.90s/it]"
     ]
    },
    {
     "name": "stdout",
     "output_type": "stream",
     "text": [
      "####### Fold:  8\n"
     ]
    },
    {
     "name": "stderr",
     "output_type": "stream",
     "text": [
      " 90%|█████████ | 9/10 [01:29<00:10, 10.00s/it]"
     ]
    },
    {
     "name": "stdout",
     "output_type": "stream",
     "text": [
      "####### Fold:  9\n"
     ]
    },
    {
     "name": "stderr",
     "output_type": "stream",
     "text": [
      "100%|██████████| 10/10 [01:39<00:00,  9.96s/it]"
     ]
    },
    {
     "name": "stdout",
     "output_type": "stream",
     "text": [
      "--------------- ExtraTreesClassifier --------------- \n",
      "\n",
      "Accuracy scores: ['0.95078', '0.95047', '0.95140', '0.95485', '0.95189', '0.94925', '0.94667', '0.94873', '0.94661', '0.94310']\n",
      "Mean accuracy score: 0.949376\n",
      "\n",
      "decamer 100 Accuracy score: ['0.88153', '0.88678', '0.88348', '0.90068', '0.87913', '0.86968', '0.88410', '0.87267', '0.87893', '0.86772']\n",
      "Mean accuracy decamer 100 score: 0.880469\n",
      "\n",
      "decamer 1000 Accuracy score: ['0.92128', '0.91343', '0.92076', '0.91660', '0.92922', '0.92428', '0.90402', '0.92243', '0.91035', '0.90945']\n",
      "Mean accuracy decamer 1000 score: 0.917181\n",
      "\n",
      "decamer 100000 Accuracy score: ['1.00000', '1.00000', '1.00000', '1.00000', '1.00000', '1.00000', '1.00000', '1.00000', '1.00000', '1.00000']\n",
      "Mean accuracy decamer 100000 score: 1.000000\n",
      "\n",
      "decamer 1000000 Accuracy score: ['1.00000', '1.00000', '1.00000', '1.00000', '1.00000', '1.00000', '1.00000', '1.00000', '1.00000', '1.00000']\n",
      "Mean accuracy decamer 1000000 score: 1.000000\n",
      "\n"
     ]
    },
    {
     "name": "stderr",
     "output_type": "stream",
     "text": [
      "\n"
     ]
    }
   ],
   "source": [
    "model = ExtraTreesClassifier(n_estimators=300, n_jobs=-1)\n",
    "\n",
    "early_model(copied_df, model)"
   ]
  }
 ],
 "metadata": {
  "kernelspec": {
   "display_name": "'Mashine_Learning'",
   "language": "python",
   "name": "machine_learning"
  },
  "language_info": {
   "codemirror_mode": {
    "name": "ipython",
    "version": 3
   },
   "file_extension": ".py",
   "mimetype": "text/x-python",
   "name": "python",
   "nbconvert_exporter": "python",
   "pygments_lexer": "ipython3",
   "version": "3.8.16"
  },
  "orig_nbformat": 4
 },
 "nbformat": 4,
 "nbformat_minor": 2
}
